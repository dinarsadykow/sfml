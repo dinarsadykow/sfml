{
 "cells": [
  {
   "cell_type": "markdown",
   "metadata": {},
   "source": [
    "### Состав команды:\n",
    "\n",
    "- Поляков Александр (Aleksandr Polyakov)\n",
    "- Востриков Алексей (Alexey Vostrikoff)\n",
    "- Садыков Динар (Dinar_Sadykow)\n",
    "- Федотов Андрей (Andrei Fedotov)\n",
    "- Каштанкина Ксения\n",
    "- Овчинников Алексей (Aleksey)\n",
    "- Пьянков Алексей\n",
    "- Лукошко Роберт (Robert)\n",
    "- Поперечный Богдан (Bogdan2105)"
   ]
  },
  {
   "cell_type": "markdown",
   "metadata": {},
   "source": [
    "# Шаг 1. Подготовка данных\n",
    "\n"
   ]
  },
  {
   "cell_type": "code",
   "execution_count": 119,
   "metadata": {},
   "outputs": [],
   "source": [
    "import pandas as pd\n",
    "import numpy as np\n",
    "import matplotlib.pyplot as plt\n",
    "from ipywidgets import interact, IntSlider, FloatSlider\n",
    "from sklearn.preprocessing import StandardScaler\n",
    "from sklearn.pipeline import Pipeline\n",
    "from sklearn.neighbors import KNeighborsClassifier\n",
    "from sklearn.linear_model import LogisticRegression\n",
    "from sklearn.tree import DecisionTreeClassifier\n",
    "from sklearn.model_selection import train_test_split\n",
    "from sklearn.metrics import roc_auc_score\n",
    "from sklearn.tree import export_graphviz\n",
    "import subprocess\n",
    "from scipy.stats import randint as randint\n",
    "from scipy.stats import uniform\n",
    "from sklearn.metrics import precision_score, recall_score, accuracy_score, classification_report\n",
    "from sklearn.metrics import roc_auc_score, roc_curve\n",
    "\n",
    "try:\n",
    "    from sklearn.model_selection import GridSearchCV\n",
    "    from sklearn.model_selection import RandomizedSearchCV\n",
    "    from sklearn.model_selection import StratifiedKFold\n",
    "except ImportError:\n",
    "    from sklearn.cross_validation import GridSearchCV\n",
    "    from sklearn.cross_validation import RandomizedSearchCV\n",
    "    from sklearn.cross_validation import StratifiedKFold\n",
    "\n",
    "try:\n",
    "    from sklearn.model_selection import validation_curve\n",
    "except ImportError:\n",
    "    from sklearn.learning_curve import validation_curve\n",
    "\n",
    "try:\n",
    "    from sklearn.model_selection import StratifiedKFold\n",
    "except ImportError:\n",
    "    from sklearn.cross_validation import StratifiedKFold"
   ]
  },
  {
   "cell_type": "code",
   "execution_count": 134,
   "metadata": {},
   "outputs": [],
   "source": [
    "%matplotlib inline\n",
    "\n",
    "plt.style.use('ggplot')\n",
    "plt.rcParams['figure.figsize'] = (12,8)\n",
    "\n",
    "sample_submission = pd.read_csv('sample_submission.csv',',')\n",
    "train = pd.read_csv('train.csv',',')\n",
    "test  = pd.read_csv('test.csv',',')"
   ]
  },
  {
   "cell_type": "code",
   "execution_count": 135,
   "metadata": {},
   "outputs": [],
   "source": [
    "age_conv = pd.pivot_table(train, index = 'age', columns = 'target', values = '_id', aggfunc = 'count').reset_index().fillna(0)\n",
    "age_conv['conversion'] = age_conv[1]/(age_conv[1]+age_conv[0])\n",
    "\n",
    "# бины даммисами и мёрджить конверсию\n",
    "\n",
    "job_conv = pd.pivot_table(train, index = 'job', columns = 'target', values = '_id', aggfunc = 'count').reset_index().fillna(0)\n",
    "job_conv['conversion'] = job_conv[1]/(job_conv[1]+job_conv[0])\n",
    "\n",
    "# даммисы + конверсию"
   ]
  },
  {
   "cell_type": "code",
   "execution_count": 136,
   "metadata": {},
   "outputs": [],
   "source": [
    "marital_conv = pd.pivot_table(train, index = 'marital', columns = 'target', values = '_id', aggfunc = 'count').reset_index().fillna(0)\n",
    "marital_conv['conversion'] = marital_conv[1]/(marital_conv[1]+marital_conv[0])\n",
    "\n",
    "# даммисы + конверсию\n",
    "\n",
    "education_conv = pd.pivot_table(train, index = 'education', columns = 'target', values = '_id', aggfunc = 'count').reset_index().fillna(0)\n",
    "education_conv['conversion'] = education_conv[1]/(education_conv[1]+education_conv[0])\n",
    "\n",
    "# даммисы + конверсию\n",
    "\n",
    "housing_conv = pd.pivot_table(train, index = 'housing', columns = 'target', values = '_id', aggfunc = 'count').reset_index().fillna(0)\n",
    "housing_conv['conversion'] = housing_conv[1]/(housing_conv[1]+housing_conv[0])\n",
    "\n",
    "#делаем даммисами и потом дропаем\n",
    "\n",
    "loan_conv = pd.pivot_table(train, index = 'loan', columns = 'target', values = '_id', aggfunc = 'count').reset_index().fillna(0)\n",
    "loan_conv['conversion'] = loan_conv[1]/(loan_conv[1]+loan_conv[0])\n",
    "\n",
    "#делаем даммисами и потом дропаем\n",
    "\n",
    "contact_conv = pd.pivot_table(train, index = 'contact', columns = 'target', values = '_id', aggfunc = 'count').reset_index().fillna(0)\n",
    "contact_conv['conversion'] = contact_conv[1]/(contact_conv[1]+contact_conv[0])\n",
    "\n",
    "# даммисы + конверсию\n",
    "\n",
    "month_conv = pd.pivot_table(train, index = 'month', columns = 'target', values = '_id', aggfunc = 'count').reset_index().fillna(0)\n",
    "month_conv['conversion'] = month_conv[1]/(month_conv[1]+month_conv[0])\n",
    "\n",
    "# даммисы + конверсию\n",
    "\n",
    "day_of_week_conv = pd.pivot_table(train, index = 'day_of_week', columns = 'target', values = '_id', aggfunc = 'count').reset_index().fillna(0)\n",
    "day_of_week_conv['conversion'] = day_of_week_conv[1]/(day_of_week_conv[1]+day_of_week_conv[0])\n",
    "\n",
    "# делаем даммисами = мерджить с коэф конверсии\n",
    "\n",
    "poutcome_conv = pd.pivot_table(train, index = 'poutcome', columns = 'target', values = '_id', aggfunc = 'count').reset_index().fillna(0)\n",
    "poutcome_conv['conversion'] = poutcome_conv[1]/(poutcome_conv[1]+poutcome_conv[0])\n",
    "\n",
    "# poutcome сделать бинарной переменной - success = 1, else = 0 "
   ]
  },
  {
   "cell_type": "code",
   "execution_count": 137,
   "metadata": {},
   "outputs": [],
   "source": [
    "bins = [10,30,40,50,60,100]\n",
    "age_conv['age_bin'] = pd.cut(age_conv['age'], bins, right=False, labels=None, retbins=False, precision=3, include_lowest=False)"
   ]
  },
  {
   "cell_type": "code",
   "execution_count": 199,
   "metadata": {},
   "outputs": [
    {
     "name": "stdout",
     "output_type": "stream",
     "text": [
      "{0, 1, 2, 3, 4, 5, 6, 7, 8, 9, 10, 11, 12, 13, 14, 15, 16, 17, 18, 19, 20, 21, 22, 25, 27, 999}\n",
      "\n",
      "=============\n",
      "\n",
      "{0, 1, 2, 3, 4, 5, 6, 7, 8, 9, 10, 11, 12, 13, 14, 15, 16, 17, 18, 19, 21, 22, 26, 999}\n"
     ]
    }
   ],
   "source": [
    "print(set(train['pdays']))\n",
    "print('\\n=============\\n')\n",
    "print(set(test['pdays']))"
   ]
  },
  {
   "cell_type": "code",
   "execution_count": 206,
   "metadata": {},
   "outputs": [
    {
     "data": {
      "text/html": [
       "<div>\n",
       "<style scoped>\n",
       "    .dataframe tbody tr th:only-of-type {\n",
       "        vertical-align: middle;\n",
       "    }\n",
       "\n",
       "    .dataframe tbody tr th {\n",
       "        vertical-align: top;\n",
       "    }\n",
       "\n",
       "    .dataframe thead th {\n",
       "        text-align: right;\n",
       "    }\n",
       "</style>\n",
       "<table border=\"1\" class=\"dataframe\">\n",
       "  <thead>\n",
       "    <tr style=\"text-align: right;\">\n",
       "      <th>target</th>\n",
       "      <th>pdays_bin</th>\n",
       "      <th>pdays</th>\n",
       "      <th>0</th>\n",
       "      <th>1</th>\n",
       "      <th>conversion</th>\n",
       "    </tr>\n",
       "  </thead>\n",
       "  <tbody>\n",
       "    <tr>\n",
       "      <th>0</th>\n",
       "      <td>[0, 1)</td>\n",
       "      <td>0</td>\n",
       "      <td>1.0</td>\n",
       "      <td>5.0</td>\n",
       "      <td>0.833333</td>\n",
       "    </tr>\n",
       "    <tr>\n",
       "      <th>1</th>\n",
       "      <td>[1, 2)</td>\n",
       "      <td>1</td>\n",
       "      <td>11.0</td>\n",
       "      <td>6.0</td>\n",
       "      <td>0.352941</td>\n",
       "    </tr>\n",
       "    <tr>\n",
       "      <th>2</th>\n",
       "      <td>[2, 30)</td>\n",
       "      <td>304</td>\n",
       "      <td>296.0</td>\n",
       "      <td>563.0</td>\n",
       "      <td>0.655413</td>\n",
       "    </tr>\n",
       "    <tr>\n",
       "      <th>3</th>\n",
       "      <td>[30, 1000)</td>\n",
       "      <td>999</td>\n",
       "      <td>21617.0</td>\n",
       "      <td>2213.0</td>\n",
       "      <td>0.092866</td>\n",
       "    </tr>\n",
       "  </tbody>\n",
       "</table>\n",
       "</div>"
      ],
      "text/plain": [
       "target   pdays_bin  pdays        0       1  conversion\n",
       "0           [0, 1)      0      1.0     5.0    0.833333\n",
       "1           [1, 2)      1     11.0     6.0    0.352941\n",
       "2          [2, 30)    304    296.0   563.0    0.655413\n",
       "3       [30, 1000)    999  21617.0  2213.0    0.092866"
      ]
     },
     "execution_count": 206,
     "metadata": {},
     "output_type": "execute_result"
    }
   ],
   "source": [
    "bins = [0,1,2,30,1000]\n",
    "pdays_conv = pd.pivot_table(train, index = 'pdays', columns = 'target', values = '_id', aggfunc = 'count').reset_index().fillna(0)\n",
    "pdays_conv['conversion'] = pdays_conv[1]/(pdays_conv[1]+pdays_conv[0])\n",
    "pdays_conv['pdays_bin'] = pd.cut(pdays_conv['pdays'], bins, right=False, labels=None, retbins=False, precision=3, include_lowest=False)\n",
    "pdays_conv_bin = pdays_conv.sort_values('pdays', ascending=False).groupby('pdays_bin').sum().reset_index()\n",
    "pdays_conv_bin['conversion'] = pdays_conv_bin[1]/(pdays_conv_bin[1]+pdays_conv_bin[0])\n",
    "pdays_conv_bin"
   ]
  },
  {
   "cell_type": "code",
   "execution_count": 207,
   "metadata": {},
   "outputs": [
    {
     "name": "stdout",
     "output_type": "stream",
     "text": [
      "{0, 1, 3, 4, 5, 6, 7, 8, 9, 10, 11, 12, 13, 14, 15, 16, 17, 18, 19, 20, 21, 22, 23, 24, 25, 26, 27, 28, 29, 30, 31, 32, 33, 34, 35, 36, 37, 38, 39, 40, 41, 42, 43, 44, 45, 46, 47, 48, 49, 50, 51, 52, 53, 54, 55, 56, 57, 58, 59, 60, 61, 62, 63, 64, 65, 66, 67, 68, 69, 70, 71, 72, 73, 74, 75, 76, 77, 78, 79, 80, 81, 82, 83, 84, 85, 86, 87, 88, 89, 90, 91, 92, 93, 94, 95, 96, 97, 98, 99, 100, 101, 102, 103, 104, 105, 106, 107, 108, 109, 110, 111, 112, 113, 114, 115, 116, 117, 118, 119, 120, 121, 122, 123, 124, 125, 126, 127, 128, 129, 130, 131, 132, 133, 134, 135, 136, 137, 138, 139, 140, 141, 142, 143, 144, 145, 146, 147, 148, 149, 150, 151, 152, 153, 154, 155, 156, 157, 158, 159, 160, 161, 162, 163, 164, 165, 166, 167, 168, 169, 170, 171, 172, 173, 174, 175, 176, 177, 178, 179, 180, 181, 182, 183, 184, 185, 186, 187, 188, 189, 190, 191, 192, 193, 194, 195, 196, 197, 198, 199, 200, 201, 202, 203, 204, 205, 206, 207, 208, 209, 210, 211, 212, 213, 214, 215, 216, 217, 218, 219, 220, 221, 222, 223, 224, 225, 226, 227, 228, 229, 230, 231, 232, 233, 234, 235, 236, 237, 238, 239, 240, 241, 242, 243, 244, 245, 246, 247, 248, 249, 250, 251, 252, 253, 254, 255, 256, 257, 258, 259, 260, 261, 262, 263, 264, 265, 266, 267, 268, 269, 270, 271, 272, 273, 274, 275, 276, 277, 278, 279, 280, 281, 282, 283, 284, 285, 286, 287, 288, 289, 290, 291, 292, 293, 294, 295, 296, 297, 298, 299, 300, 301, 302, 303, 304, 305, 306, 307, 308, 309, 310, 311, 312, 313, 314, 315, 316, 317, 318, 319, 320, 321, 322, 323, 324, 325, 326, 327, 328, 329, 330, 331, 332, 333, 334, 335, 336, 337, 338, 339, 340, 341, 342, 343, 344, 345, 346, 347, 348, 349, 350, 351, 352, 353, 354, 355, 356, 357, 358, 359, 360, 361, 362, 363, 364, 365, 366, 367, 368, 369, 370, 371, 372, 373, 374, 375, 376, 377, 378, 379, 380, 381, 382, 383, 384, 385, 386, 387, 388, 389, 390, 391, 392, 393, 394, 395, 396, 397, 398, 399, 400, 401, 402, 403, 404, 405, 406, 407, 408, 409, 410, 411, 412, 413, 414, 415, 416, 417, 418, 419, 420, 421, 422, 423, 424, 425, 426, 427, 428, 429, 430, 431, 432, 433, 434, 435, 436, 437, 438, 439, 440, 441, 442, 443, 444, 445, 446, 447, 448, 449, 450, 451, 452, 453, 454, 455, 456, 457, 458, 459, 460, 461, 462, 463, 464, 465, 466, 467, 468, 469, 470, 471, 472, 473, 474, 475, 476, 477, 478, 479, 480, 481, 482, 483, 484, 485, 486, 487, 488, 489, 490, 491, 492, 493, 494, 495, 496, 497, 498, 499, 500, 501, 502, 503, 504, 505, 506, 507, 508, 509, 510, 511, 512, 513, 514, 515, 516, 517, 518, 519, 520, 521, 522, 523, 524, 525, 526, 527, 528, 529, 530, 531, 532, 533, 534, 535, 536, 537, 538, 539, 540, 541, 542, 543, 544, 545, 546, 547, 548, 549, 550, 551, 552, 553, 554, 555, 556, 557, 558, 559, 560, 561, 562, 563, 564, 565, 566, 567, 568, 569, 570, 571, 572, 573, 574, 575, 576, 577, 578, 579, 580, 581, 582, 583, 584, 585, 586, 587, 588, 589, 590, 591, 592, 593, 594, 595, 596, 597, 598, 599, 600, 601, 602, 603, 604, 605, 606, 607, 608, 609, 610, 611, 612, 613, 614, 615, 616, 617, 618, 619, 620, 621, 622, 623, 624, 625, 626, 627, 628, 629, 630, 631, 632, 633, 634, 635, 636, 637, 638, 639, 640, 641, 642, 643, 644, 645, 646, 647, 648, 649, 650, 651, 652, 653, 654, 655, 656, 657, 658, 659, 660, 661, 662, 663, 664, 665, 666, 667, 668, 669, 670, 671, 672, 673, 674, 675, 676, 677, 678, 679, 680, 681, 682, 683, 684, 685, 686, 687, 688, 689, 690, 691, 692, 693, 694, 695, 696, 697, 698, 699, 700, 701, 702, 703, 704, 705, 706, 707, 708, 709, 710, 711, 712, 713, 714, 715, 716, 717, 718, 719, 720, 721, 722, 723, 724, 725, 726, 727, 728, 729, 730, 731, 732, 733, 734, 735, 736, 737, 738, 739, 740, 741, 742, 743, 744, 745, 746, 747, 748, 749, 750, 752, 753, 754, 755, 756, 757, 758, 759, 761, 762, 763, 764, 765, 766, 767, 768, 769, 770, 771, 772, 773, 774, 775, 776, 777, 778, 779, 780, 781, 782, 783, 784, 785, 786, 787, 788, 789, 790, 791, 792, 793, 794, 795, 796, 797, 798, 799, 800, 801, 802, 803, 804, 805, 806, 807, 808, 809, 810, 811, 812, 813, 814, 815, 816, 817, 818, 819, 820, 821, 822, 823, 824, 825, 826, 827, 828, 829, 830, 831, 832, 833, 834, 835, 836, 837, 838, 839, 840, 841, 843, 844, 846, 847, 848, 849, 850, 851, 852, 853, 854, 855, 856, 857, 858, 860, 861, 862, 863, 864, 866, 867, 868, 869, 870, 871, 873, 874, 876, 877, 878, 879, 880, 881, 882, 883, 884, 885, 886, 888, 889, 890, 891, 892, 893, 894, 895, 896, 897, 898, 899, 900, 901, 902, 903, 904, 905, 906, 907, 908, 909, 910, 911, 912, 913, 915, 916, 917, 918, 919, 920, 921, 922, 923, 925, 926, 927, 928, 929, 930, 932, 933, 935, 936, 938, 939, 940, 942, 943, 944, 945, 946, 947, 949, 951, 952, 953, 954, 955, 956, 957, 958, 959, 960, 961, 962, 963, 964, 965, 966, 967, 968, 970, 971, 972, 973, 974, 975, 976, 977, 978, 979, 980, 982, 983, 984, 985, 986, 987, 988, 989, 990, 992, 993, 994, 996, 997, 999, 1000, 1002, 1003, 1007, 1008, 1009, 1010, 1011, 1012, 1013, 1014, 1015, 1017, 1018, 1019, 1020, 1022, 1024, 1025, 1026, 1027, 1028, 1030, 1031, 1032, 1033, 1034, 1036, 1037, 1038, 1040, 1042, 1043, 1044, 1045, 1046, 1047, 1048, 1049, 1051, 1052, 1054, 1055, 1056, 1057, 1058, 1059, 1060, 1061, 1062, 1063, 1064, 1065, 1068, 1070, 1071, 1072, 1073, 1074, 1076, 1078, 1079, 1080, 1081, 1082, 1083, 1084, 1085, 1087, 1088, 1089, 1090, 1091, 1092, 1093, 1094, 1096, 1097, 1098, 1099, 1100, 1101, 1102, 1103, 1104, 1105, 1106, 1109, 1110, 1111, 1112, 1117, 1118, 1119, 1120, 1121, 1122, 1123, 1125, 1126, 1127, 1128, 1129, 1130, 1131, 1132, 1133, 1134, 1135, 1136, 1137, 1138, 1139, 1140, 1141, 1142, 1143, 1144, 1145, 1147, 1148, 1149, 1150, 1151, 1152, 1154, 1156, 1161, 1162, 1167, 1168, 1169, 1170, 1171, 1173, 1175, 1176, 1178, 1182, 1183, 1184, 1185, 1187, 1190, 1193, 1195, 1196, 1197, 1199, 1200, 1201, 1203, 1205, 1206, 1207, 1208, 1210, 1211, 1212, 1214, 1217, 1220, 1221, 1222, 1223, 1224, 1225, 1226, 1228, 1230, 1231, 1233, 1238, 1239, 1240, 1241, 1242, 1243, 1244, 1245, 1246, 1248, 1252, 1254, 1256, 1257, 1258, 1259, 1260, 1262, 1263, 1268, 1271, 1272, 1275, 1276, 1279, 1282, 1286, 1288, 1291, 1297, 1303, 1306, 1307, 1309, 1311, 1313, 1317, 1318, 1319, 1321, 1323, 1326, 1327, 1329, 1330, 1332, 1334, 1336, 1339, 1340, 1341, 1344, 1347, 1348, 1352, 1353, 1356, 1357, 1359, 1360, 1361, 1363, 1364, 1365, 1366, 1368, 1369, 1370, 1372, 1373, 1386, 1388, 1389, 1390, 1391, 1392, 1394, 1397, 1398, 1405, 1407, 1408, 1411, 1422, 1424, 1425, 1426, 1432, 1434, 1435, 1439, 1441, 1447, 1448, 1452, 1456, 1460, 1461, 1462, 1464, 1468, 1469, 1471, 1472, 1473, 1476, 1478, 1487, 1489, 1490, 1491, 1492, 1495, 1499, 1500, 1503, 1504, 1505, 1508, 1512, 1516, 1521, 1529, 1530, 1531, 1532, 1534, 1540, 1543, 1545, 1551, 1552, 1555, 1556, 1559, 1567, 1569, 1571, 1573, 1576, 1579, 1580, 1584, 1590, 1594, 1598, 1602, 1606, 1608, 1613, 1616, 1617, 1623, 1624, 1628, 1640, 1642, 1662, 1663, 1665, 1666, 1673, 1713, 1720, 1721, 1723, 1730, 1739, 1740, 1756, 1767, 1776, 1777, 1788, 1804, 1806, 1816, 1817, 1820, 1833, 1834, 1842, 1848, 1855, 1868, 1869, 1871, 1877, 1880, 1906, 1954, 1958, 1960, 1970, 1973, 1975, 1978, 1994, 2015, 2016, 2028, 2029, 2033, 2035, 2062, 2089, 2093, 2129, 2184, 2187, 2203, 2231, 2260, 2299, 2316, 2372, 2453, 2462, 2621, 2635, 2653, 2680, 2692, 2769, 3076, 3078, 3253, 3284, 3322, 3366, 3631, 3643, 3785, 4199, 4918}\n",
      "\n",
      "=============\n",
      "\n",
      "{1, 2, 3, 4, 5, 6, 7, 2055, 9, 10, 11, 12, 13, 14, 15, 16, 17, 18, 19, 20, 21, 22, 23, 24, 25, 26, 27, 28, 29, 30, 31, 32, 33, 34, 35, 36, 37, 38, 39, 40, 41, 42, 43, 44, 45, 46, 47, 48, 49, 50, 51, 52, 53, 54, 55, 56, 57, 58, 59, 60, 61, 62, 63, 64, 65, 66, 67, 68, 69, 70, 71, 72, 73, 74, 75, 76, 77, 78, 79, 80, 81, 82, 83, 84, 85, 86, 87, 88, 89, 90, 91, 92, 93, 94, 95, 96, 97, 98, 99, 100, 101, 102, 103, 104, 105, 106, 107, 108, 109, 110, 111, 112, 113, 114, 115, 116, 117, 118, 119, 120, 121, 122, 123, 124, 125, 126, 127, 128, 129, 130, 131, 132, 133, 134, 135, 136, 137, 138, 139, 140, 141, 142, 143, 144, 145, 146, 147, 148, 149, 150, 151, 152, 153, 154, 155, 156, 157, 158, 159, 160, 161, 162, 163, 164, 165, 166, 167, 168, 169, 170, 171, 172, 173, 174, 175, 176, 177, 178, 179, 180, 181, 182, 183, 184, 185, 186, 187, 188, 189, 190, 191, 192, 193, 194, 195, 196, 197, 198, 199, 200, 201, 202, 203, 204, 205, 206, 207, 208, 209, 210, 211, 212, 213, 214, 215, 216, 217, 218, 219, 220, 221, 222, 223, 224, 225, 226, 227, 228, 229, 230, 231, 232, 233, 234, 235, 236, 237, 238, 239, 240, 241, 242, 243, 244, 245, 246, 247, 248, 249, 250, 251, 252, 253, 254, 255, 256, 257, 258, 259, 260, 261, 262, 263, 264, 265, 266, 267, 268, 269, 270, 271, 272, 273, 274, 275, 276, 277, 278, 279, 280, 281, 282, 283, 284, 285, 286, 287, 288, 289, 290, 291, 292, 293, 294, 295, 296, 297, 298, 299, 300, 301, 302, 303, 304, 305, 306, 307, 308, 309, 310, 311, 312, 313, 314, 315, 316, 317, 318, 319, 320, 321, 322, 323, 324, 325, 326, 327, 328, 329, 330, 331, 332, 333, 334, 335, 336, 337, 338, 339, 340, 341, 342, 343, 344, 345, 346, 347, 348, 349, 350, 351, 352, 353, 354, 355, 356, 357, 358, 359, 360, 361, 362, 363, 364, 365, 366, 367, 368, 369, 370, 371, 2420, 372, 374, 375, 376, 377, 373, 379, 380, 381, 378, 383, 384, 385, 386, 387, 388, 382, 390, 391, 392, 393, 394, 395, 396, 397, 398, 399, 400, 401, 402, 403, 404, 405, 406, 407, 408, 409, 410, 411, 412, 413, 414, 415, 416, 417, 418, 419, 420, 421, 422, 423, 424, 425, 426, 427, 428, 429, 430, 431, 432, 433, 434, 435, 436, 437, 438, 439, 440, 441, 442, 443, 444, 445, 446, 447, 448, 449, 450, 451, 452, 453, 454, 455, 456, 457, 458, 459, 460, 461, 462, 463, 464, 465, 466, 467, 468, 469, 470, 471, 472, 473, 474, 475, 476, 477, 479, 480, 481, 482, 483, 484, 485, 486, 487, 488, 489, 490, 491, 492, 493, 494, 495, 496, 497, 498, 499, 500, 501, 502, 503, 504, 505, 506, 507, 508, 509, 510, 511, 512, 513, 514, 515, 516, 517, 518, 519, 520, 521, 522, 2139, 524, 525, 526, 527, 528, 529, 530, 531, 532, 533, 534, 535, 536, 537, 538, 539, 540, 541, 542, 543, 544, 545, 546, 547, 548, 549, 550, 551, 552, 553, 554, 555, 556, 557, 558, 559, 560, 561, 562, 563, 564, 565, 566, 567, 568, 569, 570, 571, 572, 573, 574, 575, 576, 577, 578, 579, 580, 581, 582, 583, 584, 585, 586, 587, 588, 589, 590, 591, 592, 593, 594, 595, 596, 597, 598, 599, 600, 601, 602, 603, 604, 605, 606, 607, 608, 609, 610, 611, 612, 613, 614, 615, 616, 617, 618, 619, 620, 621, 622, 623, 624, 625, 626, 627, 628, 629, 630, 631, 632, 633, 634, 635, 636, 637, 638, 639, 640, 641, 642, 643, 644, 645, 646, 647, 648, 649, 650, 651, 652, 653, 654, 655, 656, 657, 658, 659, 660, 661, 662, 663, 664, 665, 666, 667, 668, 669, 670, 671, 672, 673, 674, 675, 676, 677, 678, 679, 680, 681, 682, 683, 684, 685, 686, 687, 688, 689, 690, 691, 692, 693, 694, 695, 696, 697, 698, 699, 700, 2122, 702, 703, 704, 705, 706, 707, 708, 709, 710, 711, 712, 713, 714, 715, 716, 717, 718, 719, 720, 721, 722, 723, 724, 725, 726, 727, 728, 729, 730, 731, 732, 733, 734, 735, 736, 737, 738, 739, 740, 741, 742, 743, 744, 746, 747, 748, 749, 750, 751, 752, 753, 754, 755, 756, 757, 758, 759, 760, 761, 762, 763, 764, 765, 766, 767, 768, 770, 771, 772, 773, 774, 775, 776, 777, 779, 780, 781, 782, 783, 784, 2191, 786, 787, 788, 789, 790, 791, 792, 793, 794, 795, 796, 797, 798, 799, 800, 801, 802, 803, 804, 805, 806, 808, 809, 810, 811, 812, 813, 814, 815, 816, 818, 819, 820, 821, 822, 823, 824, 825, 826, 827, 828, 829, 830, 831, 832, 833, 834, 835, 836, 837, 838, 841, 843, 844, 845, 847, 848, 849, 850, 851, 852, 853, 854, 855, 856, 857, 858, 859, 860, 861, 862, 863, 864, 865, 867, 869, 870, 871, 872, 873, 874, 875, 523, 876, 878, 2926, 880, 881, 882, 883, 884, 885, 886, 888, 889, 890, 891, 892, 893, 894, 895, 896, 897, 898, 899, 901, 902, 903, 904, 905, 906, 908, 910, 911, 912, 913, 915, 916, 920, 921, 922, 923, 924, 2219, 926, 925, 930, 931, 932, 933, 934, 935, 936, 937, 938, 939, 940, 941, 942, 943, 944, 945, 946, 947, 949, 950, 951, 952, 953, 954, 955, 956, 957, 958, 961, 962, 963, 967, 968, 969, 971, 972, 973, 974, 976, 978, 979, 981, 982, 983, 984, 985, 986, 988, 991, 992, 993, 994, 996, 997, 998, 1000, 1001, 1002, 1003, 1005, 1007, 1009, 1011, 1012, 1013, 1014, 1015, 1017, 1018, 1019, 1020, 1021, 1023, 1024, 1025, 1028, 1029, 1030, 8, 1031, 1032, 1034, 1035, 1036, 1037, 1038, 1039, 1041, 1042, 1044, 3094, 1046, 1049, 1051, 1053, 1058, 1059, 1060, 1061, 1062, 1063, 1064, 1065, 1066, 1067, 1070, 1071, 1075, 1077, 2078, 1081, 1083, 1084, 1085, 1087, 1088, 1089, 1090, 1091, 2053, 1093, 1094, 1092, 1096, 1097, 1095, 1100, 1101, 2486, 1106, 1108, 1110, 1111, 1114, 1120, 1121, 1122, 1124, 1127, 1129, 1130, 1132, 1134, 3183, 1138, 1139, 1141, 1143, 1144, 1147, 1148, 1149, 1150, 1152, 1153, 1156, 1161, 1164, 1165, 1166, 1171, 1174, 1176, 1178, 1180, 1181, 1184, 1186, 1187, 1190, 1191, 1192, 1193, 1195, 1200, 1201, 1202, 1204, 1205, 1206, 1208, 1210, 1212, 1218, 1221, 1222, 1223, 1224, 1226, 1227, 1230, 1231, 1232, 1234, 1236, 1237, 1241, 1242, 1248, 1250, 1254, 1255, 1258, 1259, 1265, 1266, 1267, 1269, 1271, 1272, 1273, 1276, 1277, 1281, 1283, 1285, 1287, 1288, 1290, 1293, 1294, 1298, 1300, 1302, 1307, 2087, 1310, 1313, 1319, 1327, 1328, 1329, 1330, 1331, 1332, 1333, 1336, 1337, 2301, 1340, 1342, 1345, 1346, 1349, 1353, 1357, 1359, 1363, 1369, 1373, 3422, 1374, 1376, 1380, 1386, 1388, 1389, 1395, 1397, 1399, 1408, 1410, 1412, 1416, 1422, 1423, 1426, 1437, 1438, 1440, 1446, 1448, 1449, 1452, 3509, 1461, 1463, 1467, 1476, 1479, 1480, 1488, 1502, 1503, 1514, 1516, 1528, 1529, 1548, 1550, 1554, 1563, 1567, 1573, 1574, 1575, 1576, 1579, 1581, 1597, 1602, 1603, 1611, 1615, 1618, 1622, 1642, 1649, 1669, 1677, 1681, 1689, 1692, 1697, 1707, 1710, 1720, 1721, 1735, 2456, 1745, 1805, 1806, 1809, 1850, 1855, 2516, 1867, 1877, 1882, 785, 2870, 1925, 1934, 1946, 1957, 389, 1962, 1966, 1980, 2429, 1992, 2016, 2025}\n"
     ]
    }
   ],
   "source": [
    "print(set(train['duration']))\n",
    "print('\\n=============\\n')\n",
    "print(set(test['duration']))"
   ]
  },
  {
   "cell_type": "code",
   "execution_count": 220,
   "metadata": {},
   "outputs": [
    {
     "data": {
      "text/html": [
       "<div>\n",
       "<style scoped>\n",
       "    .dataframe tbody tr th:only-of-type {\n",
       "        vertical-align: middle;\n",
       "    }\n",
       "\n",
       "    .dataframe tbody tr th {\n",
       "        vertical-align: top;\n",
       "    }\n",
       "\n",
       "    .dataframe thead th {\n",
       "        text-align: right;\n",
       "    }\n",
       "</style>\n",
       "<table border=\"1\" class=\"dataframe\">\n",
       "  <thead>\n",
       "    <tr style=\"text-align: right;\">\n",
       "      <th>target</th>\n",
       "      <th>duration_bin</th>\n",
       "      <th>duration</th>\n",
       "      <th>0</th>\n",
       "      <th>1</th>\n",
       "      <th>conversion</th>\n",
       "    </tr>\n",
       "  </thead>\n",
       "  <tbody>\n",
       "    <tr>\n",
       "      <th>0</th>\n",
       "      <td>[0, 37)</td>\n",
       "      <td>664</td>\n",
       "      <td>1250.0</td>\n",
       "      <td>0.0</td>\n",
       "      <td>0.000000</td>\n",
       "    </tr>\n",
       "    <tr>\n",
       "      <th>1</th>\n",
       "      <td>[37, 70)</td>\n",
       "      <td>1749</td>\n",
       "      <td>2007.0</td>\n",
       "      <td>8.0</td>\n",
       "      <td>0.003970</td>\n",
       "    </tr>\n",
       "    <tr>\n",
       "      <th>2</th>\n",
       "      <td>[70, 200)</td>\n",
       "      <td>17485</td>\n",
       "      <td>9907.0</td>\n",
       "      <td>407.0</td>\n",
       "      <td>0.039461</td>\n",
       "    </tr>\n",
       "    <tr>\n",
       "      <th>3</th>\n",
       "      <td>[200, 500)</td>\n",
       "      <td>104850</td>\n",
       "      <td>7062.0</td>\n",
       "      <td>1123.0</td>\n",
       "      <td>0.137202</td>\n",
       "    </tr>\n",
       "    <tr>\n",
       "      <th>4</th>\n",
       "      <td>[500, 1000)</td>\n",
       "      <td>354781</td>\n",
       "      <td>1460.0</td>\n",
       "      <td>908.0</td>\n",
       "      <td>0.383446</td>\n",
       "    </tr>\n",
       "    <tr>\n",
       "      <th>5</th>\n",
       "      <td>[1000, 2000)</td>\n",
       "      <td>487882</td>\n",
       "      <td>225.0</td>\n",
       "      <td>317.0</td>\n",
       "      <td>0.584871</td>\n",
       "    </tr>\n",
       "    <tr>\n",
       "      <th>6</th>\n",
       "      <td>[2000, 4000)</td>\n",
       "      <td>89984</td>\n",
       "      <td>13.0</td>\n",
       "      <td>23.0</td>\n",
       "      <td>0.638889</td>\n",
       "    </tr>\n",
       "    <tr>\n",
       "      <th>7</th>\n",
       "      <td>[4000, 5000)</td>\n",
       "      <td>9117</td>\n",
       "      <td>1.0</td>\n",
       "      <td>1.0</td>\n",
       "      <td>0.500000</td>\n",
       "    </tr>\n",
       "  </tbody>\n",
       "</table>\n",
       "</div>"
      ],
      "text/plain": [
       "target  duration_bin  duration       0       1  conversion\n",
       "0            [0, 37)       664  1250.0     0.0    0.000000\n",
       "1           [37, 70)      1749  2007.0     8.0    0.003970\n",
       "2          [70, 200)     17485  9907.0   407.0    0.039461\n",
       "3         [200, 500)    104850  7062.0  1123.0    0.137202\n",
       "4        [500, 1000)    354781  1460.0   908.0    0.383446\n",
       "5       [1000, 2000)    487882   225.0   317.0    0.584871\n",
       "6       [2000, 4000)     89984    13.0    23.0    0.638889\n",
       "7       [4000, 5000)      9117     1.0     1.0    0.500000"
      ]
     },
     "execution_count": 220,
     "metadata": {},
     "output_type": "execute_result"
    }
   ],
   "source": [
    "bins = [0,37,70,200,500,1000,2000,4000,5000]\n",
    "duration_conv = pd.pivot_table(train, index = 'duration', columns = 'target', values = '_id', aggfunc = 'count').reset_index().fillna(0)\n",
    "duration_conv['conversion'] = duration_conv[1]/(duration_conv[1]+duration_conv[0])\n",
    "duration_conv['duration_bin'] = pd.cut(duration_conv['duration'], bins, right=False, labels=None, retbins=False, precision=3, include_lowest=False)\n",
    "duration_conv_bin = duration_conv.sort_values('duration', ascending=False).groupby('duration_bin').sum().reset_index()\n",
    "duration_conv_bin['conversion'] = duration_conv_bin[1]/(duration_conv_bin[1]+duration_conv_bin[0])\n",
    "duration_conv_bin"
   ]
  },
  {
   "cell_type": "code",
   "execution_count": 138,
   "metadata": {},
   "outputs": [
    {
     "data": {
      "text/html": [
       "<div>\n",
       "<style scoped>\n",
       "    .dataframe tbody tr th:only-of-type {\n",
       "        vertical-align: middle;\n",
       "    }\n",
       "\n",
       "    .dataframe tbody tr th {\n",
       "        vertical-align: top;\n",
       "    }\n",
       "\n",
       "    .dataframe thead th {\n",
       "        text-align: right;\n",
       "    }\n",
       "</style>\n",
       "<table border=\"1\" class=\"dataframe\">\n",
       "  <thead>\n",
       "    <tr style=\"text-align: right;\">\n",
       "      <th>target</th>\n",
       "      <th>age_bin</th>\n",
       "      <th>age</th>\n",
       "      <th>0</th>\n",
       "      <th>1</th>\n",
       "      <th>conversion</th>\n",
       "    </tr>\n",
       "  </thead>\n",
       "  <tbody>\n",
       "    <tr>\n",
       "      <th>0</th>\n",
       "      <td>[10, 30)</td>\n",
       "      <td>299</td>\n",
       "      <td>2821.0</td>\n",
       "      <td>563.0</td>\n",
       "      <td>0.166371</td>\n",
       "    </tr>\n",
       "    <tr>\n",
       "      <th>1</th>\n",
       "      <td>[30, 40)</td>\n",
       "      <td>345</td>\n",
       "      <td>9180.0</td>\n",
       "      <td>1024.0</td>\n",
       "      <td>0.100353</td>\n",
       "    </tr>\n",
       "    <tr>\n",
       "      <th>2</th>\n",
       "      <td>[40, 50)</td>\n",
       "      <td>445</td>\n",
       "      <td>5785.0</td>\n",
       "      <td>496.0</td>\n",
       "      <td>0.078968</td>\n",
       "    </tr>\n",
       "    <tr>\n",
       "      <th>3</th>\n",
       "      <td>[50, 60)</td>\n",
       "      <td>545</td>\n",
       "      <td>3715.0</td>\n",
       "      <td>433.0</td>\n",
       "      <td>0.104388</td>\n",
       "    </tr>\n",
       "    <tr>\n",
       "      <th>4</th>\n",
       "      <td>[60, 100)</td>\n",
       "      <td>2611</td>\n",
       "      <td>424.0</td>\n",
       "      <td>271.0</td>\n",
       "      <td>0.389928</td>\n",
       "    </tr>\n",
       "  </tbody>\n",
       "</table>\n",
       "</div>"
      ],
      "text/plain": [
       "target    age_bin   age       0       1  conversion\n",
       "0        [10, 30)   299  2821.0   563.0    0.166371\n",
       "1        [30, 40)   345  9180.0  1024.0    0.100353\n",
       "2        [40, 50)   445  5785.0   496.0    0.078968\n",
       "3        [50, 60)   545  3715.0   433.0    0.104388\n",
       "4       [60, 100)  2611   424.0   271.0    0.389928"
      ]
     },
     "execution_count": 138,
     "metadata": {},
     "output_type": "execute_result"
    }
   ],
   "source": [
    "age_conv_bin = age_conv.sort_values('age', ascending=False).groupby('age_bin').sum().reset_index()\n",
    "age_conv_bin['conversion'] = age_conv_bin[1]/(age_conv_bin[1]+age_conv_bin[0])\n",
    "age_conv_bin"
   ]
  },
  {
   "cell_type": "code",
   "execution_count": 172,
   "metadata": {},
   "outputs": [
    {
     "name": "stderr",
     "output_type": "stream",
     "text": [
      "/Users/aleksandrpolakov/anaconda3/lib/python3.6/site-packages/ipykernel_launcher.py:3: FutureWarning: Sorting because non-concatenation axis is not aligned. A future version\n",
      "of pandas will change to not sort by default.\n",
      "\n",
      "To accept the future behavior, pass 'sort=True'.\n",
      "\n",
      "To retain the current behavior and silence the warning, pass sort=False\n",
      "\n",
      "  This is separate from the ipykernel package so we can avoid doing imports until\n"
     ]
    }
   ],
   "source": [
    "train.loc[:, 'sample'] = 'train'\n",
    "test.loc[:, 'sample'] = 'test'\n",
    "df = pd.concat([test, train]).reset_index(drop = True)\n",
    "\n",
    "\n",
    "def get_conversion (df_input, column):\n",
    "    df_output = df_input.copy()\n",
    "    df_output = pd.pivot_table(df_output, index = column, columns = 'target', values = '_id', aggfunc = 'count').reset_index().fillna(0)\n",
    "    df_output['{}_conversion'.format(column)] = 100*df_output[1]/(df_output[1]+df_output[0])\n",
    "    return df_output\n",
    "    \n",
    "    \n",
    "def preproc(df_input):\n",
    "    object_list = []\n",
    "    df_output = df_input.copy()\n",
    "    bins = [10,30,40,50,60,100]\n",
    "    df_output['age_bin'] = pd.cut(df_output['age'], bins, right=False, labels=None, retbins=False, precision=3, include_lowest=False)\n",
    "    df_output['age_bin'] = df_output['age_bin'].astype(str)\n",
    "    list_of_conversion = ['age_bin', 'job', 'marital', 'education', 'contact', 'month', 'day_of_week','duration']\n",
    "    for i in list_of_conversion:\n",
    "        df_conv = get_conversion (df_output[df_output['sample'] == 'train'], i)\n",
    "        df_output = df_output.merge(df_conv[[i,'{}_conversion'.format(i)]], on = i, how = 'left')\n",
    "    #df_output = pd.get_dummies(df_output, columns = ['age_bin'])\n",
    "    #df_output.loc[df_output.pdays == 999, 'is_contact'] = 0\n",
    "    #df_output.loc[df_output.pdays >= 0, 'is_contact'] = 1 # пилим pdays\n",
    "    #df_output.loc[df_output.poutcome == 'success', 'is_success'] = 1\n",
    "    #df_output['is_success'] = df_output['is_success'].fillna(0)    \n",
    "    list_of_drop = ['duration','euribor3m','emp.var.rate','cons.price.idx','nr.employed','cons.conf.idx','housing', 'loan', 'age','default', 'poutcome','age_bin', 'job', 'marital', 'education', 'contact', 'month', 'day_of_week']\n",
    "    df_output = df_output.drop(list_of_drop, axis = 'columns')\n",
    "    for i in df_output.columns:# перебираем все столбцы\n",
    "        if i == 'target':\n",
    "            break\n",
    "        #print(i)\n",
    "        if (str(df_output[i].dtype) == 'object') and (i != '_id') and (i != 'sample') : # если тип столбца - object\n",
    "            print(i)\n",
    "            object_list.append(i)\n",
    "    #df_output = pd.get_dummies(df_output, columns = object_list)           \n",
    "    return df_output\n",
    "\n",
    "\n",
    "df = preproc(df)\n",
    "df_preproc = df"
   ]
  },
  {
   "cell_type": "code",
   "execution_count": 173,
   "metadata": {},
   "outputs": [
    {
     "name": "stdout",
     "output_type": "stream",
     "text": [
      "<class 'pandas.core.frame.DataFrame'>\n",
      "Int64Index: 41188 entries, 0 to 41187\n",
      "Data columns (total 14 columns):\n",
      "_id                       41188 non-null object\n",
      "campaign                  41188 non-null int64\n",
      "pdays                     41188 non-null int64\n",
      "previous                  41188 non-null int64\n",
      "sample                    41188 non-null object\n",
      "target                    24712 non-null float64\n",
      "age_bin_conversion        41188 non-null float64\n",
      "job_conversion            41188 non-null float64\n",
      "marital_conversion        41188 non-null float64\n",
      "education_conversion      41188 non-null float64\n",
      "contact_conversion        41188 non-null float64\n",
      "month_conversion          41188 non-null float64\n",
      "day_of_week_conversion    41188 non-null float64\n",
      "duration_conversion       40976 non-null float64\n",
      "dtypes: float64(9), int64(3), object(2)\n",
      "memory usage: 4.7+ MB\n"
     ]
    }
   ],
   "source": [
    "df.info()"
   ]
  },
  {
   "cell_type": "code",
   "execution_count": 174,
   "metadata": {},
   "outputs": [
    {
     "name": "stdout",
     "output_type": "stream",
     "text": [
      "X train  (24712, 11)\n",
      "Y train  24712\n",
      "X test  (16476, 11)\n",
      "Y test  16476\n"
     ]
    }
   ],
   "source": [
    "\n",
    "\n",
    "df_train_preproc = df_preproc.query('sample == \"train\"').drop(['sample'], axis=1)\n",
    "df_test_preproc = df_preproc.query('sample == \"test\"').drop(['sample'], axis=1)\n",
    "\n",
    "df_y_train = list(df_train_preproc['target'])\n",
    "df_x_train = df_train_preproc.drop(['_id','target'], axis = 1)\n",
    "df_y_test = list(df_test_preproc['target']) # здесь неизвестные значения Nan - которые нужно найти\n",
    "df_x_test = df_test_preproc.drop(['_id','target'], axis = 1) # здесь входные параметры\n",
    "print('X train ', df_x_train.shape)\n",
    "print('Y train ', len(df_y_train))\n",
    "print('X test ',df_x_test.shape)\n",
    "print('Y test ', len(df_y_test))"
   ]
  },
  {
   "cell_type": "code",
   "execution_count": 175,
   "metadata": {},
   "outputs": [
    {
     "name": "stdout",
     "output_type": "stream",
     "text": [
      "X_train  (16557, 11)\n",
      "X_test  (8155, 11)\n"
     ]
    }
   ],
   "source": [
    "from sklearn.cross_validation import train_test_split\n",
    "from sklearn.linear_model import LogisticRegression  # импортируем модель машинного обучения\n",
    "from sklearn.metrics import precision_score, recall_score, accuracy_score, classification_report\n",
    "from sklearn.metrics import roc_auc_score, roc_curve\n",
    "\n",
    "X_train, X_test, y_train, y = train_test_split(df_x_train, df_y_train, test_size=0.33, random_state=42)\n",
    "print('X_train ', X_train.shape)\n",
    "print('X_test ',X_test.shape)"
   ]
  },
  {
   "cell_type": "code",
   "execution_count": 176,
   "metadata": {},
   "outputs": [
    {
     "name": "stdout",
     "output_type": "stream",
     "text": [
      "########## >>> KNeighborsClassifier <<< ########## \n",
      "              precision    recall  f1-score   support\n",
      "\n",
      "        0.0       0.94      0.97      0.95      7230\n",
      "        1.0       0.67      0.48      0.56       925\n",
      "\n",
      "avg / total       0.91      0.91      0.91      8155\n",
      " \n",
      "\n"
     ]
    }
   ],
   "source": [
    "from sklearn.preprocessing import StandardScaler\n",
    "from sklearn.pipeline import Pipeline\n",
    "from sklearn.neighbors import KNeighborsClassifier\n",
    "from sklearn.model_selection import train_test_split\n",
    "\n",
    "model0 = Pipeline([\n",
    "    ('scaler', StandardScaler()),\n",
    "    ('knn', KNeighborsClassifier(n_neighbors=5))\n",
    "])\n",
    "\n",
    "model0.fit(X_train, y_train)\n",
    "\n",
    "predict = model0.predict(X_test)                      # делаем предсказание\n",
    "# dict_model ['KNeighborsClassifier']= [precision_score(y, predict), recall_score(y, predict), accuracy_score(y, predict)]\n",
    "print('#'*10,'>>> KNeighborsClassifier <<<','#'*10,'\\n',classification_report(y, predict),'\\n')\n"
   ]
  },
  {
   "cell_type": "code",
   "execution_count": 177,
   "metadata": {},
   "outputs": [
    {
     "name": "stdout",
     "output_type": "stream",
     "text": [
      "########## >>> KNeighborsClassifier <<< ########## \n",
      "              precision    recall  f1-score   support\n",
      "\n",
      "        0.0       0.93      0.98      0.95      7230\n",
      "        1.0       0.71      0.43      0.53       925\n",
      "\n",
      "avg / total       0.91      0.92      0.91      8155\n",
      " \n",
      "\n"
     ]
    }
   ],
   "source": [
    "# from sklearn.neighbors import KNeighborsClassifier\n",
    "# from sklearn.cross_validation import train_test_split\n",
    "\n",
    "dict_model = {}\n",
    "\n",
    "model1 = KNeighborsClassifier(n_neighbors=4, weights='uniform', p=2, metric='euclidean')\n",
    "model1.fit(X_train, y_train)\n",
    "\n",
    "predict = model1.predict(X_test)                      # делаем предсказание\n",
    "dict_model ['KNeighborsClassifier']= [precision_score(y, predict), recall_score(y, predict), accuracy_score(y, predict)]\n",
    "print('#'*10,'>>> KNeighborsClassifier <<<','#'*10,'\\n',classification_report(y, predict),'\\n')"
   ]
  },
  {
   "cell_type": "code",
   "execution_count": 178,
   "metadata": {},
   "outputs": [
    {
     "data": {
      "text/plain": [
       "Text(0,0.5,'ROC AUC')"
      ]
     },
     "execution_count": 178,
     "metadata": {},
     "output_type": "execute_result"
    },
    {
     "data": {
      "image/png": "[encoded data removed]",
      "text/plain": [
       "<Figure size 864x576 with 1 Axes>"
      ]
     },
     "metadata": {},
     "output_type": "display_data"
    }
   ],
   "source": [
    "from sklearn.tree import DecisionTreeClassifier\n",
    "from sklearn.tree import export_graphviz\n",
    "from ipywidgets import interact, IntSlider\n",
    "import subprocess\n",
    "\n",
    "try:\n",
    "    from sklearn.model_selection import validation_curve\n",
    "except ImportError:\n",
    "    from sklearn.learning_curve import validation_curve\n",
    "\n",
    "try:\n",
    "    from sklearn.model_selection import StratifiedKFold\n",
    "except ImportError:\n",
    "    from sklearn.cross_validation import StratifiedKFold\n",
    "\n",
    "# ---------------------------------------------------------------------\n",
    "# ищем максимальную точность на графике max_depth\n",
    "\n",
    "model2 = DecisionTreeClassifier(random_state=123)\n",
    "model2.fit(X_train, y_train)\n",
    "\n",
    "cv = StratifiedKFold(n_splits=5, shuffle=True, random_state=132)\n",
    "train_scores, valid_scores = validation_curve(model2, X_train, y_train, \n",
    "                                              'max_depth', range(1, 10),\n",
    "                                              cv=cv, scoring='roc_auc')\n",
    "train_score_mean = train_scores.mean(axis=1)\n",
    "train_score_std = train_scores.std(axis=1)\n",
    "valid_scores_mean = valid_scores.mean(axis=1)\n",
    "valid_scores_std = valid_scores.std(axis=1)\n",
    "\n",
    "plt.fill_between(range(1,10), train_score_mean-train_score_std, train_score_mean+train_score_std, color='b',\n",
    "                 interpolate=True, alpha=0.5,)\n",
    "plt.fill_between(range(1,10), valid_scores_mean-valid_scores_std, valid_scores_mean+valid_scores_std, color='r', \n",
    "                 interpolate=True, alpha=0.5)\n",
    "\n",
    "plt.plot(range(1,10), train_score_mean, c='b', lw=2) #синяя линия обучающая выборка\n",
    "plt.plot(range(1,10), valid_scores_mean, c='r', lw=2) #красная линяя - валидационная выборка\n",
    "\n",
    "plt.xlabel('max depth')\n",
    "plt.ylabel('ROC AUC')\n",
    "\n",
    "# это значит, что мы будем проверять влияние параметра max_depth\n",
    "# в дапозоне от 1 до 10\n",
    "# и для этого мы будем использовать 5-fold кросс-валидацию\n",
    "# с мерой качества mean_absolute_error.\n",
    "# neg_ потому что по умолчанию в sklearn чем значение меры выше - тем лучше, \n",
    "# но в нашем случае нам нужно как раз допускать меньшую ошибку\n",
    "# ---------------------------------------------------------------------"
   ]
  },
  {
   "cell_type": "code",
   "execution_count": 182,
   "metadata": {},
   "outputs": [
    {
     "name": "stdout",
     "output_type": "stream",
     "text": [
      "########## >>> DecisionTreeClassifier <<< ########## \n",
      "              precision    recall  f1-score   support\n",
      "\n",
      "        0.0       0.94      0.98      0.96      7230\n",
      "        1.0       0.72      0.48      0.58       925\n",
      "\n",
      "avg / total       0.91      0.92      0.91      8155\n",
      " \n",
      "\n"
     ]
    }
   ],
   "source": [
    "depth=6 #видно из графика\n",
    "\n",
    "model2 = DecisionTreeClassifier(max_depth = depth, random_state=123)\n",
    "model2.fit(X_train, y_train)\n",
    "\n",
    "predict = model2.predict(X_test)                      # делаем предсказание\n",
    "dict_model ['DecisionTreeClassifier']= [precision_score(y, predict), recall_score(y, predict), accuracy_score(y, predict)]\n",
    "print('#'*10,'>>> DecisionTreeClassifier <<<','#'*10,'\\n',classification_report(y, predict),'\\n')"
   ]
  },
  {
   "cell_type": "code",
   "execution_count": 183,
   "metadata": {},
   "outputs": [
    {
     "name": "stdout",
     "output_type": "stream",
     "text": [
      "########## >>> LogisticRegression <<< ########## \n",
      "              precision    recall  f1-score   support\n",
      "\n",
      "        0.0       0.94      0.98      0.96      7230\n",
      "        1.0       0.73      0.48      0.58       925\n",
      "\n",
      "avg / total       0.91      0.92      0.91      8155\n",
      " \n",
      "\n"
     ]
    }
   ],
   "source": [
    "model3_1 = LogisticRegression()                     # инициализируем модель\n",
    "model3_1.fit(X_train, y_train)                      # обучаем модель\n",
    "predict = model3_1.predict(X_test)                      # делаем предсказание\n",
    "dict_model ['LogisticRegression']= [precision_score(y, predict), recall_score(y, predict), accuracy_score(y, predict)]\n",
    "print('#'*10,'>>> LogisticRegression <<<','#'*10,'\\n',classification_report(y, predict),'\\n')"
   ]
  },
  {
   "cell_type": "code",
   "execution_count": 184,
   "metadata": {},
   "outputs": [
    {
     "name": "stdout",
     "output_type": "stream",
     "text": [
      "########## >>> LogisticRegression <<< ########## \n",
      "              precision    recall  f1-score   support\n",
      "\n",
      "        0.0       0.97      0.88      0.93      7230\n",
      "        1.0       0.48      0.82      0.60       925\n",
      "\n",
      "avg / total       0.92      0.88      0.89      8155\n",
      " \n",
      "\n"
     ]
    }
   ],
   "source": [
    "model3_2 = LogisticRegression(class_weight='balanced')                     # инициализируем модель\n",
    "model3_2.fit(X_train, y_train)                      # обучаем модель\n",
    "predict = model3_2.predict(X_test)                      # делаем предсказание\n",
    "dict_model ['LogisticRegression']= [precision_score(y, predict), recall_score(y, predict), accuracy_score(y, predict)]\n",
    "print('#'*10,'>>> LogisticRegression <<<','#'*10,'\\n',classification_report(y, predict),'\\n')"
   ]
  },
  {
   "cell_type": "code",
   "execution_count": 185,
   "metadata": {},
   "outputs": [
    {
     "data": {
      "text/plain": [
       "0.9318845650629883"
      ]
     },
     "execution_count": 185,
     "metadata": {},
     "output_type": "execute_result"
    }
   ],
   "source": [
    "model3_2_proba = model3_2.predict_proba(X_test )\n",
    "roc_auc_score(y, model3_2_proba[:, 1])"
   ]
  },
  {
   "cell_type": "code",
   "execution_count": 186,
   "metadata": {},
   "outputs": [
    {
     "data": {
      "text/plain": [
       "0.9275731000710254"
      ]
     },
     "execution_count": 186,
     "metadata": {},
     "output_type": "execute_result"
    }
   ],
   "source": [
    "model3_1_proba = model3_1.predict_proba(X_test )\n",
    "roc_auc_score(y, model3_1_proba[:, 1])"
   ]
  },
  {
   "cell_type": "code",
   "execution_count": 187,
   "metadata": {},
   "outputs": [
    {
     "data": {
      "text/plain": [
       "(-0.01, 1.01)"
      ]
     },
     "execution_count": 187,
     "metadata": {},
     "output_type": "execute_result"
    },
    {
     "data": {
      "image/png": "[encoded data removed]",
      "text/plain": [
       "<Figure size 360x720 with 2 Axes>"
      ]
     },
     "metadata": {},
     "output_type": "display_data"
    }
   ],
   "source": [
    "plt.figure(figsize=(5, 10))\n",
    "\n",
    "#subplot 1\n",
    "plt.subplot(211)\n",
    "predict_proba1 = model3_1.predict_proba(X_test)\n",
    "fpr, tpr, thresholds = roc_curve(y, predict_proba1[:,1])\n",
    "plt.plot(fpr, tpr)\n",
    "plt.plot([0, 1], [0, 1])\n",
    "plt.ylabel('tpr')\n",
    "plt.xlabel('fpr')\n",
    "plt.grid(True)\n",
    "plt.title('model3_1_proba / ROC curve')\n",
    "plt.xlim((-0.01, 1.01))\n",
    "plt.ylim((-0.01, 1.01))\n",
    "\n",
    "#subplot 2\n",
    "plt.subplot(212)\n",
    "predict_proba2 = model3_2.predict_proba(X_test)\n",
    "fpr, tpr, thresholds = roc_curve(y, predict_proba2[:,1])\n",
    "plt.plot(fpr, tpr);\n",
    "plt.plot([0, 1], [0, 1])\n",
    "plt.ylabel('tpr')\n",
    "plt.xlabel('fpr')\n",
    "plt.axis('equal')\n",
    "plt.grid(True)\n",
    "plt.title('model3_2_proba / ROC curve')\n",
    "plt.xlim((-0.01, 1.01))\n",
    "plt.ylim((-0.01, 1.01))"
   ]
  },
  {
   "cell_type": "code",
   "execution_count": 188,
   "metadata": {},
   "outputs": [
    {
     "name": "stdout",
     "output_type": "stream",
     "text": [
      "########## >>> AVG roc_auc for Train: <<< ########## \n",
      "model3_1. LogisticRegression\t\t\t\t0.9277                         \n",
      "model3_2. LogisticRegression (class_weight=balanced) \t0.9317\n"
     ]
    }
   ],
   "source": [
    "from sklearn.cross_validation import cross_val_score\n",
    "# Сделать k-fold (10 фолдов) кросс-валидацию каждой модели\n",
    "# И посчитать средний roc_auc\n",
    "\n",
    "cross3_1 = cross_val_score(model3_1,df_x_train,df_y_train,scoring='roc_auc', cv=10)\n",
    "cross3_2 = cross_val_score(model3_2,df_x_train,df_y_train,scoring='roc_auc', cv=10)\n",
    "\n",
    "\n",
    "print('#'*10,'>>> AVG roc_auc for Train: <<<','#'*10,\n",
    "      '\\nmodel3_1. LogisticRegression\\t\\t\\t\\t{:.4f}                   \\\n",
    "      \\nmodel3_2. LogisticRegression (class_weight=balanced) \\t{:.4f}'\n",
    "      .format( (sum(cross3_1) / float(len(cross3_1))),\n",
    "              (sum(cross3_2) / float(len(cross3_2))),\n",
    "             ) )"
   ]
  },
  {
   "cell_type": "code",
   "execution_count": 189,
   "metadata": {},
   "outputs": [
    {
     "name": "stdout",
     "output_type": "stream",
     "text": [
      "########## >>> DecisionTreeClassifier random_search <<< ########## \n",
      "              precision    recall  f1-score   support\n",
      "\n",
      "        0.0       0.94      0.97      0.96      7230\n",
      "        1.0       0.71      0.48      0.58       925\n",
      "\n",
      "avg / total       0.91      0.92      0.91      8155\n",
      " \n",
      "\n"
     ]
    }
   ],
   "source": [
    "from scipy.stats import randint as randint\n",
    "from scipy.stats import uniform\n",
    "\n",
    "try:\n",
    "    from sklearn.model_selection import GridSearchCV\n",
    "    from sklearn.model_selection import RandomizedSearchCV\n",
    "    from sklearn.model_selection import StratifiedKFold\n",
    "except ImportError:\n",
    "    from sklearn.cross_validation import GridSearchCV\n",
    "    from sklearn.cross_validation import RandomizedSearchCV\n",
    "    from sklearn.cross_validation import StratifiedKFold\n",
    "\n",
    "# Определим пространство поиска\n",
    "\n",
    "param_grid = {\n",
    "    'criterion': ['gini', 'entropy'], #критерии\n",
    "    'max_depth': randint(2, 8), #максимальная глубина от 2 до 8\n",
    "    'min_samples_leaf': randint(5, 10), #минимальное количество объектов в вершие дерева, достаточное чтоб дробить дерево на части\n",
    "    'class_weight': [None, 'balanced']} #объекты классов, которые недопредставлены в выборке, будет взвешивать и балансировать\n",
    "\n",
    "# Некоторые параметры мы задали не простым перечислением значений, а с помощью распределений.\n",
    "\n",
    "# Будем делать 200 запусков поиска\n",
    "cv = StratifiedKFold(n_splits=5, random_state=123, shuffle=True)\n",
    "\n",
    "model4 = DecisionTreeClassifier(random_state=123)\n",
    "random_search = RandomizedSearchCV(model4, param_distributions=param_grid, n_iter=200, n_jobs=-1,\n",
    "                                   cv=cv, scoring='roc_auc', random_state=123) #200 переборов, n_jobs=-1 дает параллельное вычисление\n",
    "# А дальше, просто .fit()\n",
    "random_search.fit(X_train, y_train)\n",
    "model4best = random_search.best_estimator_\n",
    "\n",
    "predict = model4best.predict(X_test)                      # делаем предсказание\n",
    "dict_model ['DecisionTreeClassifier random_search']= [precision_score(y, predict), recall_score(y, predict), accuracy_score(y, predict)]\n",
    "print('#'*10,'>>> DecisionTreeClassifier random_search <<<','#'*10,'\\n',classification_report(y, predict),'\\n')"
   ]
  },
  {
   "cell_type": "code",
   "execution_count": 190,
   "metadata": {},
   "outputs": [
    {
     "data": {
      "text/plain": [
       "0.9218218384359462"
      ]
     },
     "execution_count": 190,
     "metadata": {},
     "output_type": "execute_result"
    }
   ],
   "source": [
    "model4_proba = random_search.predict_proba(X_test )\n",
    "roc_auc_score(y, model4_proba[:, 1])"
   ]
  },
  {
   "cell_type": "code",
   "execution_count": 191,
   "metadata": {},
   "outputs": [
    {
     "data": {
      "image/png": "[encoded data removed]",
      "text/plain": [
       "<Figure size 1080x1080 with 4 Axes>"
      ]
     },
     "metadata": {},
     "output_type": "display_data"
    }
   ],
   "source": [
    "# Потроить roc-кривые всех можелей на одном графике\n",
    "# Вывести roc_auc каждой моделе\n",
    "# Подпишите оси и линии\n",
    "\n",
    "plt.figure(figsize=(15, 15))\n",
    "\n",
    "#subplot 1\n",
    "plt.subplot(221)\n",
    "predict_proba1 = model1.predict_proba(X_test)\n",
    "fpr, tpr, thresholds = roc_curve(y, predict_proba1[:,1])\n",
    "plt.plot(fpr, tpr)\n",
    "plt.plot([0, 1], [0, 1])\n",
    "plt.ylabel('tpr')\n",
    "plt.xlabel('fpr')\n",
    "plt.grid(True)\n",
    "plt.title('KNeighborsClassifier / ROC curve')\n",
    "plt.xlim((-0.01, 1.01))\n",
    "plt.ylim((-0.01, 1.01))\n",
    "\n",
    "#subplot 2\n",
    "plt.subplot(222)\n",
    "predict_proba2 = model2.predict_proba(X_test)\n",
    "fpr, tpr, thresholds = roc_curve(y, predict_proba2[:,1])\n",
    "plt.plot(fpr, tpr);\n",
    "plt.plot([0, 1], [0, 1])\n",
    "plt.ylabel('tpr')\n",
    "plt.xlabel('fpr')\n",
    "plt.axis('equal')\n",
    "plt.grid(True)\n",
    "plt.title('DecisionTreeClassifier / ROC curve')\n",
    "plt.xlim((-0.01, 1.01))\n",
    "plt.ylim((-0.01, 1.01))\n",
    "\n",
    "#subplot 3\n",
    "plt.subplot(223)\n",
    "predict_proba3_2 = model3_2.predict_proba(X_test)\n",
    "fpr, tpr, thresholds = roc_curve(y, predict_proba3_2[:,1])\n",
    "plt.plot(fpr, tpr)\n",
    "plt.plot([0, 1], [0, 1])\n",
    "plt.ylabel('tpr')\n",
    "plt.xlabel('fpr')\n",
    "plt.grid(True)\n",
    "plt.title('LogisticRegression (class_weight=balanced) / ROC curve')\n",
    "plt.xlim((-0.01, 1.01))\n",
    "plt.ylim((-0.01, 1.01))\n",
    "\n",
    "#subplot 4\n",
    "plt.subplot(224)\n",
    "predict_proba3 = model4best.predict_proba(X_test)\n",
    "fpr, tpr, thresholds = roc_curve(y, predict_proba3[:,1])\n",
    "plt.plot(fpr, tpr)\n",
    "plt.plot([0, 1], [0, 1])\n",
    "plt.ylabel('tpr')\n",
    "plt.xlabel('fpr')\n",
    "plt.grid(True)\n",
    "plt.title('DecisionTreeClassifier random_search/ ROC curve')\n",
    "plt.xlim((-0.01, 1.01))\n",
    "plt.ylim((-0.01, 1.01))\n",
    "plt.show()"
   ]
  },
  {
   "cell_type": "code",
   "execution_count": 192,
   "metadata": {},
   "outputs": [
    {
     "name": "stdout",
     "output_type": "stream",
     "text": [
      "########## >>> AVG roc_auc for Train: <<< ########## \n",
      "Model 1. KNeighborsClassifier\t\t\t0.8606                         \n",
      "Model 2. DecisionTreeClassifier\t\t\t0.8976                        \n",
      "Model 3. LogisticRegression (class_weight=balanced) \t0.9317                            \n",
      "Model 4. DecisionTreeClassifier random_search\t0.9274 \n"
     ]
    }
   ],
   "source": [
    "from sklearn.cross_validation import cross_val_score\n",
    "# Сделать k-fold (10 фолдов) кросс-валидацию каждой модели\n",
    "# И посчитать средний roc_auc\n",
    "\n",
    "cross1 = cross_val_score(model1,df_x_train,df_y_train,scoring='roc_auc', cv=10)\n",
    "cross2 = cross_val_score(model2,df_x_train,df_y_train,scoring='roc_auc', cv=10)\n",
    "cross3 = cross_val_score(model3_2,df_x_train,df_y_train,scoring='roc_auc', cv=10)\n",
    "cross4 = cross_val_score(model4best,df_x_train,df_y_train,scoring='roc_auc', cv=10)\n",
    "\n",
    "print('#'*10,'>>> AVG roc_auc for Train: <<<','#'*10,\n",
    "      '\\nModel 1. KNeighborsClassifier\\t\\t\\t{:.4f}                   \\\n",
    "      \\nModel 2. DecisionTreeClassifier\\t\\t\\t{:.4f}                  \\\n",
    "      \\nModel 3. LogisticRegression (class_weight=balanced) \\t{:.4f}                      \\\n",
    "      \\nModel 4. DecisionTreeClassifier random_search\\t{:.4f} '\n",
    "      .format( (sum(cross1) / float(len(cross1))),\n",
    "              (sum(cross2) / float(len(cross2))),\n",
    "              (sum(cross3) / float(len(cross3))),\n",
    "              (sum(cross4) / float(len(cross4))),\n",
    "             ) )"
   ]
  },
  {
   "cell_type": "code",
   "execution_count": 197,
   "metadata": {},
   "outputs": [
    {
     "name": "stdout",
     "output_type": "stream",
     "text": [
      "<class 'pandas.core.frame.DataFrame'>\n",
      "Int64Index: 16476 entries, 0 to 16475\n",
      "Data columns (total 11 columns):\n",
      "campaign                  16476 non-null int64\n",
      "pdays                     16476 non-null int64\n",
      "previous                  16476 non-null int64\n",
      "age_bin_conversion        16476 non-null float64\n",
      "job_conversion            16476 non-null float64\n",
      "marital_conversion        16476 non-null float64\n",
      "education_conversion      16476 non-null float64\n",
      "contact_conversion        16476 non-null float64\n",
      "month_conversion          16476 non-null float64\n",
      "day_of_week_conversion    16476 non-null float64\n",
      "duration_conversion       16264 non-null float64\n",
      "dtypes: float64(8), int64(3)\n",
      "memory usage: 1.5 MB\n"
     ]
    }
   ],
   "source": [
    "df_x_test.info()"
   ]
  },
  {
   "cell_type": "code",
   "execution_count": 196,
   "metadata": {},
   "outputs": [
    {
     "ename": "ValueError",
     "evalue": "Input contains NaN, infinity or a value too large for dtype('float64').",
     "output_type": "error",
     "traceback": [
      "\u001b[0;31m---------------------------------------------------------------------------\u001b[0m",
      "\u001b[0;31mValueError\u001b[0m                                Traceback (most recent call last)",
      "\u001b[0;32m<ipython-input-196-b16b3ae74751>\u001b[0m in \u001b[0;36m<module>\u001b[0;34m()\u001b[0m\n\u001b[0;32m----> 1\u001b[0;31m \u001b[0mpredict\u001b[0m \u001b[0;34m=\u001b[0m \u001b[0mmodel1\u001b[0m\u001b[0;34m.\u001b[0m\u001b[0mpredict\u001b[0m\u001b[0;34m(\u001b[0m\u001b[0mdf_x_test\u001b[0m\u001b[0;34m)\u001b[0m\u001b[0;34m\u001b[0m\u001b[0m\n\u001b[0m\u001b[1;32m      2\u001b[0m \u001b[0mdf_test_preproc\u001b[0m\u001b[0;34m[\u001b[0m\u001b[0;34m'target'\u001b[0m\u001b[0;34m]\u001b[0m \u001b[0;34m=\u001b[0m \u001b[0mpredict\u001b[0m\u001b[0;34m\u001b[0m\u001b[0m\n\u001b[1;32m      3\u001b[0m \u001b[0mdf_test_preproc\u001b[0m\u001b[0;34m[\u001b[0m\u001b[0;34m'target'\u001b[0m\u001b[0;34m]\u001b[0m \u001b[0;34m=\u001b[0m \u001b[0mdf_test_preproc\u001b[0m\u001b[0;34m[\u001b[0m\u001b[0;34m'target'\u001b[0m\u001b[0;34m]\u001b[0m\u001b[0;34m.\u001b[0m\u001b[0mastype\u001b[0m\u001b[0;34m(\u001b[0m\u001b[0;34m'int'\u001b[0m\u001b[0;34m)\u001b[0m\u001b[0;34m\u001b[0m\u001b[0m\n\u001b[1;32m      4\u001b[0m \u001b[0mprint\u001b[0m\u001b[0;34m(\u001b[0m\u001b[0mlist\u001b[0m\u001b[0;34m(\u001b[0m\u001b[0mdf_test_preproc\u001b[0m\u001b[0;34m.\u001b[0m\u001b[0mcolumns\u001b[0m\u001b[0;34m)\u001b[0m\u001b[0;34m)\u001b[0m\u001b[0;34m\u001b[0m\u001b[0m\n",
      "\u001b[0;32m~/anaconda3/lib/python3.6/site-packages/sklearn/neighbors/classification.py\u001b[0m in \u001b[0;36mpredict\u001b[0;34m(self, X)\u001b[0m\n\u001b[1;32m    141\u001b[0m             \u001b[0mClass\u001b[0m \u001b[0mlabels\u001b[0m \u001b[0;32mfor\u001b[0m \u001b[0meach\u001b[0m \u001b[0mdata\u001b[0m \u001b[0msample\u001b[0m\u001b[0;34m.\u001b[0m\u001b[0;34m\u001b[0m\u001b[0m\n\u001b[1;32m    142\u001b[0m         \"\"\"\n\u001b[0;32m--> 143\u001b[0;31m         \u001b[0mX\u001b[0m \u001b[0;34m=\u001b[0m \u001b[0mcheck_array\u001b[0m\u001b[0;34m(\u001b[0m\u001b[0mX\u001b[0m\u001b[0;34m,\u001b[0m \u001b[0maccept_sparse\u001b[0m\u001b[0;34m=\u001b[0m\u001b[0;34m'csr'\u001b[0m\u001b[0;34m)\u001b[0m\u001b[0;34m\u001b[0m\u001b[0m\n\u001b[0m\u001b[1;32m    144\u001b[0m \u001b[0;34m\u001b[0m\u001b[0m\n\u001b[1;32m    145\u001b[0m         \u001b[0mneigh_dist\u001b[0m\u001b[0;34m,\u001b[0m \u001b[0mneigh_ind\u001b[0m \u001b[0;34m=\u001b[0m \u001b[0mself\u001b[0m\u001b[0;34m.\u001b[0m\u001b[0mkneighbors\u001b[0m\u001b[0;34m(\u001b[0m\u001b[0mX\u001b[0m\u001b[0;34m)\u001b[0m\u001b[0;34m\u001b[0m\u001b[0m\n",
      "\u001b[0;32m~/anaconda3/lib/python3.6/site-packages/sklearn/utils/validation.py\u001b[0m in \u001b[0;36mcheck_array\u001b[0;34m(array, accept_sparse, dtype, order, copy, force_all_finite, ensure_2d, allow_nd, ensure_min_samples, ensure_min_features, warn_on_dtype, estimator)\u001b[0m\n\u001b[1;32m    451\u001b[0m                              % (array.ndim, estimator_name))\n\u001b[1;32m    452\u001b[0m         \u001b[0;32mif\u001b[0m \u001b[0mforce_all_finite\u001b[0m\u001b[0;34m:\u001b[0m\u001b[0;34m\u001b[0m\u001b[0m\n\u001b[0;32m--> 453\u001b[0;31m             \u001b[0m_assert_all_finite\u001b[0m\u001b[0;34m(\u001b[0m\u001b[0marray\u001b[0m\u001b[0;34m)\u001b[0m\u001b[0;34m\u001b[0m\u001b[0m\n\u001b[0m\u001b[1;32m    454\u001b[0m \u001b[0;34m\u001b[0m\u001b[0m\n\u001b[1;32m    455\u001b[0m     \u001b[0mshape_repr\u001b[0m \u001b[0;34m=\u001b[0m \u001b[0m_shape_repr\u001b[0m\u001b[0;34m(\u001b[0m\u001b[0marray\u001b[0m\u001b[0;34m.\u001b[0m\u001b[0mshape\u001b[0m\u001b[0;34m)\u001b[0m\u001b[0;34m\u001b[0m\u001b[0m\n",
      "\u001b[0;32m~/anaconda3/lib/python3.6/site-packages/sklearn/utils/validation.py\u001b[0m in \u001b[0;36m_assert_all_finite\u001b[0;34m(X)\u001b[0m\n\u001b[1;32m     42\u001b[0m             and not np.isfinite(X).all()):\n\u001b[1;32m     43\u001b[0m         raise ValueError(\"Input contains NaN, infinity\"\n\u001b[0;32m---> 44\u001b[0;31m                          \" or a value too large for %r.\" % X.dtype)\n\u001b[0m\u001b[1;32m     45\u001b[0m \u001b[0;34m\u001b[0m\u001b[0m\n\u001b[1;32m     46\u001b[0m \u001b[0;34m\u001b[0m\u001b[0m\n",
      "\u001b[0;31mValueError\u001b[0m: Input contains NaN, infinity or a value too large for dtype('float64')."
     ]
    }
   ],
   "source": [
    "predict = model1.predict(df_x_test)\n",
    "df_test_preproc['target'] = predict\n",
    "df_test_preproc['target'] = df_test_preproc['target'].astype('int')\n",
    "print(list(df_test_preproc.columns))"
   ]
  },
  {
   "cell_type": "code",
   "execution_count": 202,
   "metadata": {},
   "outputs": [],
   "source": [
    "df_result = df_test_preproc[['_id','target']]"
   ]
  },
  {
   "cell_type": "code",
   "execution_count": 203,
   "metadata": {},
   "outputs": [
    {
     "name": "stdout",
     "output_type": "stream",
     "text": [
      "<class 'pandas.core.frame.DataFrame'>\n",
      "Int64Index: 16476 entries, 0 to 16475\n",
      "Data columns (total 2 columns):\n",
      "_id       16476 non-null object\n",
      "target    16476 non-null int64\n",
      "dtypes: int64(1), object(1)\n",
      "memory usage: 386.2+ KB\n"
     ]
    }
   ],
   "source": [
    "df_result.info()"
   ]
  },
  {
   "cell_type": "code",
   "execution_count": 206,
   "metadata": {},
   "outputs": [],
   "source": [
    "df_result.to_csv('result_submission.csv', sep=',', encoding='utf-8',index=False)"
   ]
  },
  {
   "cell_type": "code",
   "execution_count": null,
   "metadata": {},
   "outputs": [],
   "source": []
  }
 ],
 "metadata": {
  "kernelspec": {
   "display_name": "Python 3",
   "language": "python",
   "name": "python3"
  },
  "language_info": {
   "codemirror_mode": {
    "name": "ipython",
    "version": 3
   },
   "file_extension": ".py",
   "mimetype": "text/x-python",
   "name": "python",
   "nbconvert_exporter": "python",
   "pygments_lexer": "ipython3",
   "version": "3.6.5"
  }
 },
 "nbformat": 4,
 "nbformat_minor": 2
}
