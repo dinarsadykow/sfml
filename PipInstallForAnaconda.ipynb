{
 "cells": [
  {
   "cell_type": "code",
   "execution_count": 3,
   "metadata": {},
   "outputs": [],
   "source": [
    "!pip install pymorphy2\n",
    "!pip install pymystem3"
   ]
  },
  {
   "cell_type": "code",
   "execution_count": null,
   "metadata": {},
   "outputs": [],
   "source": [
    "!pip install Twisted"
   ]
  },
  {
   "cell_type": "code",
   "execution_count": null,
   "metadata": {},
   "outputs": [],
   "source": [
    "!pip install --upgrade pip"
   ]
  },
  {
   "cell_type": "code",
   "execution_count": 4,
   "metadata": {},
   "outputs": [
    {
     "name": "stdout",
     "output_type": "stream",
     "text": [
      "Collecting catboost\n",
      "\u001b[?25l  Downloading https://files.pythonhosted.org/packages/b3/7b/c305aa730f562cc1f588b3cb415253793e1a30d750d80ede66a572d3ad42/catboost-0.10.4.1-cp37-none-macosx_10_6_intel.macosx_10_9_intel.macosx_10_9_x86_64.macosx_10_10_intel.macosx_10_10_x86_64.whl (7.4MB)\n",
      "\u001b[K    100% |████████████████████████████████| 7.4MB 1.4MB/s ta 0:00:011  3% |█                               | 225kB 3.5MB/s eta 0:00:03\n",
      "\u001b[?25hRequirement already satisfied: pandas>=0.19.1 in /Users/dinar/anaconda3/lib/python3.7/site-packages (from catboost) (0.23.4)\n",
      "Requirement already satisfied: six in /Users/dinar/anaconda3/lib/python3.7/site-packages (from catboost) (1.11.0)\n",
      "Requirement already satisfied: numpy>=1.11.1 in /Users/dinar/anaconda3/lib/python3.7/site-packages (from catboost) (1.15.1)\n",
      "Collecting enum34 (from catboost)\n",
      "  Downloading https://files.pythonhosted.org/packages/af/42/cb9355df32c69b553e72a2e28daee25d1611d2c0d9c272aa1d34204205b2/enum34-1.1.6-py3-none-any.whl\n",
      "Requirement already satisfied: python-dateutil>=2.5.0 in /Users/dinar/anaconda3/lib/python3.7/site-packages (from pandas>=0.19.1->catboost) (2.7.3)\n",
      "Requirement already satisfied: pytz>=2011k in /Users/dinar/anaconda3/lib/python3.7/site-packages (from pandas>=0.19.1->catboost) (2018.5)\n",
      "\u001b[31mtwisted 18.7.0 requires PyHamcrest>=1.9.0, which is not installed.\u001b[0m\n",
      "Installing collected packages: enum34, catboost\n",
      "Successfully installed catboost-0.10.4.1 enum34-1.1.6\n",
      "\u001b[33mYou are using pip version 10.0.1, however version 18.1 is available.\n",
      "You should consider upgrading via the 'pip install --upgrade pip' command.\u001b[0m\n"
     ]
    }
   ],
   "source": [
    "!pip install catboost"
   ]
  },
  {
   "cell_type": "code",
   "execution_count": null,
   "metadata": {},
   "outputs": [],
   "source": []
  },
  {
   "cell_type": "code",
   "execution_count": 4,
   "metadata": {},
   "outputs": [
    {
     "name": "stdout",
     "output_type": "stream",
     "text": [
      "Collecting umap-learn\n",
      "  Downloading https://files.pythonhosted.org/packages/e6/3a/404bd62c29af4cd83b9c7adef88f7e9192e0a5b7768ce4260c3a6a2f41db/umap-learn-0.3.6.tar.gz\n",
      "Requirement already satisfied: numpy>=1.13 in /Users/dinar/anaconda3/lib/python3.7/site-packages (from umap-learn) (1.15.1)\n",
      "Requirement already satisfied: scikit-learn>=0.16 in /Users/dinar/anaconda3/lib/python3.7/site-packages (from umap-learn) (0.19.2)\n",
      "Requirement already satisfied: scipy>=0.19 in /Users/dinar/anaconda3/lib/python3.7/site-packages (from umap-learn) (1.1.0)\n",
      "Requirement already satisfied: numba>=0.37 in /Users/dinar/anaconda3/lib/python3.7/site-packages (from umap-learn) (0.39.0)\n",
      "Requirement already satisfied: llvmlite>=0.24.0dev0 in /Users/dinar/anaconda3/lib/python3.7/site-packages (from numba>=0.37->umap-learn) (0.24.0)\n",
      "Building wheels for collected packages: umap-learn\n",
      "  Running setup.py bdist_wheel for umap-learn ... \u001b[?25ldone\n",
      "\u001b[?25h  Stored in directory: /Users/dinar/Library/Caches/pip/wheels/00/dd/73/7a9b20ddb60eb81632ad4da040338634e75b6ab0f9a425f03b\n",
      "Successfully built umap-learn\n",
      "\u001b[31mtwisted 18.7.0 requires PyHamcrest>=1.9.0, which is not installed.\u001b[0m\n",
      "Installing collected packages: umap-learn\n",
      "Successfully installed umap-learn-0.3.6\n",
      "\u001b[33mYou are using pip version 10.0.1, however version 18.1 is available.\n",
      "You should consider upgrading via the 'pip install --upgrade pip' command.\u001b[0m\n"
     ]
    }
   ],
   "source": [
    "!pip install umap-learn"
   ]
  },
  {
   "cell_type": "code",
   "execution_count": 5,
   "metadata": {},
   "outputs": [
    {
     "name": "stdout",
     "output_type": "stream",
     "text": [
      "Collecting gensim\n",
      "\u001b[?25l  Downloading https://files.pythonhosted.org/packages/01/6e/8a8ff9ec36a34dd753c6504cde998c4e0a4e37dcd91e1c9ca4b71960a4f5/gensim-3.6.0.tar.gz (23.1MB)\n",
      "\u001b[K    100% |████████████████████████████████| 23.2MB 1.2MB/s eta 0:00:01   14% |████▊                           | 3.4MB 2.5MB/s eta 0:00:08    91% |█████████████████████████████▍  | 21.2MB 9.8MB/s eta 0:00:01\n",
      "\u001b[?25hRequirement not upgraded as not directly required: numpy>=1.11.3 in /Users/dinar/anaconda3/lib/python3.7/site-packages (from gensim) (1.15.1)\n",
      "Requirement not upgraded as not directly required: scipy>=0.18.1 in /Users/dinar/anaconda3/lib/python3.7/site-packages (from gensim) (1.1.0)\n",
      "Requirement not upgraded as not directly required: six>=1.5.0 in /Users/dinar/anaconda3/lib/python3.7/site-packages (from gensim) (1.11.0)\n",
      "Collecting smart_open>=1.2.1 (from gensim)\n",
      "  Downloading https://files.pythonhosted.org/packages/4b/1f/6f27e3682124de63ac97a0a5876da6186de6c19410feab66c1543afab055/smart_open-1.7.1.tar.gz\n",
      "Requirement not upgraded as not directly required: boto>=2.32 in /Users/dinar/anaconda3/lib/python3.7/site-packages (from smart_open>=1.2.1->gensim) (2.49.0)\n",
      "Collecting bz2file (from smart_open>=1.2.1->gensim)\n",
      "  Downloading https://files.pythonhosted.org/packages/61/39/122222b5e85cd41c391b68a99ee296584b2a2d1d233e7ee32b4532384f2d/bz2file-0.98.tar.gz\n",
      "Requirement not upgraded as not directly required: requests in /Users/dinar/anaconda3/lib/python3.7/site-packages (from smart_open>=1.2.1->gensim) (2.19.1)\n",
      "Collecting boto3 (from smart_open>=1.2.1->gensim)\n",
      "\u001b[?25l  Downloading https://files.pythonhosted.org/packages/98/b9/7acc466df1f41a8c1f0a74e371ec7ee627162d325b80d7201dfd7b9521b1/boto3-1.9.35-py2.py3-none-any.whl (128kB)\n",
      "\u001b[K    100% |████████████████████████████████| 133kB 7.9MB/s eta 0:00:01\n",
      "\u001b[?25hRequirement not upgraded as not directly required: certifi>=2017.4.17 in /Users/dinar/anaconda3/lib/python3.7/site-packages (from requests->smart_open>=1.2.1->gensim) (2018.8.24)\n",
      "Requirement not upgraded as not directly required: urllib3<1.24,>=1.21.1 in /Users/dinar/anaconda3/lib/python3.7/site-packages (from requests->smart_open>=1.2.1->gensim) (1.23)\n",
      "Requirement not upgraded as not directly required: idna<2.8,>=2.5 in /Users/dinar/anaconda3/lib/python3.7/site-packages (from requests->smart_open>=1.2.1->gensim) (2.7)\n",
      "Requirement not upgraded as not directly required: chardet<3.1.0,>=3.0.2 in /Users/dinar/anaconda3/lib/python3.7/site-packages (from requests->smart_open>=1.2.1->gensim) (3.0.4)\n",
      "Collecting s3transfer<0.2.0,>=0.1.10 (from boto3->smart_open>=1.2.1->gensim)\n",
      "  Using cached https://files.pythonhosted.org/packages/d7/14/2a0004d487464d120c9fb85313a75cd3d71a7506955be458eebfe19a6b1d/s3transfer-0.1.13-py2.py3-none-any.whl\n",
      "Collecting jmespath<1.0.0,>=0.7.1 (from boto3->smart_open>=1.2.1->gensim)\n",
      "  Using cached https://files.pythonhosted.org/packages/b7/31/05c8d001f7f87f0f07289a5fc0fc3832e9a57f2dbd4d3b0fee70e0d51365/jmespath-0.9.3-py2.py3-none-any.whl\n",
      "Collecting botocore<1.13.0,>=1.12.35 (from boto3->smart_open>=1.2.1->gensim)\n",
      "\u001b[?25l  Downloading https://files.pythonhosted.org/packages/12/76/5674019dcdc6475363a1b6fe93ec6dfdce05ec2e94339b177a1ac782d8f6/botocore-1.12.35-py2.py3-none-any.whl (4.7MB)\n",
      "\u001b[K    100% |████████████████████████████████| 4.7MB 1.8MB/s ta 0:00:011    49% |████████████████                | 2.4MB 5.5MB/s eta 0:00:01\n",
      "\u001b[?25hRequirement not upgraded as not directly required: python-dateutil<3.0.0,>=2.1; python_version >= \"2.7\" in /Users/dinar/anaconda3/lib/python3.7/site-packages (from botocore<1.13.0,>=1.12.35->boto3->smart_open>=1.2.1->gensim) (2.7.3)\n",
      "Requirement not upgraded as not directly required: docutils>=0.10 in /Users/dinar/anaconda3/lib/python3.7/site-packages (from botocore<1.13.0,>=1.12.35->boto3->smart_open>=1.2.1->gensim) (0.14)\n",
      "Building wheels for collected packages: gensim, smart-open, bz2file\n",
      "  Running setup.py bdist_wheel for gensim ... \u001b[?25ldone\n",
      "\u001b[?25h  Stored in directory: /Users/dinar/Library/Caches/pip/wheels/97/37/bd/2b80cbc3be93cdf9dd3348dc8b5e659e059f5b51fcecc706be\n",
      "  Running setup.py bdist_wheel for smart-open ... \u001b[?25ldone\n",
      "\u001b[?25h  Stored in directory: /Users/dinar/Library/Caches/pip/wheels/23/00/44/e5b939f7a80c04e32297dbd6d96fa3065af89ecf57e2b5f89f\n",
      "  Running setup.py bdist_wheel for bz2file ... \u001b[?25ldone\n",
      "\u001b[?25h  Stored in directory: /Users/dinar/Library/Caches/pip/wheels/81/75/d6/e1317bf09bf1af5a30befc2a007869fa6e1f516b8f7c591cb9\n",
      "Successfully built gensim smart-open bz2file\n",
      "\u001b[31mtwisted 18.7.0 requires PyHamcrest>=1.9.0, which is not installed.\u001b[0m\n",
      "Installing collected packages: bz2file, jmespath, botocore, s3transfer, boto3, smart-open, gensim\n",
      "Successfully installed boto3-1.9.35 botocore-1.12.35 bz2file-0.98 gensim-3.6.0 jmespath-0.9.3 s3transfer-0.1.13 smart-open-1.7.1\n",
      "\u001b[33mYou are using pip version 10.0.1, however version 18.1 is available.\n",
      "You should consider upgrading via the 'pip install --upgrade pip' command.\u001b[0m\n"
     ]
    }
   ],
   "source": [
    "!pip install --upgrade gensim"
   ]
  },
  {
   "cell_type": "code",
   "execution_count": 6,
   "metadata": {},
   "outputs": [
    {
     "name": "stdout",
     "output_type": "stream",
     "text": [
      "Collecting vecstack\n",
      "  Downloading https://files.pythonhosted.org/packages/d9/1d/7665736f10f3e15af9d51b4e73c16c8ea798e339f6bf4eadfa1dee77c672/vecstack-0.3.0.tar.gz\n",
      "Requirement already satisfied: numpy in /Users/dinar/anaconda3/lib/python3.7/site-packages (from vecstack) (1.15.1)\n",
      "Requirement already satisfied: scipy in /Users/dinar/anaconda3/lib/python3.7/site-packages (from vecstack) (1.1.0)\n",
      "Requirement already satisfied: scikit-learn>=0.18 in /Users/dinar/anaconda3/lib/python3.7/site-packages (from vecstack) (0.19.2)\n",
      "Building wheels for collected packages: vecstack\n",
      "  Running setup.py bdist_wheel for vecstack ... \u001b[?25ldone\n",
      "\u001b[?25h  Stored in directory: /Users/dinar/Library/Caches/pip/wheels/35/6d/ca/bce17942bcf7c267b13c97c9c95e2f0ecf0b42160e6074f448\n",
      "Successfully built vecstack\n",
      "\u001b[31mtwisted 18.7.0 requires PyHamcrest>=1.9.0, which is not installed.\u001b[0m\n",
      "Installing collected packages: vecstack\n",
      "Successfully installed vecstack-0.3.0\n",
      "\u001b[33mYou are using pip version 10.0.1, however version 18.1 is available.\n",
      "You should consider upgrading via the 'pip install --upgrade pip' command.\u001b[0m\n"
     ]
    }
   ],
   "source": [
    "!pip install vecstack"
   ]
  },
  {
   "cell_type": "code",
   "execution_count": 7,
   "metadata": {},
   "outputs": [
    {
     "name": "stdout",
     "output_type": "stream",
     "text": [
      "Requirement already up-to-date: statsmodels in /Users/dinar/anaconda3/lib/python3.7/site-packages (0.9.0)\n",
      "\u001b[33mYou are using pip version 10.0.1, however version 18.1 is available.\n",
      "You should consider upgrading via the 'pip install --upgrade pip' command.\u001b[0m\n"
     ]
    }
   ],
   "source": [
    "!pip install --upgrade --no-deps statsmodels"
   ]
  },
  {
   "cell_type": "code",
   "execution_count": 8,
   "metadata": {},
   "outputs": [
    {
     "name": "stdout",
     "output_type": "stream",
     "text": [
      "Collecting fbprophet\n",
      "  Downloading https://files.pythonhosted.org/packages/83/a1/a39be1675a62597e4c0d4fdaeb65b14752b8aa8afc92e90edd91614353ab/fbprophet-0.3.post2.tar.gz\n",
      "Requirement already satisfied: Cython>=0.22 in /Users/dinar/anaconda3/lib/python3.7/site-packages (from fbprophet) (0.28.5)\n",
      "Collecting pystan>=2.14 (from fbprophet)\n",
      "\u001b[?25l  Downloading https://files.pythonhosted.org/packages/96/e7/59c8d8fec38944649bce8f4f5dd90edb1558f8690e510d791ebbaa472eb4/pystan-2.18.0.0-cp37-cp37m-macosx_10_6_intel.macosx_10_9_intel.macosx_10_9_x86_64.macosx_10_10_intel.macosx_10_10_x86_64.whl (52.1MB)\n",
      "\u001b[K    100% |████████████████████████████████| 52.1MB 380kB/s ta 0:00:011   11% |███▋                            | 5.9MB 2.4MB/s eta 0:00:20    24% |███████▉                        | 12.8MB 10.5MB/s eta 0:00:04    27% |████████▊                       | 14.1MB 3.3MB/s eta 0:00:12    37% |████████████                    | 19.4MB 3.5MB/s eta 0:00:10\n",
      "\u001b[?25hRequirement already satisfied: numpy>=1.10.0 in /Users/dinar/anaconda3/lib/python3.7/site-packages (from fbprophet) (1.15.1)\n",
      "Requirement already satisfied: pandas>=0.20.1 in /Users/dinar/anaconda3/lib/python3.7/site-packages (from fbprophet) (0.23.4)\n",
      "Requirement already satisfied: matplotlib>=2.0.0 in /Users/dinar/anaconda3/lib/python3.7/site-packages (from fbprophet) (2.2.3)\n",
      "Requirement already satisfied: python-dateutil>=2.5.0 in /Users/dinar/anaconda3/lib/python3.7/site-packages (from pandas>=0.20.1->fbprophet) (2.7.3)\n",
      "Requirement already satisfied: pytz>=2011k in /Users/dinar/anaconda3/lib/python3.7/site-packages (from pandas>=0.20.1->fbprophet) (2018.5)\n",
      "Requirement already satisfied: cycler>=0.10 in /Users/dinar/anaconda3/lib/python3.7/site-packages (from matplotlib>=2.0.0->fbprophet) (0.10.0)\n",
      "Requirement already satisfied: pyparsing!=2.0.4,!=2.1.2,!=2.1.6,>=2.0.1 in /Users/dinar/anaconda3/lib/python3.7/site-packages (from matplotlib>=2.0.0->fbprophet) (2.2.0)\n",
      "Requirement already satisfied: six>=1.10 in /Users/dinar/anaconda3/lib/python3.7/site-packages (from matplotlib>=2.0.0->fbprophet) (1.11.0)\n",
      "Requirement already satisfied: kiwisolver>=1.0.1 in /Users/dinar/anaconda3/lib/python3.7/site-packages (from matplotlib>=2.0.0->fbprophet) (1.0.1)\n",
      "Requirement already satisfied: setuptools in /Users/dinar/anaconda3/lib/python3.7/site-packages (from kiwisolver>=1.0.1->matplotlib>=2.0.0->fbprophet) (40.2.0)\n",
      "Building wheels for collected packages: fbprophet\n",
      "  Running setup.py bdist_wheel for fbprophet ... \u001b[?25lerror\n",
      "  Complete output from command /Users/dinar/anaconda3/bin/python -u -c \"import setuptools, tokenize;__file__='/private/var/folders/b5/qnkp81n546711qjsl1gnl_p80000gn/T/pip-install-vugqh8z9/fbprophet/setup.py';f=getattr(tokenize, 'open', open)(__file__);code=f.read().replace('\\r\\n', '\\n');f.close();exec(compile(code, __file__, 'exec'))\" bdist_wheel -d /private/var/folders/b5/qnkp81n546711qjsl1gnl_p80000gn/T/pip-wheel-0z0rd4iz --python-tag cp37:\n",
      "  running bdist_wheel\n",
      "  running build\n",
      "  running build_py\n",
      "  creating build\n",
      "  creating build/lib\n",
      "  creating build/lib/fbprophet\n",
      "  creating build/lib/fbprophet/stan_model\n",
      "  Traceback (most recent call last):\n",
      "    File \"<string>\", line 1, in <module>\n",
      "    File \"/private/var/folders/b5/qnkp81n546711qjsl1gnl_p80000gn/T/pip-install-vugqh8z9/fbprophet/setup.py\", line 123, in <module>\n",
      "      \"\"\"\n",
      "    File \"/Users/dinar/anaconda3/lib/python3.7/site-packages/setuptools/__init__.py\", line 140, in setup\n",
      "      return distutils.core.setup(**attrs)\n",
      "    File \"/Users/dinar/anaconda3/lib/python3.7/distutils/core.py\", line 148, in setup\n",
      "      dist.run_commands()\n",
      "    File \"/Users/dinar/anaconda3/lib/python3.7/distutils/dist.py\", line 966, in run_commands\n",
      "      self.run_command(cmd)\n",
      "    File \"/Users/dinar/anaconda3/lib/python3.7/distutils/dist.py\", line 985, in run_command\n",
      "      cmd_obj.run()\n",
      "    File \"/Users/dinar/anaconda3/lib/python3.7/site-packages/wheel/bdist_wheel.py\", line 202, in run\n",
      "      self.run_command('build')\n",
      "    File \"/Users/dinar/anaconda3/lib/python3.7/distutils/cmd.py\", line 313, in run_command\n",
      "      self.distribution.run_command(command)\n",
      "    File \"/Users/dinar/anaconda3/lib/python3.7/distutils/dist.py\", line 985, in run_command\n",
      "      cmd_obj.run()\n",
      "    File \"/Users/dinar/anaconda3/lib/python3.7/distutils/command/build.py\", line 135, in run\n",
      "      self.run_command(cmd_name)\n",
      "    File \"/Users/dinar/anaconda3/lib/python3.7/distutils/cmd.py\", line 313, in run_command\n",
      "      self.distribution.run_command(command)\n",
      "    File \"/Users/dinar/anaconda3/lib/python3.7/distutils/dist.py\", line 985, in run_command\n",
      "      cmd_obj.run()\n",
      "    File \"/private/var/folders/b5/qnkp81n546711qjsl1gnl_p80000gn/T/pip-install-vugqh8z9/fbprophet/setup.py\", line 45, in run\n",
      "      build_stan_model(target_dir)\n",
      "    File \"/private/var/folders/b5/qnkp81n546711qjsl1gnl_p80000gn/T/pip-install-vugqh8z9/fbprophet/setup.py\", line 28, in build_stan_model\n",
      "      from pystan import StanModel\n",
      "  ModuleNotFoundError: No module named 'pystan'\n",
      "  \n",
      "  ----------------------------------------\n",
      "\u001b[31m  Failed building wheel for fbprophet\u001b[0m\n",
      "\u001b[?25h  Running setup.py clean for fbprophet\n",
      "Failed to build fbprophet\n",
      "\u001b[31mtwisted 18.7.0 requires PyHamcrest>=1.9.0, which is not installed.\u001b[0m\n",
      "Installing collected packages: pystan, fbprophet\n",
      "  Running setup.py install for fbprophet ... \u001b[?25lerror\n",
      "    Complete output from command /Users/dinar/anaconda3/bin/python -u -c \"import setuptools, tokenize;__file__='/private/var/folders/b5/qnkp81n546711qjsl1gnl_p80000gn/T/pip-install-vugqh8z9/fbprophet/setup.py';f=getattr(tokenize, 'open', open)(__file__);code=f.read().replace('\\r\\n', '\\n');f.close();exec(compile(code, __file__, 'exec'))\" install --record /private/var/folders/b5/qnkp81n546711qjsl1gnl_p80000gn/T/pip-record-_u1pp_su/install-record.txt --single-version-externally-managed --compile:\n",
      "    running install\n",
      "    running build\n",
      "    running build_py\n",
      "    creating build\n",
      "    creating build/lib\n",
      "    creating build/lib/fbprophet\n",
      "    creating build/lib/fbprophet/stan_model\n",
      "    DIAGNOSTIC(S) FROM PARSER:\n",
      "    Warning: left-hand side variable (name=cp_idx) occurs on right-hand side of assignment, causing inefficient deep copy to avoid aliasing.\n",
      "    Warning: left-hand side variable (name=m_pr) occurs on right-hand side of assignment, causing inefficient deep copy to avoid aliasing.\n",
      "    \n",
      "    INFO:pystan:COMPILING THE C++ CODE FOR MODEL anon_model_861b75c6337e237650a61ae58c4385ef NOW.\n",
      "    error: command 'gcc' failed with exit status 1\n",
      "    \n",
      "    ----------------------------------------\n",
      "\u001b[31mCommand \"/Users/dinar/anaconda3/bin/python -u -c \"import setuptools, tokenize;__file__='/private/var/folders/b5/qnkp81n546711qjsl1gnl_p80000gn/T/pip-install-vugqh8z9/fbprophet/setup.py';f=getattr(tokenize, 'open', open)(__file__);code=f.read().replace('\\r\\n', '\\n');f.close();exec(compile(code, __file__, 'exec'))\" install --record /private/var/folders/b5/qnkp81n546711qjsl1gnl_p80000gn/T/pip-record-_u1pp_su/install-record.txt --single-version-externally-managed --compile\" failed with error code 1 in /private/var/folders/b5/qnkp81n546711qjsl1gnl_p80000gn/T/pip-install-vugqh8z9/fbprophet/\u001b[0m\n",
      "\u001b[33mYou are using pip version 10.0.1, however version 18.1 is available.\n",
      "You should consider upgrading via the 'pip install --upgrade pip' command.\u001b[0m\n",
      "\u001b[?25h"
     ]
    }
   ],
   "source": [
    "!pip install fbprophet"
   ]
  },
  {
   "cell_type": "code",
   "execution_count": 9,
   "metadata": {},
   "outputs": [
    {
     "name": "stdout",
     "output_type": "stream",
     "text": [
      "Requirement already satisfied: seaborn in /Users/dinar/anaconda3/lib/python3.7/site-packages (0.9.0)\n",
      "Requirement already satisfied: matplotlib>=1.4.3 in /Users/dinar/anaconda3/lib/python3.7/site-packages (from seaborn) (2.2.3)\n",
      "Requirement already satisfied: pandas>=0.15.2 in /Users/dinar/anaconda3/lib/python3.7/site-packages (from seaborn) (0.23.4)\n",
      "Requirement already satisfied: numpy>=1.9.3 in /Users/dinar/anaconda3/lib/python3.7/site-packages (from seaborn) (1.15.1)\n",
      "Requirement already satisfied: scipy>=0.14.0 in /Users/dinar/anaconda3/lib/python3.7/site-packages (from seaborn) (1.1.0)\n",
      "Requirement already satisfied: cycler>=0.10 in /Users/dinar/anaconda3/lib/python3.7/site-packages (from matplotlib>=1.4.3->seaborn) (0.10.0)\n",
      "Requirement already satisfied: pyparsing!=2.0.4,!=2.1.2,!=2.1.6,>=2.0.1 in /Users/dinar/anaconda3/lib/python3.7/site-packages (from matplotlib>=1.4.3->seaborn) (2.2.0)\n",
      "Requirement already satisfied: python-dateutil>=2.1 in /Users/dinar/anaconda3/lib/python3.7/site-packages (from matplotlib>=1.4.3->seaborn) (2.7.3)\n",
      "Requirement already satisfied: pytz in /Users/dinar/anaconda3/lib/python3.7/site-packages (from matplotlib>=1.4.3->seaborn) (2018.5)\n",
      "Requirement already satisfied: six>=1.10 in /Users/dinar/anaconda3/lib/python3.7/site-packages (from matplotlib>=1.4.3->seaborn) (1.11.0)\n",
      "Requirement already satisfied: kiwisolver>=1.0.1 in /Users/dinar/anaconda3/lib/python3.7/site-packages (from matplotlib>=1.4.3->seaborn) (1.0.1)\n",
      "Requirement already satisfied: setuptools in /Users/dinar/anaconda3/lib/python3.7/site-packages (from kiwisolver>=1.0.1->matplotlib>=1.4.3->seaborn) (40.2.0)\n",
      "\u001b[31mtwisted 18.7.0 requires PyHamcrest>=1.9.0, which is not installed.\u001b[0m\n",
      "\u001b[33mYou are using pip version 10.0.1, however version 18.1 is available.\n",
      "You should consider upgrading via the 'pip install --upgrade pip' command.\u001b[0m\n"
     ]
    }
   ],
   "source": [
    "!pip install seaborn"
   ]
  },
  {
   "cell_type": "code",
   "execution_count": 10,
   "metadata": {},
   "outputs": [
    {
     "name": "stdout",
     "output_type": "stream",
     "text": [
      "Requirement already satisfied: tqdm in /Users/dinar/anaconda3/lib/python3.7/site-packages (4.26.0)\n",
      "\u001b[31mtwisted 18.7.0 requires PyHamcrest>=1.9.0, which is not installed.\u001b[0m\n",
      "\u001b[33mYou are using pip version 10.0.1, however version 18.1 is available.\n",
      "You should consider upgrading via the 'pip install --upgrade pip' command.\u001b[0m\n"
     ]
    }
   ],
   "source": [
    "!pip install tqdm"
   ]
  },
  {
   "cell_type": "code",
   "execution_count": 11,
   "metadata": {},
   "outputs": [
    {
     "name": "stdout",
     "output_type": "stream",
     "text": [
      "Collecting xgboost\n",
      "\u001b[?25l  Downloading https://files.pythonhosted.org/packages/c6/1e/6d13dacd1d5ea3273210162292e818f82629328ce51cdb7eb633f03e0b52/xgboost-0.80.tar.gz (595kB)\n",
      "\u001b[K    100% |████████████████████████████████| 604kB 2.6MB/s ta 0:00:011\n",
      "\u001b[?25hRequirement already satisfied: numpy in /Users/dinar/anaconda3/lib/python3.7/site-packages (from xgboost) (1.15.1)\n",
      "Requirement already satisfied: scipy in /Users/dinar/anaconda3/lib/python3.7/site-packages (from xgboost) (1.1.0)\n",
      "Building wheels for collected packages: xgboost\n",
      "  Running setup.py bdist_wheel for xgboost ... \u001b[?25ldone\n",
      "\u001b[?25h  Stored in directory: /Users/dinar/Library/Caches/pip/wheels/82/2d/9a/d9014a0add86cdad990022418a905ca9e93948ee8862ae755d\n",
      "Successfully built xgboost\n",
      "\u001b[31mtwisted 18.7.0 requires PyHamcrest>=1.9.0, which is not installed.\u001b[0m\n",
      "Installing collected packages: xgboost\n",
      "Successfully installed xgboost-0.80\n",
      "\u001b[33mYou are using pip version 10.0.1, however version 18.1 is available.\n",
      "You should consider upgrading via the 'pip install --upgrade pip' command.\u001b[0m\n"
     ]
    }
   ],
   "source": [
    "!pip install xgboost"
   ]
  },
  {
   "cell_type": "code",
   "execution_count": 12,
   "metadata": {},
   "outputs": [
    {
     "name": "stdout",
     "output_type": "stream",
     "text": [
      "Requirement already satisfied: Flask in /Users/dinar/anaconda3/lib/python3.7/site-packages (1.0.2)\n",
      "Requirement already satisfied: Werkzeug>=0.14 in /Users/dinar/anaconda3/lib/python3.7/site-packages (from Flask) (0.14.1)\n",
      "Requirement already satisfied: Jinja2>=2.10 in /Users/dinar/anaconda3/lib/python3.7/site-packages (from Flask) (2.10)\n",
      "Requirement already satisfied: click>=5.1 in /Users/dinar/anaconda3/lib/python3.7/site-packages (from Flask) (6.7)\n",
      "Requirement already satisfied: itsdangerous>=0.24 in /Users/dinar/anaconda3/lib/python3.7/site-packages (from Flask) (0.24)\n",
      "Requirement already satisfied: MarkupSafe>=0.23 in /Users/dinar/anaconda3/lib/python3.7/site-packages (from Jinja2>=2.10->Flask) (1.0)\n",
      "\u001b[31mtwisted 18.7.0 requires PyHamcrest>=1.9.0, which is not installed.\u001b[0m\n",
      "\u001b[33mYou are using pip version 10.0.1, however version 18.1 is available.\n",
      "You should consider upgrading via the 'pip install --upgrade pip' command.\u001b[0m\n"
     ]
    }
   ],
   "source": [
    "!pip install Flask"
   ]
  },
  {
   "cell_type": "code",
   "execution_count": 13,
   "metadata": {},
   "outputs": [
    {
     "name": "stdout",
     "output_type": "stream",
     "text": [
      "\u001b[39m\u001b[1mCreating a virtualenv for this project…\u001b[39m\u001b[22m\n",
      "Pipfile: \u001b[31m\u001b[1m/Users/dinar/SkillFactory/Pipfile\u001b[39m\u001b[22m\n",
      "\u001b[39m\u001b[1mUsing\u001b[39m\u001b[22m \u001b[31m\u001b[1m/usr/local/Cellar/pipenv/2018.10.13/libexec/bin/python3.7\u001b[39m\u001b[22m \u001b[32m\u001b[22m(3.7.0)\u001b[39m\u001b[22m \u001b[39m\u001b[1mto create virtualenv…\u001b[39m\u001b[22m\n",
      "⠹\u001b[34m\u001b[22mAlready using interpreter /usr/local/Cellar/pipenv/2018.10.13/libexec/bin/python3.7\n",
      "Using real prefix '/usr/local/Cellar/python/3.7.0/Frameworks/Python.framework/Versions/3.7'\n",
      "New python executable in /Users/dinar/.local/share/virtualenvs/SkillFactory-0kvxUMav/bin/python3.7\n",
      "Also creating executable in /Users/dinar/.local/share/virtualenvs/SkillFactory-0kvxUMav/bin/python\n",
      "Installing setuptools, pip, wheel...done.\n",
      "\u001b[39m\u001b[22m\n",
      "Virtualenv location: \u001b[32m\u001b[22m/Users/dinar/.local/share/virtualenvs/SkillFactory-0kvxUMav\u001b[39m\u001b[22m\n",
      "\u001b[39m\u001b[1mCreating a Pipfile for this project…\u001b[39m\u001b[22m\n",
      "\b\u001b[39m\u001b[1mInstalling \u001b[32m\u001b[1mrequests\u001b[39m\u001b[22m…\u001b[39m\u001b[22m\n",
      "\u001b[34m\u001b[22mCollecting requests\n",
      "  Downloading https://files.pythonhosted.org/packages/f1/ca/10332a30cb25b627192b4ea272c351bce3ca1091e541245cccbace6051d8/requests-2.20.0-py2.py3-none-any.whl (60kB)\n",
      "Collecting idna<2.8,>=2.5 (from requests)\n",
      "  Downloading https://files.pythonhosted.org/packages/4b/2a/0276479a4b3caeb8a8c1af2f8e4355746a97fab05a372e4a2c6a6b876165/idna-2.7-py2.py3-none-any.whl (58kB)\n",
      "Collecting urllib3<1.25,>=1.21.1 (from requests)\n",
      "  Downloading https://files.pythonhosted.org/packages/8c/4b/5cbc4cb46095f369117dcb751821e1bef9dd86a07c968d8757e9204c324c/urllib3-1.24-py2.py3-none-any.whl (117kB)\n",
      "Collecting certifi>=2017.4.17 (from requests)\n",
      "  Downloading https://files.pythonhosted.org/packages/56/9d/1d02dd80bc4cd955f98980f28c5ee2200e1209292d5f9e9cc8d030d18655/certifi-2018.10.15-py2.py3-none-any.whl (146kB)\n",
      "Collecting chardet<3.1.0,>=3.0.2 (from requests)\n",
      "  Downloading https://files.pythonhosted.org/packages/bc/a9/01ffebfb562e4274b6487b4bb1ddec7ca55ec7510b22e4c51f14098443b8/chardet-3.0.4-py2.py3-none-any.whl (133kB)\n",
      "Installing collected packages: idna, urllib3, certifi, chardet, requests\n",
      "Successfully installed certifi-2018.10.15 chardet-3.0.4 idna-2.7 requests-2.20.0 urllib3-1.24\n",
      "\u001b[39m\u001b[22m\n",
      "\u001b[39m\u001b[1mAdding\u001b[39m\u001b[22m \u001b[32m\u001b[1mrequests\u001b[39m\u001b[22m \u001b[39m\u001b[1mto Pipfile's\u001b[39m\u001b[22m \u001b[31m\u001b[1m[packages]\u001b[39m\u001b[22m\u001b[39m\u001b[1m…\u001b[39m\u001b[22m\n",
      "\u001b[39m\u001b[1mPipfile.lock not found, creating…\u001b[39m\u001b[22m\n",
      "\u001b[39m\u001b[22mLocking\u001b[39m\u001b[22m \u001b[31m\u001b[22m[dev-packages]\u001b[39m\u001b[22m \u001b[39m\u001b[22mdependencies…\u001b[39m\u001b[22m\n",
      "\u001b[39m\u001b[22mLocking\u001b[39m\u001b[22m \u001b[31m\u001b[22m[packages]\u001b[39m\u001b[22m \u001b[39m\u001b[22mdependencies…\u001b[39m\u001b[22m\n",
      "\u001b[39m\u001b[1mUpdated Pipfile.lock (444a6d)!\u001b[39m\u001b[22m\n",
      "\u001b[39m\u001b[1mInstalling dependencies from Pipfile.lock (444a6d)…\u001b[39m\u001b[22m\n",
      "  🐍   \u001b[32m\u001b[1m▉\u001b[39m\u001b[22m\u001b[32m\u001b[1m▉\u001b[39m\u001b[22m\u001b[32m\u001b[1m▉\u001b[39m\u001b[22m\u001b[32m\u001b[1m▉\u001b[39m\u001b[22m\u001b[32m\u001b[1m▉\u001b[39m\u001b[22m\u001b[32m\u001b[1m▉\u001b[39m\u001b[22m\u001b[32m\u001b[1m▉\u001b[39m\u001b[22m\u001b[32m\u001b[1m▉\u001b[39m\u001b[22m\u001b[32m\u001b[1m▉\u001b[39m\u001b[22m\u001b[32m\u001b[1m▉\u001b[39m\u001b[22m\u001b[32m\u001b[1m▉\u001b[39m\u001b[22m\u001b[32m\u001b[1m▉\u001b[39m\u001b[22m\u001b[32m\u001b[1m▉\u001b[39m\u001b[22m\u001b[32m\u001b[1m▉\u001b[39m\u001b[22m\u001b[32m\u001b[1m▉\u001b[39m\u001b[22m\u001b[32m\u001b[1m▉\u001b[39m\u001b[22m\u001b[32m\u001b[1m▉\u001b[39m\u001b[22m\u001b[32m\u001b[1m▉\u001b[39m\u001b[22m\u001b[32m\u001b[1m▉\u001b[39m\u001b[22m\u001b[32m\u001b[1m▉\u001b[39m\u001b[22m\u001b[32m\u001b[1m▉\u001b[39m\u001b[22m\u001b[32m\u001b[1m▉\u001b[39m\u001b[22m\u001b[32m\u001b[1m▉\u001b[39m\u001b[22m\u001b[32m\u001b[1m▉\u001b[39m\u001b[22m\u001b[32m\u001b[1m▉\u001b[39m\u001b[22m\u001b[32m\u001b[1m▉\u001b[39m\u001b[22m\u001b[32m\u001b[1m▉\u001b[39m\u001b[22m\u001b[32m\u001b[1m▉\u001b[39m\u001b[22m\u001b[32m\u001b[1m▉\u001b[39m\u001b[22m\u001b[32m\u001b[1m▉\u001b[39m\u001b[22m\u001b[32m\u001b[1m▉\u001b[39m\u001b[22m\u001b[32m\u001b[1m▉\u001b[39m\u001b[22m 5/5 — \u001b[30m\u001b[22m00:00:01\u001b[39m\u001b[22m9m\u001b[22mm\u001b[22m9m\u001b[22mm\u001b[22mm\u001b[22m\n",
      "To activate this project's virtualenv, run \u001b[31m\u001b[22mpipenv shell\u001b[39m\u001b[22m.\n",
      "Alternatively, run a command inside the virtualenv with \u001b[31m\u001b[22mpipenv run\u001b[39m\u001b[22m.\n"
     ]
    }
   ],
   "source": [
    "!pipenv install requests"
   ]
  },
  {
   "cell_type": "code",
   "execution_count": null,
   "metadata": {},
   "outputs": [],
   "source": [
    "!pip install quilt\n",
    "# quilt install ResidentMario/missingno_data"
   ]
  },
  {
   "cell_type": "code",
   "execution_count": 1,
   "metadata": {},
   "outputs": [
    {
     "name": "stdout",
     "output_type": "stream",
     "text": [
      "Collecting hyperopt\n",
      "\u001b[?25l  Downloading https://files.pythonhosted.org/packages/ce/9f/f6324af3fc43f352e568b5850695c30ed7dd14af06a94f97953ff9187569/hyperopt-0.1.1-py3-none-any.whl (117kB)\n",
      "\u001b[K    100% |████████████████████████████████| 122kB 1.9MB/s ta 0:00:01\n",
      "\u001b[?25hRequirement already satisfied: numpy in /Users/dinar/anaconda3/lib/python3.7/site-packages (from hyperopt) (1.15.1)\n",
      "Requirement already satisfied: six in /Users/dinar/anaconda3/lib/python3.7/site-packages (from hyperopt) (1.11.0)\n",
      "Requirement already satisfied: future in /Users/dinar/anaconda3/lib/python3.7/site-packages (from hyperopt) (0.17.1)\n",
      "Requirement already satisfied: networkx in /Users/dinar/anaconda3/lib/python3.7/site-packages (from hyperopt) (2.1)\n",
      "Requirement already satisfied: scipy in /Users/dinar/anaconda3/lib/python3.7/site-packages (from hyperopt) (1.1.0)\n",
      "Collecting pymongo (from hyperopt)\n",
      "\u001b[?25l  Downloading https://files.pythonhosted.org/packages/d7/ac/d2e324c1f9bcf653fa106785371a16b4709506a35b04948655de8b961a85/pymongo-3.7.2-cp37-cp37m-macosx_10_9_x86_64.whl (307kB)\n",
      "\u001b[K    100% |████████████████████████████████| 317kB 2.8MB/s ta 0:00:011\n",
      "\u001b[?25hRequirement already satisfied: decorator>=4.1.0 in /Users/dinar/anaconda3/lib/python3.7/site-packages (from networkx->hyperopt) (4.3.0)\n",
      "\u001b[31mtwisted 18.7.0 requires PyHamcrest>=1.9.0, which is not installed.\u001b[0m\n",
      "Installing collected packages: pymongo, hyperopt\n",
      "Successfully installed hyperopt-0.1.1 pymongo-3.7.2\n",
      "\u001b[33mYou are using pip version 10.0.1, however version 18.1 is available.\n",
      "You should consider upgrading via the 'pip install --upgrade pip' command.\u001b[0m\n"
     ]
    }
   ],
   "source": [
    "!pip install hyperopt\n",
    "# sudo pip install networkx==1.11"
   ]
  },
  {
   "cell_type": "code",
   "execution_count": 2,
   "metadata": {},
   "outputs": [
    {
     "name": "stdout",
     "output_type": "stream",
     "text": [
      "Requirement already satisfied: numpy in /Users/dinar/anaconda3/lib/python3.7/site-packages (1.15.1)\n",
      "\u001b[31mtwisted 18.7.0 requires PyHamcrest>=1.9.0, which is not installed.\u001b[0m\n",
      "\u001b[33mYou are using pip version 10.0.1, however version 18.1 is available.\n",
      "You should consider upgrading via the 'pip install --upgrade pip' command.\u001b[0m\n",
      "Collecting scikit-surprise\n",
      "\u001b[?25l  Downloading https://files.pythonhosted.org/packages/4d/fc/cd4210b247d1dca421c25994740cbbf03c5e980e31881f10eaddf45fdab0/scikit-surprise-1.0.6.tar.gz (3.3MB)\n",
      "\u001b[K    100% |████████████████████████████████| 3.3MB 2.4MB/s ta 0:00:011\n",
      "\u001b[?25hCollecting joblib>=0.11 (from scikit-surprise)\n",
      "\u001b[?25l  Downloading https://files.pythonhosted.org/packages/69/91/d217cec1fe6eac525ca964cd67e4f79b1d4ce68b64cb82d0b9ae1af2311e/joblib-0.12.5-py2.py3-none-any.whl (275kB)\n",
      "\u001b[K    100% |████████████████████████████████| 276kB 2.4MB/s ta 0:00:011\n",
      "\u001b[?25hRequirement already satisfied: numpy>=1.11.2 in /Users/dinar/anaconda3/lib/python3.7/site-packages (from scikit-surprise) (1.15.1)\n",
      "Requirement already satisfied: scipy>=1.0.0 in /Users/dinar/anaconda3/lib/python3.7/site-packages (from scikit-surprise) (1.1.0)\n",
      "Requirement already satisfied: six>=1.10.0 in /Users/dinar/anaconda3/lib/python3.7/site-packages (from scikit-surprise) (1.11.0)\n",
      "Building wheels for collected packages: scikit-surprise\n",
      "  Running setup.py bdist_wheel for scikit-surprise ... \u001b[?25ldone\n",
      "\u001b[?25h  Stored in directory: /Users/dinar/Library/Caches/pip/wheels/ec/c0/55/3a28eab06b53c220015063ebbdb81213cd3dcbb72c088251ec\n",
      "Successfully built scikit-surprise\n",
      "\u001b[31mtwisted 18.7.0 requires PyHamcrest>=1.9.0, which is not installed.\u001b[0m\n",
      "Installing collected packages: joblib, scikit-surprise\n",
      "Successfully installed joblib-0.12.5 scikit-surprise-1.0.6\n",
      "\u001b[33mYou are using pip version 10.0.1, however version 18.1 is available.\n",
      "You should consider upgrading via the 'pip install --upgrade pip' command.\u001b[0m\n"
     ]
    }
   ],
   "source": [
    "!pip install numpy\n",
    "!pip install scikit-surprise"
   ]
  },
  {
   "cell_type": "code",
   "execution_count": null,
   "metadata": {},
   "outputs": [],
   "source": [
    "# pip install python-igraph"
   ]
  },
  {
   "cell_type": "code",
   "execution_count": null,
   "metadata": {},
   "outputs": [],
   "source": [
    "# brew reinstall vowpal-wabbit"
   ]
  },
  {
   "cell_type": "code",
   "execution_count": 6,
   "metadata": {},
   "outputs": [
    {
     "name": "stdout",
     "output_type": "stream",
     "text": [
      "Requirement already satisfied: lightgbm in /Users/dinar/anaconda3/lib/python3.7/site-packages (2.2.1)\n",
      "Requirement already satisfied: scipy in /Users/dinar/anaconda3/lib/python3.7/site-packages (from lightgbm) (1.1.0)\n",
      "Requirement already satisfied: numpy in /Users/dinar/anaconda3/lib/python3.7/site-packages (from lightgbm) (1.15.1)\n",
      "Requirement already satisfied: scikit-learn in /Users/dinar/anaconda3/lib/python3.7/site-packages (from lightgbm) (0.19.2)\n"
     ]
    }
   ],
   "source": [
    "!pip install lightgbm"
   ]
  },
  {
   "cell_type": "code",
   "execution_count": null,
   "metadata": {},
   "outputs": [],
   "source": []
  }
 ],
 "metadata": {
  "kernelspec": {
   "display_name": "Python 3",
   "language": "python",
   "name": "python3"
  },
  "language_info": {
   "codemirror_mode": {
    "name": "ipython",
    "version": 3
   },
   "file_extension": ".py",
   "mimetype": "text/x-python",
   "name": "python",
   "nbconvert_exporter": "python",
   "pygments_lexer": "ipython3",
   "version": "3.7.0"
  }
 },
 "nbformat": 4,
 "nbformat_minor": 2
}
