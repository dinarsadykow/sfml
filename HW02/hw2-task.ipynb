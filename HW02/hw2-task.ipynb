{
 "cells": [
  {
   "cell_type": "markdown",
   "metadata": {},
   "source": [
    "# SkillFactory\n",
    "## Введение в ML, введение в sklearn"
   ]
  },
  {
   "cell_type": "markdown",
   "metadata": {},
   "source": [
    "В этом задании мы с вами рассмотрим данные с конкурса [Задача предсказания отклика клиентов ОТП Банка](http://www.machinelearning.ru/wiki/index.php?title=%D0%97%D0%B0%D0%B4%D0%B0%D1%87%D0%B0_%D0%BF%D1%80%D0%B5%D0%B4%D1%81%D0%BA%D0%B0%D0%B7%D0%B0%D0%BD%D0%B8%D1%8F_%D0%BE%D1%82%D0%BA%D0%BB%D0%B8%D0%BA%D0%B0_%D0%BA%D0%BB%D0%B8%D0%B5%D0%BD%D1%82%D0%BE%D0%B2_%D0%9E%D0%A2%D0%9F_%D0%91%D0%B0%D0%BD%D0%BA%D0%B0_%28%D0%BA%D0%BE%D0%BD%D0%BA%D1%83%D1%80%D1%81%29)"
   ]
  },
  {
   "cell_type": "code",
   "execution_count": 1,
   "metadata": {},
   "outputs": [],
   "source": [
    "import pandas as pd\n",
    "import numpy as np\n",
    "import matplotlib.pyplot as plt\n",
    "%matplotlib inline\n",
    "import seaborn as sns\n",
    "\n",
    "plt.style.use('ggplot')\n",
    "plt.rcParams['figure.figsize'] = (12,5)"
   ]
  },
  {
   "cell_type": "markdown",
   "metadata": {},
   "source": [
    "### Грузим данные"
   ]
  },
  {
   "cell_type": "markdown",
   "metadata": {},
   "source": [
    "Считаем описание данных"
   ]
  },
  {
   "cell_type": "code",
   "execution_count": 2,
   "metadata": {},
   "outputs": [],
   "source": [
    "df_descr = pd.read_csv('data/otp_description.csv', sep='\\t', encoding='utf8')"
   ]
  },
  {
   "cell_type": "code",
   "execution_count": 3,
   "metadata": {},
   "outputs": [
    {
     "data": {
      "text/html": [
       "<div>\n",
       "<style scoped>\n",
       "    .dataframe tbody tr th:only-of-type {\n",
       "        vertical-align: middle;\n",
       "    }\n",
       "\n",
       "    .dataframe tbody tr th {\n",
       "        vertical-align: top;\n",
       "    }\n",
       "\n",
       "    .dataframe thead th {\n",
       "        text-align: right;\n",
       "    }\n",
       "</style>\n",
       "<table border=\"1\" class=\"dataframe\">\n",
       "  <thead>\n",
       "    <tr style=\"text-align: right;\">\n",
       "      <th></th>\n",
       "      <th>ПОЛЕ</th>\n",
       "      <th>ОПИСАНИЕ</th>\n",
       "    </tr>\n",
       "  </thead>\n",
       "  <tbody>\n",
       "    <tr>\n",
       "      <th>0</th>\n",
       "      <td>AGREEMENT_RK</td>\n",
       "      <td>уникальный идентификатор объекта в выборке</td>\n",
       "    </tr>\n",
       "    <tr>\n",
       "      <th>1</th>\n",
       "      <td>AGE</td>\n",
       "      <td>возраст клиента</td>\n",
       "    </tr>\n",
       "    <tr>\n",
       "      <th>2</th>\n",
       "      <td>SOCSTATUS_WORK_FL</td>\n",
       "      <td>социальный статус клиента относительно работы ...</td>\n",
       "    </tr>\n",
       "    <tr>\n",
       "      <th>3</th>\n",
       "      <td>SOCSTATUS_PENS_FL</td>\n",
       "      <td>социальный статус клиента относительно пенсии ...</td>\n",
       "    </tr>\n",
       "    <tr>\n",
       "      <th>4</th>\n",
       "      <td>GENDER</td>\n",
       "      <td>пол клиента (1- женщины, 0-мужчины)</td>\n",
       "    </tr>\n",
       "    <tr>\n",
       "      <th>5</th>\n",
       "      <td>CHILD_TOTAL</td>\n",
       "      <td>количество детей клиента</td>\n",
       "    </tr>\n",
       "    <tr>\n",
       "      <th>6</th>\n",
       "      <td>DEPENDANTS</td>\n",
       "      <td>количество иждивенцев клиента</td>\n",
       "    </tr>\n",
       "    <tr>\n",
       "      <th>7</th>\n",
       "      <td>EDUCATION</td>\n",
       "      <td>образование</td>\n",
       "    </tr>\n",
       "    <tr>\n",
       "      <th>8</th>\n",
       "      <td>MARITAL_STATUS</td>\n",
       "      <td>семейное положение</td>\n",
       "    </tr>\n",
       "    <tr>\n",
       "      <th>9</th>\n",
       "      <td>GEN_INDUSTRY</td>\n",
       "      <td>отрасль работы клиента</td>\n",
       "    </tr>\n",
       "    <tr>\n",
       "      <th>10</th>\n",
       "      <td>GEN_TITLE</td>\n",
       "      <td>должность</td>\n",
       "    </tr>\n",
       "    <tr>\n",
       "      <th>11</th>\n",
       "      <td>ORG_TP_STATE</td>\n",
       "      <td>форма собственности компании</td>\n",
       "    </tr>\n",
       "    <tr>\n",
       "      <th>12</th>\n",
       "      <td>ORG_TP_FCAPITAL</td>\n",
       "      <td>отношение к иностранному капиталу</td>\n",
       "    </tr>\n",
       "    <tr>\n",
       "      <th>13</th>\n",
       "      <td>JOB_DIR</td>\n",
       "      <td>направление деятельности в нутри компании</td>\n",
       "    </tr>\n",
       "    <tr>\n",
       "      <th>14</th>\n",
       "      <td>FAMILY_INCOME</td>\n",
       "      <td>семейный доход (несколько категорий)</td>\n",
       "    </tr>\n",
       "    <tr>\n",
       "      <th>15</th>\n",
       "      <td>PERSONAL_INCOME</td>\n",
       "      <td>личный доход клиента (в рублях)</td>\n",
       "    </tr>\n",
       "    <tr>\n",
       "      <th>16</th>\n",
       "      <td>REG_ADDRESS_PROVINCE</td>\n",
       "      <td>область регистрации клиента</td>\n",
       "    </tr>\n",
       "    <tr>\n",
       "      <th>17</th>\n",
       "      <td>FACT_ADDRESS_PROVINCE</td>\n",
       "      <td>область фактического пребывания клиента</td>\n",
       "    </tr>\n",
       "    <tr>\n",
       "      <th>18</th>\n",
       "      <td>POSTAL_ADDRESS_PROVINCE</td>\n",
       "      <td>почтовый адрес область</td>\n",
       "    </tr>\n",
       "    <tr>\n",
       "      <th>19</th>\n",
       "      <td>TP_PROVINCE</td>\n",
       "      <td>область торговой точки, где клиент брал послед...</td>\n",
       "    </tr>\n",
       "    <tr>\n",
       "      <th>20</th>\n",
       "      <td>REGION_NM</td>\n",
       "      <td>регион РФ</td>\n",
       "    </tr>\n",
       "    <tr>\n",
       "      <th>21</th>\n",
       "      <td>REG_FACT_FL</td>\n",
       "      <td>адрес регистрации и адрес фактического пребыва...</td>\n",
       "    </tr>\n",
       "    <tr>\n",
       "      <th>22</th>\n",
       "      <td>FACT_POST_FL</td>\n",
       "      <td>адрес фактического пребывания клиента и его по...</td>\n",
       "    </tr>\n",
       "    <tr>\n",
       "      <th>23</th>\n",
       "      <td>REG_POST_FL</td>\n",
       "      <td>адрес регистрации клиента и его почтовый адрес...</td>\n",
       "    </tr>\n",
       "    <tr>\n",
       "      <th>24</th>\n",
       "      <td>REG_FACT_POST_FL</td>\n",
       "      <td>почтовый, фактический и адрес регистрации совп...</td>\n",
       "    </tr>\n",
       "    <tr>\n",
       "      <th>25</th>\n",
       "      <td>REG_FACT_POST_TP_FL</td>\n",
       "      <td>область регистрации, фактического пребывания, ...</td>\n",
       "    </tr>\n",
       "    <tr>\n",
       "      <th>26</th>\n",
       "      <td>FL_PRESENCE_FL</td>\n",
       "      <td>наличие в собственности квартиры (1 - есть, 0 ...</td>\n",
       "    </tr>\n",
       "    <tr>\n",
       "      <th>27</th>\n",
       "      <td>OWN_AUTO</td>\n",
       "      <td>кол-во автомобилей в собственности</td>\n",
       "    </tr>\n",
       "    <tr>\n",
       "      <th>28</th>\n",
       "      <td>AUTO_RUS_FL</td>\n",
       "      <td>наличие в собственности автомобиля российского...</td>\n",
       "    </tr>\n",
       "    <tr>\n",
       "      <th>29</th>\n",
       "      <td>HS_PRESENCE_FL</td>\n",
       "      <td>наличие в собственности загородного дома (1 - ...</td>\n",
       "    </tr>\n",
       "    <tr>\n",
       "      <th>30</th>\n",
       "      <td>COT_PRESENCE_FL</td>\n",
       "      <td>наличие в собственности котеджа (1 - есть, 0 -...</td>\n",
       "    </tr>\n",
       "    <tr>\n",
       "      <th>31</th>\n",
       "      <td>GAR_PRESENCE_FL</td>\n",
       "      <td>наличие в собственности гаража (1 - есть, 0 - ...</td>\n",
       "    </tr>\n",
       "    <tr>\n",
       "      <th>32</th>\n",
       "      <td>LAND_PRESENCE_FL</td>\n",
       "      <td>наличие в собственности земельного участка (1 ...</td>\n",
       "    </tr>\n",
       "    <tr>\n",
       "      <th>33</th>\n",
       "      <td>CREDIT</td>\n",
       "      <td>сумма последнего кредита клиента (в рублях)</td>\n",
       "    </tr>\n",
       "    <tr>\n",
       "      <th>34</th>\n",
       "      <td>TERM</td>\n",
       "      <td>срок кредита</td>\n",
       "    </tr>\n",
       "    <tr>\n",
       "      <th>35</th>\n",
       "      <td>FST_PAYMENT</td>\n",
       "      <td>первоначальный взнос (в рублях)</td>\n",
       "    </tr>\n",
       "    <tr>\n",
       "      <th>36</th>\n",
       "      <td>DL_DOCUMENT_FL</td>\n",
       "      <td>в анкете клиент указал водительское удостовере...</td>\n",
       "    </tr>\n",
       "    <tr>\n",
       "      <th>37</th>\n",
       "      <td>GPF_DOCUMENT_FL</td>\n",
       "      <td>в анкете клиен указал ГПФ (1 - указал, 0 - не ...</td>\n",
       "    </tr>\n",
       "    <tr>\n",
       "      <th>38</th>\n",
       "      <td>FACT_LIVING_TERM</td>\n",
       "      <td>количество месяцев проживания по месту фактиче...</td>\n",
       "    </tr>\n",
       "    <tr>\n",
       "      <th>39</th>\n",
       "      <td>WORK_TIME</td>\n",
       "      <td>время работы на текущем месте (в месяцах)</td>\n",
       "    </tr>\n",
       "    <tr>\n",
       "      <th>40</th>\n",
       "      <td>FACT_PHONE_FL</td>\n",
       "      <td>наличие в заявке телефона по фактическому мест...</td>\n",
       "    </tr>\n",
       "    <tr>\n",
       "      <th>41</th>\n",
       "      <td>REG_PHONE_FL</td>\n",
       "      <td>наличие в заявке телефона по месту регистрации</td>\n",
       "    </tr>\n",
       "    <tr>\n",
       "      <th>42</th>\n",
       "      <td>GEN_PHONE_FL</td>\n",
       "      <td>наличие в заявке рабочего телефона</td>\n",
       "    </tr>\n",
       "    <tr>\n",
       "      <th>43</th>\n",
       "      <td>LOAN_NUM_TOTAL</td>\n",
       "      <td>количество ссуд клиента</td>\n",
       "    </tr>\n",
       "    <tr>\n",
       "      <th>44</th>\n",
       "      <td>LOAN_NUM_CLOSED</td>\n",
       "      <td>количество погашенных ссуд клиента</td>\n",
       "    </tr>\n",
       "    <tr>\n",
       "      <th>45</th>\n",
       "      <td>LOAN_NUM_PAYM</td>\n",
       "      <td>количество платежей, которые сделал клиент</td>\n",
       "    </tr>\n",
       "    <tr>\n",
       "      <th>46</th>\n",
       "      <td>LOAN_DLQ_NUM</td>\n",
       "      <td>количество просрочек, допущенных клиентом</td>\n",
       "    </tr>\n",
       "    <tr>\n",
       "      <th>47</th>\n",
       "      <td>LOAN_MAX_DLQ</td>\n",
       "      <td>номер максимальной просрочки, допущенной клиентом</td>\n",
       "    </tr>\n",
       "    <tr>\n",
       "      <th>48</th>\n",
       "      <td>LOAN_AVG_DLQ_AMT</td>\n",
       "      <td>средняя сумма просрочки (в рублях)</td>\n",
       "    </tr>\n",
       "    <tr>\n",
       "      <th>49</th>\n",
       "      <td>LOAN_MAX_DLQ_AMT</td>\n",
       "      <td>максимальная сумма просрочки (в рублях)</td>\n",
       "    </tr>\n",
       "    <tr>\n",
       "      <th>50</th>\n",
       "      <td>PREVIOUS_CARD_NUM_UTILIZED</td>\n",
       "      <td>количество уже утилизированных карт ( если пус...</td>\n",
       "    </tr>\n",
       "  </tbody>\n",
       "</table>\n",
       "</div>"
      ],
      "text/plain": [
       "                          ПОЛЕ  \\\n",
       "0                 AGREEMENT_RK   \n",
       "1                          AGE   \n",
       "2            SOCSTATUS_WORK_FL   \n",
       "3            SOCSTATUS_PENS_FL   \n",
       "4                       GENDER   \n",
       "5                  CHILD_TOTAL   \n",
       "6                   DEPENDANTS   \n",
       "7                    EDUCATION   \n",
       "8               MARITAL_STATUS   \n",
       "9                 GEN_INDUSTRY   \n",
       "10                   GEN_TITLE   \n",
       "11                ORG_TP_STATE   \n",
       "12             ORG_TP_FCAPITAL   \n",
       "13                     JOB_DIR   \n",
       "14               FAMILY_INCOME   \n",
       "15             PERSONAL_INCOME   \n",
       "16        REG_ADDRESS_PROVINCE   \n",
       "17       FACT_ADDRESS_PROVINCE   \n",
       "18     POSTAL_ADDRESS_PROVINCE   \n",
       "19                 TP_PROVINCE   \n",
       "20                   REGION_NM   \n",
       "21                 REG_FACT_FL   \n",
       "22                FACT_POST_FL   \n",
       "23                 REG_POST_FL   \n",
       "24            REG_FACT_POST_FL   \n",
       "25         REG_FACT_POST_TP_FL   \n",
       "26              FL_PRESENCE_FL   \n",
       "27                    OWN_AUTO   \n",
       "28                 AUTO_RUS_FL   \n",
       "29              HS_PRESENCE_FL   \n",
       "30             COT_PRESENCE_FL   \n",
       "31             GAR_PRESENCE_FL   \n",
       "32            LAND_PRESENCE_FL   \n",
       "33                      CREDIT   \n",
       "34                        TERM   \n",
       "35                 FST_PAYMENT   \n",
       "36              DL_DOCUMENT_FL   \n",
       "37             GPF_DOCUMENT_FL   \n",
       "38            FACT_LIVING_TERM   \n",
       "39                   WORK_TIME   \n",
       "40               FACT_PHONE_FL   \n",
       "41                REG_PHONE_FL   \n",
       "42                GEN_PHONE_FL   \n",
       "43              LOAN_NUM_TOTAL   \n",
       "44             LOAN_NUM_CLOSED   \n",
       "45               LOAN_NUM_PAYM   \n",
       "46                LOAN_DLQ_NUM   \n",
       "47                LOAN_MAX_DLQ   \n",
       "48            LOAN_AVG_DLQ_AMT   \n",
       "49            LOAN_MAX_DLQ_AMT   \n",
       "50  PREVIOUS_CARD_NUM_UTILIZED   \n",
       "\n",
       "                                             ОПИСАНИЕ  \n",
       "0          уникальный идентификатор объекта в выборке  \n",
       "1                                     возраст клиента  \n",
       "2   социальный статус клиента относительно работы ...  \n",
       "3   социальный статус клиента относительно пенсии ...  \n",
       "4                 пол клиента (1- женщины, 0-мужчины)  \n",
       "5                            количество детей клиента  \n",
       "6                       количество иждивенцев клиента  \n",
       "7                                         образование  \n",
       "8                                  семейное положение  \n",
       "9                              отрасль работы клиента  \n",
       "10                                          должность  \n",
       "11                       форма собственности компании  \n",
       "12                  отношение к иностранному капиталу  \n",
       "13          направление деятельности в нутри компании  \n",
       "14               семейный доход (несколько категорий)  \n",
       "15                    личный доход клиента (в рублях)  \n",
       "16                        область регистрации клиента  \n",
       "17            область фактического пребывания клиента  \n",
       "18                             почтовый адрес область  \n",
       "19  область торговой точки, где клиент брал послед...  \n",
       "20                                          регион РФ  \n",
       "21  адрес регистрации и адрес фактического пребыва...  \n",
       "22  адрес фактического пребывания клиента и его по...  \n",
       "23  адрес регистрации клиента и его почтовый адрес...  \n",
       "24  почтовый, фактический и адрес регистрации совп...  \n",
       "25  область регистрации, фактического пребывания, ...  \n",
       "26  наличие в собственности квартиры (1 - есть, 0 ...  \n",
       "27                кол-во автомобилей в собственности   \n",
       "28  наличие в собственности автомобиля российского...  \n",
       "29  наличие в собственности загородного дома (1 - ...  \n",
       "30  наличие в собственности котеджа (1 - есть, 0 -...  \n",
       "31  наличие в собственности гаража (1 - есть, 0 - ...  \n",
       "32  наличие в собственности земельного участка (1 ...  \n",
       "33        сумма последнего кредита клиента (в рублях)  \n",
       "34                                       срок кредита  \n",
       "35                    первоначальный взнос (в рублях)  \n",
       "36  в анкете клиент указал водительское удостовере...  \n",
       "37  в анкете клиен указал ГПФ (1 - указал, 0 - не ...  \n",
       "38  количество месяцев проживания по месту фактиче...  \n",
       "39          время работы на текущем месте (в месяцах)  \n",
       "40  наличие в заявке телефона по фактическому мест...  \n",
       "41     наличие в заявке телефона по месту регистрации  \n",
       "42                 наличие в заявке рабочего телефона  \n",
       "43                            количество ссуд клиента  \n",
       "44                 количество погашенных ссуд клиента  \n",
       "45         количество платежей, которые сделал клиент  \n",
       "46          количество просрочек, допущенных клиентом  \n",
       "47  номер максимальной просрочки, допущенной клиентом  \n",
       "48                 средняя сумма просрочки (в рублях)  \n",
       "49            максимальная сумма просрочки (в рублях)  \n",
       "50  количество уже утилизированных карт ( если пус...  "
      ]
     },
     "execution_count": 3,
     "metadata": {},
     "output_type": "execute_result"
    }
   ],
   "source": [
    "df_descr"
   ]
  },
  {
   "cell_type": "markdown",
   "metadata": {},
   "source": [
    "Считаем обучающую выборки и тестовую (которую мы как бы не видим)"
   ]
  },
  {
   "cell_type": "code",
   "execution_count": 4,
   "metadata": {},
   "outputs": [],
   "source": [
    "df_train = pd.read_csv('data/otp_train.csv', sep='\\t', encoding='utf8')"
   ]
  },
  {
   "cell_type": "code",
   "execution_count": 5,
   "metadata": {},
   "outputs": [
    {
     "name": "stdout",
     "output_type": "stream",
     "text": [
      "<class 'pandas.core.frame.DataFrame'>\n",
      "RangeIndex: 15223 entries, 0 to 15222\n",
      "Data columns (total 52 columns):\n",
      "AGREEMENT_RK                  15223 non-null int64\n",
      "TARGET                        15223 non-null int64\n",
      "AGE                           15223 non-null int64\n",
      "SOCSTATUS_WORK_FL             15223 non-null int64\n",
      "SOCSTATUS_PENS_FL             15223 non-null int64\n",
      "GENDER                        15223 non-null int64\n",
      "CHILD_TOTAL                   15223 non-null int64\n",
      "DEPENDANTS                    15223 non-null int64\n",
      "EDUCATION                     15223 non-null object\n",
      "MARITAL_STATUS                15223 non-null object\n",
      "GEN_INDUSTRY                  13856 non-null object\n",
      "GEN_TITLE                     13856 non-null object\n",
      "ORG_TP_STATE                  13856 non-null object\n",
      "ORG_TP_FCAPITAL               13858 non-null object\n",
      "JOB_DIR                       13856 non-null object\n",
      "FAMILY_INCOME                 15223 non-null object\n",
      "PERSONAL_INCOME               15223 non-null object\n",
      "REG_ADDRESS_PROVINCE          15223 non-null object\n",
      "FACT_ADDRESS_PROVINCE         15223 non-null object\n",
      "POSTAL_ADDRESS_PROVINCE       15223 non-null object\n",
      "TP_PROVINCE                   14928 non-null object\n",
      "REGION_NM                     15222 non-null object\n",
      "REG_FACT_FL                   15223 non-null int64\n",
      "FACT_POST_FL                  15223 non-null int64\n",
      "REG_POST_FL                   15223 non-null int64\n",
      "REG_FACT_POST_FL              15223 non-null int64\n",
      "REG_FACT_POST_TP_FL           15223 non-null int64\n",
      "FL_PRESENCE_FL                15223 non-null int64\n",
      "OWN_AUTO                      15223 non-null int64\n",
      "AUTO_RUS_FL                   15223 non-null int64\n",
      "HS_PRESENCE_FL                15223 non-null int64\n",
      "COT_PRESENCE_FL               15223 non-null int64\n",
      "GAR_PRESENCE_FL               15223 non-null int64\n",
      "LAND_PRESENCE_FL              15223 non-null int64\n",
      "CREDIT                        15223 non-null object\n",
      "TERM                          15223 non-null int64\n",
      "FST_PAYMENT                   15223 non-null object\n",
      "DL_DOCUMENT_FL                15223 non-null int64\n",
      "GPF_DOCUMENT_FL               15223 non-null int64\n",
      "FACT_LIVING_TERM              15223 non-null int64\n",
      "WORK_TIME                     13855 non-null float64\n",
      "FACT_PHONE_FL                 15223 non-null int64\n",
      "REG_PHONE_FL                  15223 non-null int64\n",
      "GEN_PHONE_FL                  15223 non-null int64\n",
      "LOAN_NUM_TOTAL                15223 non-null int64\n",
      "LOAN_NUM_CLOSED               15223 non-null int64\n",
      "LOAN_NUM_PAYM                 15223 non-null int64\n",
      "LOAN_DLQ_NUM                  15223 non-null int64\n",
      "LOAN_MAX_DLQ                  15223 non-null int64\n",
      "LOAN_AVG_DLQ_AMT              15223 non-null object\n",
      "LOAN_MAX_DLQ_AMT              15223 non-null object\n",
      "PREVIOUS_CARD_NUM_UTILIZED    288 non-null float64\n",
      "dtypes: float64(2), int64(32), object(18)\n",
      "memory usage: 6.0+ MB\n"
     ]
    }
   ],
   "source": [
    "df_train.info()"
   ]
  },
  {
   "cell_type": "code",
   "execution_count": 6,
   "metadata": {},
   "outputs": [],
   "source": [
    "df_test = pd.read_csv('data/otp_test.csv', sep='\\t', encoding='utf8')"
   ]
  },
  {
   "cell_type": "code",
   "execution_count": 7,
   "metadata": {},
   "outputs": [
    {
     "name": "stdout",
     "output_type": "stream",
     "text": [
      "<class 'pandas.core.frame.DataFrame'>\n",
      "RangeIndex: 14910 entries, 0 to 14909\n",
      "Data columns (total 52 columns):\n",
      "AGREEMENT_RK                  14910 non-null int64\n",
      "TARGET                        14910 non-null int64\n",
      "AGE                           14910 non-null int64\n",
      "SOCSTATUS_WORK_FL             14910 non-null int64\n",
      "SOCSTATUS_PENS_FL             14910 non-null int64\n",
      "GENDER                        14910 non-null int64\n",
      "CHILD_TOTAL                   14910 non-null int64\n",
      "DEPENDANTS                    14910 non-null int64\n",
      "EDUCATION                     14910 non-null object\n",
      "MARITAL_STATUS                14910 non-null object\n",
      "GEN_INDUSTRY                  13564 non-null object\n",
      "GEN_TITLE                     13564 non-null object\n",
      "ORG_TP_STATE                  13564 non-null object\n",
      "ORG_TP_FCAPITAL               13567 non-null object\n",
      "JOB_DIR                       13564 non-null object\n",
      "FAMILY_INCOME                 14910 non-null object\n",
      "PERSONAL_INCOME               14910 non-null object\n",
      "REG_ADDRESS_PROVINCE          14910 non-null object\n",
      "FACT_ADDRESS_PROVINCE         14910 non-null object\n",
      "POSTAL_ADDRESS_PROVINCE       14910 non-null object\n",
      "TP_PROVINCE                   14615 non-null object\n",
      "REGION_NM                     14909 non-null object\n",
      "REG_FACT_FL                   14910 non-null int64\n",
      "FACT_POST_FL                  14910 non-null int64\n",
      "REG_POST_FL                   14910 non-null int64\n",
      "REG_FACT_POST_FL              14910 non-null int64\n",
      "REG_FACT_POST_TP_FL           14910 non-null int64\n",
      "FL_PRESENCE_FL                14910 non-null int64\n",
      "OWN_AUTO                      14910 non-null int64\n",
      "AUTO_RUS_FL                   14910 non-null int64\n",
      "HS_PRESENCE_FL                14910 non-null int64\n",
      "COT_PRESENCE_FL               14910 non-null int64\n",
      "GAR_PRESENCE_FL               14910 non-null int64\n",
      "LAND_PRESENCE_FL              14910 non-null int64\n",
      "CREDIT                        14910 non-null object\n",
      "TERM                          14910 non-null int64\n",
      "FST_PAYMENT                   14910 non-null object\n",
      "DL_DOCUMENT_FL                14910 non-null int64\n",
      "GPF_DOCUMENT_FL               14910 non-null int64\n",
      "FACT_LIVING_TERM              14910 non-null int64\n",
      "WORK_TIME                     13561 non-null float64\n",
      "FACT_PHONE_FL                 14910 non-null int64\n",
      "REG_PHONE_FL                  14910 non-null int64\n",
      "GEN_PHONE_FL                  14910 non-null int64\n",
      "LOAN_NUM_TOTAL                14910 non-null int64\n",
      "LOAN_NUM_CLOSED               14910 non-null int64\n",
      "LOAN_NUM_PAYM                 14910 non-null int64\n",
      "LOAN_DLQ_NUM                  14910 non-null int64\n",
      "LOAN_MAX_DLQ                  14910 non-null int64\n",
      "LOAN_AVG_DLQ_AMT              14910 non-null object\n",
      "LOAN_MAX_DLQ_AMT              14910 non-null object\n",
      "PREVIOUS_CARD_NUM_UTILIZED    312 non-null float64\n",
      "dtypes: float64(2), int64(32), object(18)\n",
      "memory usage: 5.9+ MB\n"
     ]
    }
   ],
   "source": [
    "df_test.info()"
   ]
  },
  {
   "cell_type": "code",
   "execution_count": 8,
   "metadata": {},
   "outputs": [
    {
     "data": {
      "text/html": [
       "<div>\n",
       "<style scoped>\n",
       "    .dataframe tbody tr th:only-of-type {\n",
       "        vertical-align: middle;\n",
       "    }\n",
       "\n",
       "    .dataframe tbody tr th {\n",
       "        vertical-align: top;\n",
       "    }\n",
       "\n",
       "    .dataframe thead th {\n",
       "        text-align: right;\n",
       "    }\n",
       "</style>\n",
       "<table border=\"1\" class=\"dataframe\">\n",
       "  <thead>\n",
       "    <tr style=\"text-align: right;\">\n",
       "      <th></th>\n",
       "      <th>AGREEMENT_RK</th>\n",
       "      <th>TARGET</th>\n",
       "      <th>AGE</th>\n",
       "      <th>SOCSTATUS_WORK_FL</th>\n",
       "      <th>SOCSTATUS_PENS_FL</th>\n",
       "      <th>GENDER</th>\n",
       "      <th>CHILD_TOTAL</th>\n",
       "      <th>DEPENDANTS</th>\n",
       "      <th>EDUCATION</th>\n",
       "      <th>MARITAL_STATUS</th>\n",
       "      <th>...</th>\n",
       "      <th>REG_PHONE_FL</th>\n",
       "      <th>GEN_PHONE_FL</th>\n",
       "      <th>LOAN_NUM_TOTAL</th>\n",
       "      <th>LOAN_NUM_CLOSED</th>\n",
       "      <th>LOAN_NUM_PAYM</th>\n",
       "      <th>LOAN_DLQ_NUM</th>\n",
       "      <th>LOAN_MAX_DLQ</th>\n",
       "      <th>LOAN_AVG_DLQ_AMT</th>\n",
       "      <th>LOAN_MAX_DLQ_AMT</th>\n",
       "      <th>PREVIOUS_CARD_NUM_UTILIZED</th>\n",
       "    </tr>\n",
       "  </thead>\n",
       "  <tbody>\n",
       "    <tr>\n",
       "      <th>0</th>\n",
       "      <td>59910150</td>\n",
       "      <td>0</td>\n",
       "      <td>49</td>\n",
       "      <td>1</td>\n",
       "      <td>0</td>\n",
       "      <td>1</td>\n",
       "      <td>2</td>\n",
       "      <td>1</td>\n",
       "      <td>Среднее специальное</td>\n",
       "      <td>Состою в браке</td>\n",
       "      <td>...</td>\n",
       "      <td>0</td>\n",
       "      <td>1</td>\n",
       "      <td>1</td>\n",
       "      <td>1</td>\n",
       "      <td>6</td>\n",
       "      <td>2</td>\n",
       "      <td>1</td>\n",
       "      <td>1580</td>\n",
       "      <td>1580</td>\n",
       "      <td>NaN</td>\n",
       "    </tr>\n",
       "    <tr>\n",
       "      <th>1</th>\n",
       "      <td>59910230</td>\n",
       "      <td>0</td>\n",
       "      <td>32</td>\n",
       "      <td>1</td>\n",
       "      <td>0</td>\n",
       "      <td>1</td>\n",
       "      <td>3</td>\n",
       "      <td>3</td>\n",
       "      <td>Среднее</td>\n",
       "      <td>Состою в браке</td>\n",
       "      <td>...</td>\n",
       "      <td>0</td>\n",
       "      <td>1</td>\n",
       "      <td>1</td>\n",
       "      <td>1</td>\n",
       "      <td>6</td>\n",
       "      <td>1</td>\n",
       "      <td>1</td>\n",
       "      <td>4020</td>\n",
       "      <td>4020</td>\n",
       "      <td>NaN</td>\n",
       "    </tr>\n",
       "    <tr>\n",
       "      <th>2</th>\n",
       "      <td>59910525</td>\n",
       "      <td>0</td>\n",
       "      <td>52</td>\n",
       "      <td>1</td>\n",
       "      <td>0</td>\n",
       "      <td>1</td>\n",
       "      <td>4</td>\n",
       "      <td>0</td>\n",
       "      <td>Неполное среднее</td>\n",
       "      <td>Состою в браке</td>\n",
       "      <td>...</td>\n",
       "      <td>0</td>\n",
       "      <td>1</td>\n",
       "      <td>2</td>\n",
       "      <td>1</td>\n",
       "      <td>11</td>\n",
       "      <td>0</td>\n",
       "      <td>0</td>\n",
       "      <td>0</td>\n",
       "      <td>0</td>\n",
       "      <td>NaN</td>\n",
       "    </tr>\n",
       "    <tr>\n",
       "      <th>3</th>\n",
       "      <td>59910803</td>\n",
       "      <td>0</td>\n",
       "      <td>39</td>\n",
       "      <td>1</td>\n",
       "      <td>0</td>\n",
       "      <td>1</td>\n",
       "      <td>1</td>\n",
       "      <td>1</td>\n",
       "      <td>Высшее</td>\n",
       "      <td>Состою в браке</td>\n",
       "      <td>...</td>\n",
       "      <td>1</td>\n",
       "      <td>1</td>\n",
       "      <td>1</td>\n",
       "      <td>1</td>\n",
       "      <td>6</td>\n",
       "      <td>3</td>\n",
       "      <td>1</td>\n",
       "      <td>1589,92333333333</td>\n",
       "      <td>1590</td>\n",
       "      <td>NaN</td>\n",
       "    </tr>\n",
       "    <tr>\n",
       "      <th>4</th>\n",
       "      <td>59911781</td>\n",
       "      <td>0</td>\n",
       "      <td>30</td>\n",
       "      <td>1</td>\n",
       "      <td>0</td>\n",
       "      <td>0</td>\n",
       "      <td>0</td>\n",
       "      <td>0</td>\n",
       "      <td>Среднее</td>\n",
       "      <td>Состою в браке</td>\n",
       "      <td>...</td>\n",
       "      <td>0</td>\n",
       "      <td>1</td>\n",
       "      <td>2</td>\n",
       "      <td>1</td>\n",
       "      <td>16</td>\n",
       "      <td>2</td>\n",
       "      <td>1</td>\n",
       "      <td>1152,15</td>\n",
       "      <td>2230</td>\n",
       "      <td>NaN</td>\n",
       "    </tr>\n",
       "  </tbody>\n",
       "</table>\n",
       "<p>5 rows × 52 columns</p>\n",
       "</div>"
      ],
      "text/plain": [
       "   AGREEMENT_RK  TARGET  AGE  SOCSTATUS_WORK_FL  SOCSTATUS_PENS_FL  GENDER  \\\n",
       "0      59910150       0   49                  1                  0       1   \n",
       "1      59910230       0   32                  1                  0       1   \n",
       "2      59910525       0   52                  1                  0       1   \n",
       "3      59910803       0   39                  1                  0       1   \n",
       "4      59911781       0   30                  1                  0       0   \n",
       "\n",
       "   CHILD_TOTAL  DEPENDANTS            EDUCATION  MARITAL_STATUS  \\\n",
       "0            2           1  Среднее специальное  Состою в браке   \n",
       "1            3           3              Среднее  Состою в браке   \n",
       "2            4           0     Неполное среднее  Состою в браке   \n",
       "3            1           1               Высшее  Состою в браке   \n",
       "4            0           0              Среднее  Состою в браке   \n",
       "\n",
       "             ...             REG_PHONE_FL GEN_PHONE_FL LOAN_NUM_TOTAL  \\\n",
       "0            ...                        0            1              1   \n",
       "1            ...                        0            1              1   \n",
       "2            ...                        0            1              2   \n",
       "3            ...                        1            1              1   \n",
       "4            ...                        0            1              2   \n",
       "\n",
       "  LOAN_NUM_CLOSED LOAN_NUM_PAYM LOAN_DLQ_NUM LOAN_MAX_DLQ  LOAN_AVG_DLQ_AMT  \\\n",
       "0               1             6            2            1              1580   \n",
       "1               1             6            1            1              4020   \n",
       "2               1            11            0            0                 0   \n",
       "3               1             6            3            1  1589,92333333333   \n",
       "4               1            16            2            1           1152,15   \n",
       "\n",
       "  LOAN_MAX_DLQ_AMT PREVIOUS_CARD_NUM_UTILIZED  \n",
       "0             1580                        NaN  \n",
       "1             4020                        NaN  \n",
       "2                0                        NaN  \n",
       "3             1590                        NaN  \n",
       "4             2230                        NaN  \n",
       "\n",
       "[5 rows x 52 columns]"
      ]
     },
     "execution_count": 8,
     "metadata": {},
     "output_type": "execute_result"
    }
   ],
   "source": [
    "df_train.head()"
   ]
  },
  {
   "cell_type": "markdown",
   "metadata": {},
   "source": [
    "## Объединим две выборки\n",
    "\n",
    "Так как пока мы пока не умеем работать sklearn  Pipeline, то для того, чтобы после предобработки столбцы в двух выборках находились на своих местах.\n",
    "\n",
    "Для того, чтобы в дальнейшем отделить их введем новый столбец \"sample\""
   ]
  },
  {
   "cell_type": "code",
   "execution_count": 9,
   "metadata": {},
   "outputs": [
    {
     "data": {
      "text/plain": [
       "(30133, 53)"
      ]
     },
     "execution_count": 9,
     "metadata": {},
     "output_type": "execute_result"
    }
   ],
   "source": [
    "df_train.loc[:, 'sample'] = 'train'\n",
    "df_test.loc[:, 'sample'] = 'test'\n",
    "df = df_test.append(df_train).reset_index(drop=True)\n",
    "df.shape"
   ]
  },
  {
   "cell_type": "markdown",
   "metadata": {},
   "source": [
    "### Чуть-чуть посмотрим на данные"
   ]
  },
  {
   "cell_type": "markdown",
   "metadata": {
    "collapsed": true
   },
   "source": [
    "Посмотрим типы данных и их заполняемость"
   ]
  },
  {
   "cell_type": "code",
   "execution_count": 10,
   "metadata": {},
   "outputs": [
    {
     "name": "stdout",
     "output_type": "stream",
     "text": [
      "<class 'pandas.core.frame.DataFrame'>\n",
      "RangeIndex: 30133 entries, 0 to 30132\n",
      "Data columns (total 53 columns):\n",
      "AGREEMENT_RK                  30133 non-null int64\n",
      "TARGET                        30133 non-null int64\n",
      "AGE                           30133 non-null int64\n",
      "SOCSTATUS_WORK_FL             30133 non-null int64\n",
      "SOCSTATUS_PENS_FL             30133 non-null int64\n",
      "GENDER                        30133 non-null int64\n",
      "CHILD_TOTAL                   30133 non-null int64\n",
      "DEPENDANTS                    30133 non-null int64\n",
      "EDUCATION                     30133 non-null object\n",
      "MARITAL_STATUS                30133 non-null object\n",
      "GEN_INDUSTRY                  27420 non-null object\n",
      "GEN_TITLE                     27420 non-null object\n",
      "ORG_TP_STATE                  27420 non-null object\n",
      "ORG_TP_FCAPITAL               27425 non-null object\n",
      "JOB_DIR                       27420 non-null object\n",
      "FAMILY_INCOME                 30133 non-null object\n",
      "PERSONAL_INCOME               30133 non-null object\n",
      "REG_ADDRESS_PROVINCE          30133 non-null object\n",
      "FACT_ADDRESS_PROVINCE         30133 non-null object\n",
      "POSTAL_ADDRESS_PROVINCE       30133 non-null object\n",
      "TP_PROVINCE                   29543 non-null object\n",
      "REGION_NM                     30131 non-null object\n",
      "REG_FACT_FL                   30133 non-null int64\n",
      "FACT_POST_FL                  30133 non-null int64\n",
      "REG_POST_FL                   30133 non-null int64\n",
      "REG_FACT_POST_FL              30133 non-null int64\n",
      "REG_FACT_POST_TP_FL           30133 non-null int64\n",
      "FL_PRESENCE_FL                30133 non-null int64\n",
      "OWN_AUTO                      30133 non-null int64\n",
      "AUTO_RUS_FL                   30133 non-null int64\n",
      "HS_PRESENCE_FL                30133 non-null int64\n",
      "COT_PRESENCE_FL               30133 non-null int64\n",
      "GAR_PRESENCE_FL               30133 non-null int64\n",
      "LAND_PRESENCE_FL              30133 non-null int64\n",
      "CREDIT                        30133 non-null object\n",
      "TERM                          30133 non-null int64\n",
      "FST_PAYMENT                   30133 non-null object\n",
      "DL_DOCUMENT_FL                30133 non-null int64\n",
      "GPF_DOCUMENT_FL               30133 non-null int64\n",
      "FACT_LIVING_TERM              30133 non-null int64\n",
      "WORK_TIME                     27416 non-null float64\n",
      "FACT_PHONE_FL                 30133 non-null int64\n",
      "REG_PHONE_FL                  30133 non-null int64\n",
      "GEN_PHONE_FL                  30133 non-null int64\n",
      "LOAN_NUM_TOTAL                30133 non-null int64\n",
      "LOAN_NUM_CLOSED               30133 non-null int64\n",
      "LOAN_NUM_PAYM                 30133 non-null int64\n",
      "LOAN_DLQ_NUM                  30133 non-null int64\n",
      "LOAN_MAX_DLQ                  30133 non-null int64\n",
      "LOAN_AVG_DLQ_AMT              30133 non-null object\n",
      "LOAN_MAX_DLQ_AMT              30133 non-null object\n",
      "PREVIOUS_CARD_NUM_UTILIZED    600 non-null float64\n",
      "sample                        30133 non-null object\n",
      "dtypes: float64(2), int64(32), object(19)\n",
      "memory usage: 12.2+ MB\n"
     ]
    }
   ],
   "source": [
    "df.info()"
   ]
  },
  {
   "cell_type": "markdown",
   "metadata": {
    "collapsed": true
   },
   "source": [
    "Видим, что часть данных - object, скорее всего стоки.\n",
    "\n",
    "\n",
    "Давайте выведем эти значения для каждого столбца"
   ]
  },
  {
   "cell_type": "code",
   "execution_count": 11,
   "metadata": {},
   "outputs": [
    {
     "name": "stdout",
     "output_type": "stream",
     "text": [
      "==========\n",
      "EDUCATION\n",
      "{'Неполное среднее', 'Два и более высших образования', 'Среднее специальное', 'Высшее', 'Неоконченное высшее', 'Среднее', 'Ученая степень'}\n",
      "\n",
      "\n",
      "==========\n",
      "MARITAL_STATUS\n",
      "{'Гражданский брак', 'Разведен(а)', 'Не состоял в браке', 'Состою в браке', 'Вдовец/Вдова'}\n",
      "\n",
      "\n",
      "==========\n",
      "GEN_INDUSTRY\n",
      "{nan, 'Сборочные производства', 'Развлечения/Искусство', 'ЧОП/Детективная д-ть', 'Образование', 'Недвижимость', 'Банк/Финансы', 'Торговля', 'Химия/Парфюмерия/Фармацевтика', 'Салоны красоты и здоровья', 'Энергетика', 'Юридические услуги/нотариальные услуги', 'Транспорт', 'Другие сферы', 'Ресторанный бизнес/Общественное питание', 'Государственная служба', 'Информационные технологии', 'Туризм', 'Здравоохранение', 'Логистика', 'Наука', 'Маркетинг', 'Страхование', 'Коммунальное хоз-во/Дорожные службы', 'СМИ/Реклама/PR-агенства', 'Информационные услуги', 'Строительство', 'Металлургия/Промышленность/Машиностроение', 'Сельское хозяйство', 'Подбор персонала', 'Нефтегазовая промышленность', 'Управляющая компания'}\n",
      "\n",
      "\n",
      "==========\n",
      "GEN_TITLE\n",
      "{nan, 'Партнер', 'Военнослужащий по контракту', 'Специалист', 'Руководитель высшего звена', 'Работник сферы услуг', 'Высококвалифиц. специалист', 'Рабочий', 'Другое', 'Индивидуальный предприниматель', 'Руководитель среднего звена', 'Служащий', 'Руководитель низшего звена'}\n",
      "\n",
      "\n",
      "==========\n",
      "ORG_TP_STATE\n",
      "{nan, 'Частная компания', 'Частная ком. с инос. капиталом', 'Государственная комп./учреж.', 'Индивидуальный предприниматель', 'Некоммерческая организация'}\n",
      "\n",
      "\n",
      "==========\n",
      "ORG_TP_FCAPITAL\n",
      "{nan, 'Без участия', 'С участием'}\n",
      "\n",
      "\n",
      "==========\n",
      "JOB_DIR\n",
      "{nan, 'Участие в основ. деятельности', 'Реклама и маркетинг', 'Служба безопасности', 'Адм-хоз. и трансп. службы', 'Вспомогательный техперсонал', 'Кадровая служба и секретариат', 'Бухгалтерия, финансы, планир.', 'Юридическая служба', 'Пр-техн. обесп. и телеком.', 'Снабжение и сбыт'}\n",
      "\n",
      "\n",
      "==========\n",
      "FAMILY_INCOME\n",
      "{'от 10000 до 20000 руб.', 'до 5000 руб.', 'от 5000 до 10000 руб.', 'от 20000 до 50000 руб.', 'свыше 50000 руб.'}\n",
      "\n",
      "\n",
      "==========\n",
      "PERSONAL_INCOME\n",
      "{'7700', '6100', '13900', '14358', '4400', '23100', '77000', '32640', '7640', '8100', '7000', '7800', '26000', '51000', '8800', '5600', '9200', '6300', '47000', '42500', '67700', '160000', '18200', '11800', '29500', '6180', '6000', '19000', '46000', '6400', '8900', '13000', '35000', '20646,16', '9500', '9700', '3700', '11300', '19600', '15200', '27300', '17800', '11200', '23800', '11500', '54000', '70000', '29800', '7251', '9300', '19800', '19500', '10500', '5790', '12700', '12400', '18000', '2100', '34000', '5200', '7400', '2300', '53000', '15400', '21800', '24800', '4590', '11700', '4900', '3900', '7550', '40000', '37000', '27000', '4340', '12300', '38000', '45000', '5582', '4800', '17500', '12500', '10400', '20000', '5700', '22000', '4200', '16800', '16050', '21000', '8000', '5900', '5339', '8066', '9900', '100000', '4360', '5446', '6200', '8300', '9330', '22500', '10600', '3500', '8700', '4600', '4500', '6800', '14800', '4000', '5460', '17200', '41900', '16900', '24000', '6900', '1950', '6608', '10000', '6670', '10200', '5088', '14500', '29000', '3300', '12900', '6600', '15300', '7830', '9400', '7300', '10100', '14000', '13150', '3100', '15500', '9240', '42000', '7220', '5425', '14300', '11400', '15560', '150000', '8400', '65000', '13400', '17600', '25800', '28300', '13200', '43000', '2000', '5350', '21500', '8726', '11900', '14700', '17000', '12000', '220000', '10300', '18500', '5400', '5680', '16000', '15000', '16700', '4330', '3600', '20500', '19300', '10800', '11640', '10700', '24500', '7850', '9000', '7900', '22955', '5230', '6700', '12600', '41000', '25000', '6500', '11000', '9600', '39000', '49000', '36000', '170000', '5300', '16100', '18600', '5800', '9628', '8600', '17404', '5000', '15380', '9100', '6359', '80000', '8500', '7600', '250000', '7100', '24', '7500', '18700', '50000', '7101', '7050', '5100', '15600', '3000', '67000', '26500', '9340', '5360', '4100', '13500', '5050', '3400', '60000', '8250', '13700', '92000', '68000', '23500', '33000', '17900', '13300', '31000', '7650', '4700', '3800', '13600', '13450', '16500', '12800', '3200', '12650', '7250', '52000', '110000', '4515', '75000', '17700', '4300', '44000', '10900', '4950', '8200', '55000', '9800', '48000', '13160', '32000', '19700', '7200', '6299,19', '28000', '8350', '13800', '23000', '11600', '2800', '12100', '30000', '56000', '16200', '5500'}\n",
      "\n",
      "\n",
      "==========\n",
      "REG_ADDRESS_PROVINCE\n",
      "{'Ханты-Мансийский АО', 'Владимирская область', 'Мурманская область', 'Калининградская область', 'Тульская область', 'Якутия', 'Коми', 'Приморский край', 'Орловская область', 'Краснодарский край', 'Амурская область', 'Воронежская область', 'Нижегородская область', 'Красноярский край', 'Ростовская область', 'Ставропольский край', 'Вологодская область', 'Кировская область', 'Магаданская область', 'Сахалинская область', 'Карелия', 'Алтайский край', 'Волгоградская область', 'Пензенская область', 'Санкт-Петербург', 'Челябинская область', 'Астраханская область', 'Ульяновская область', 'Марийская республика', 'Калмыкия', 'Усть-Ордынский Бурятский АО', 'Смоленская область', 'Кабардино-Балкария', 'Удмуртия', 'Курганская область', 'Еврейская АО', 'Брянская область', 'Камчатская область', 'Оренбургская область', 'Читинская область', 'Тюменская область', 'Бурятия', 'Костромская область', 'Карачаево-Черкесия', 'Тверская область', 'Новгородская область', 'Татарстан', 'Самарская область', 'Ивановская область', 'Архангельская область', 'Томская область', 'Ленинградская область', 'Пермская область', 'Ямало-Ненецкий АО', 'Москва', 'Северная Осетия', 'Хабаровский край', 'Тамбовская область', 'Горный Алтай', 'Хакасия', 'Чувашия', 'Калужская область', 'Адыгея', 'Ярославская область', 'Мордовская республика', 'Псковская область', 'Иркутская область', 'Саратовская область', 'Курская область', 'Дагестан', 'Агинский Бурятский АО', 'Эвенкийский АО', 'Башкирия', 'Московская область', 'Кемеровская область', 'Липецкая область', 'Новосибирская область', 'Белгородская область', 'Омская область', 'Рязанская область', 'Свердловская область'}\n",
      "\n",
      "\n",
      "==========\n",
      "FACT_ADDRESS_PROVINCE\n",
      "{'Ханты-Мансийский АО', 'Владимирская область', 'Мурманская область', 'Калининградская область', 'Тульская область', 'Якутия', 'Коми', 'Приморский край', 'Орловская область', 'Краснодарский край', 'Амурская область', 'Воронежская область', 'Нижегородская область', 'Красноярский край', 'Ростовская область', 'Ставропольский край', 'Вологодская область', 'Кировская область', 'Магаданская область', 'Сахалинская область', 'Карелия', 'Алтайский край', 'Волгоградская область', 'Пензенская область', 'Санкт-Петербург', 'Челябинская область', 'Астраханская область', 'Ульяновская область', 'Марийская республика', 'Калмыкия', 'Усть-Ордынский Бурятский АО', 'Смоленская область', 'Кабардино-Балкария', 'Удмуртия', 'Курганская область', 'Еврейская АО', 'Брянская область', 'Камчатская область', 'Оренбургская область', 'Читинская область', 'Тюменская область', 'Бурятия', 'Костромская область', 'Карачаево-Черкесия', 'Тверская область', 'Новгородская область', 'Татарстан', 'Самарская область', 'Ивановская область', 'Архангельская область', 'Томская область', 'Ленинградская область', 'Пермская область', 'Ямало-Ненецкий АО', 'Москва', 'Северная Осетия', 'Хабаровский край', 'Тамбовская область', 'Горный Алтай', 'Хакасия', 'Чувашия', 'Калужская область', 'Адыгея', 'Ярославская область', 'Мордовская республика', 'Псковская область', 'Иркутская область', 'Саратовская область', 'Курская область', 'Агинский Бурятский АО', 'Эвенкийский АО', 'Дагестан', 'Башкирия', 'Московская область', 'Кемеровская область', 'Липецкая область', 'Новосибирская область', 'Белгородская область', 'Омская область', 'Рязанская область', 'Свердловская область'}\n",
      "\n",
      "\n",
      "==========\n",
      "POSTAL_ADDRESS_PROVINCE\n",
      "{'Ханты-Мансийский АО', 'Владимирская область', 'Мурманская область', 'Калининградская область', 'Тульская область', 'Якутия', 'Коми', 'Приморский край', 'Орловская область', 'Краснодарский край', 'Амурская область', 'Воронежская область', 'Нижегородская область', 'Красноярский край', 'Ростовская область', 'Ставропольский край', 'Вологодская область', 'Кировская область', 'Магаданская область', 'Сахалинская область', 'Карелия', 'Алтайский край', 'Волгоградская область', 'Пензенская область', 'Санкт-Петербург', 'Челябинская область', 'Астраханская область', 'Ульяновская область', 'Марийская республика', 'Калмыкия', 'Усть-Ордынский Бурятский АО', 'Смоленская область', 'Кабардино-Балкария', 'Удмуртия', 'Курганская область', 'Еврейская АО', 'Брянская область', 'Камчатская область', 'Оренбургская область', 'Читинская область', 'Тюменская область', 'Бурятия', 'Костромская область', 'Карачаево-Черкесия', 'Тверская область', 'Новгородская область', 'Татарстан', 'Самарская область', 'Ивановская область', 'Архангельская область', 'Томская область', 'Ленинградская область', 'Пермская область', 'Ямало-Ненецкий АО', 'Москва', 'Северная Осетия', 'Хабаровский край', 'Тамбовская область', 'Горный Алтай', 'Хакасия', 'Чувашия', 'Калужская область', 'Адыгея', 'Ярославская область', 'Мордовская республика', 'Псковская область', 'Иркутская область', 'Саратовская область', 'Курская область', 'Агинский Бурятский АО', 'Эвенкийский АО', 'Башкирия', 'Московская область', 'Кемеровская область', 'Липецкая область', 'Новосибирская область', 'Белгородская область', 'Омская область', 'Рязанская область', 'Свердловская область'}\n",
      "\n",
      "\n",
      "==========\n",
      "TP_PROVINCE\n",
      "{nan, 'Ханты-Мансийский АО', 'Владимирская область', 'Мурманская область', 'Калининградская область', 'Тульская область', 'Якутия', 'Коми', 'Приморский край', 'Орловская область', 'Краснодарский край', 'Амурская область', 'Воронежская область', 'Нижегородская область', 'Красноярский край', 'Ростовская область', 'Ставропольский край', 'Вологодская область', 'Кировская область', 'Магаданская область', 'Сахалинская область', 'Карелия', 'Алтайский край', 'Волгоградская область', 'Пензенская область', 'Санкт-Петербург', 'Челябинская область', 'Астраханская область', 'Ульяновская область', 'Марийская республика', 'Смоленская область', 'Удмуртия', 'Кабардино-Балкария', 'Курганская область', 'Еврейская АО', 'Брянская область', 'Камчатская область', 'Оренбургская область', 'Читинская область', 'Тюменская область', 'Бурятия', 'Костромская область', 'Тверская область', 'Новгородская область', 'Татарстан', 'Самарская область', 'Ивановская область', 'Архангельская область', 'Томская область', 'Пермская область', 'Москва', 'Хабаровский край', 'Тамбовская область', 'Горный Алтай', 'Чувашия', 'Калужская область', 'Адыгея', 'Ярославская область', 'Мордовская республика', 'Псковская область', 'Иркутская область', 'Саратовская область', 'Курская область', 'Башкирия', 'Кемеровская область', 'Липецкая область', 'Новосибирская область', 'Белгородская область', 'Омская область', 'Рязанская область', 'Свердловская область'}\n",
      "\n",
      "\n",
      "==========\n",
      "REGION_NM\n",
      "{nan, 'ПРИВОЛЖСКИЙ', 'ЗАПАДНО-СИБИРСКИЙ', 'ЦЕНТРАЛЬНЫЙ ОФИС', 'ВОСТОЧНО-СИБИРСКИЙ', 'СЕВЕРО-ЗАПАДНЫЙ', 'УРАЛЬСКИЙ', 'ПОВОЛЖСКИЙ', 'ЮЖНЫЙ', 'ЦЕНТРАЛЬНЫЙ 1', 'ДАЛЬНЕВОСТОЧНЫЙ', 'ЦЕНТРАЛЬНЫЙ 2'}\n",
      "\n",
      "\n",
      "==========\n",
      "CREDIT\n",
      "{'18670', '9748', '14338', '17940', '6540', '23706', '5103', '6300', '15127,4', '28042', '14766', '5562', '8070', '17366', '26560', '119700', '36086', '19989', '27645', '14820', '20995', '26183,5', '14390', '22650', '3490', '15948', '5632', '13288', '18113', '8889', '59009', '4880', '31490', '15240', '24600', '6502', '11496', '18972', '3789', '3860', '5178', '32828', '7083,05', '25386', '15704', '15190,5', '53673', '11551', '10992', '6507', '24740', '23600', '4768', '30197', '13040', '24506', '7998', '39450', '3440', '19950', '4589', '9826', '9301', '21919', '6081', '4268', '12790', '5435', '12350', '75581', '8833', '41021', '23320', '15824', '31933', '7369,7', '25992', '15393', '33126', '79380', '16766', '10483', '10712', '18610', '30198', '24233', '7224', '15658', '21960', '9769', '8057', '16830', '18490,91', '2955', '12868', '21770', '10706', '10470', '4809', '50000', '3103,2', '7180,9', '16240', '36900', '3385,83', '34140', '5432', '8870', '7336,3', '3815', '4180', '21475', '7250', '52000', '60888', '2961', '22150', '23202', '7651', '17888', '9800', '9107', '4040,1', '7620', '20698', '12742', '8460', '18105', '13257', '30150', '12560,01', '16045,2', '4440', '6546', '24741', '13435', '18517,1', '74690', '52469,87', '10398', '30391', '4428', '23900', '30170', '13000', '3149', '18566', '28402', '15748', '10322', '34195', '13380,56', '22792', '26462', '4911', '12640', '6640', '12999', '28215', '23840', '8753', '4653', '12209,5', '18130', '16070', '20601', '25050', '18550', '13690', '7766', '4148', '2243,7', '21890', '28308', '10497', '8536', '98042', '10551', '26780', '25406', '5847', '3906', '10446', '20090', '10200', '6246', '19798', '18049', '30370', '19050', '3722', '40410', '15030', '16399', '19051', '10205,5', '14119', '8902', '9899', '16859', '19998', '16670', '24200', '22356', '16985', '6920', '16112', '13402', '6875', '8652', '16128', '9019', '5799', '24100,83', '12348', '7632', '3892', '14659,2', '22617', '28810', '12136', '24346', '13494', '32975,3', '23044', '34821', '20305', '8033', '7507', '20069,33', '3654', '10591', '14849', '22692,96', '6863', '20430', '78550', '6834', '13409', '10737', '14470', '19895', '4746', '9350', '12195', '28059', '9296', '12450', '16824', '29975', '10773', '6559', '4950', '10423', '16358', '21920', '42408', '19960', '6420', '6959', '24777', '23758', '8419', '29742', '15121', '2341', '21216', '4221', '13294', '23390', '8299', '2065,5', '18425', '3824', '73300', '6282', '22872', '7189,6', '11650', '3798,9', '25506,19', '26000', '9899,1', '60500', '7334', '8490,92', '7949', '3545', '15085', '8717', '16669,84', '6049', '22455', '14900', '5706', '6990', '8050', '24650', '15680', '99540', '3215', '7950', '8220', '20715', '30686', '21900', '14469', '31895,48', '16977', '6141,75', '24059', '26380', '15020', '18361', '8995', '4999', '5869', '9923', '6256,8', '7357', '30930', '20140', '12810,94', '39830', '6930', '12493', '4500', '5687', '26543', '12435', '7570', '2595', '23790', '9260', '4314', '9250', '18300', '20856', '96000', '10656', '14596', '7890', '4842', '13748', '4683', '14000', '4079', '19358', '25211', '21670', '5530', '7391', '5350', '25623', '17860', '9199', '9010', '12380', '16999', '7899', '12389', '8644', '26164', '23057', '7720', '20699,1', '17466', '7845', '10061', '11410', '17770', '7539', '8630', '31484,1', '19608', '4598,6', '4318,2', '7660', '7280', '10870', '33475', '19128,41', '19419', '6299', '11996', '9530', '18389', '5724,2', '14688', '11586', '33500', '6567', '6960', '29880', '19970', '7752', '15347', '3322', '7160', '8275', '8948', '23000', '30673', '7847', '19622', '24983', '9405', '18380', '4243', '82800', '3430', '10740,64', '12411', '13265', '17990', '23488', '9989', '6327', '2330', '34422', '26529', '29205', '31596,92', '2150', '12597,3', '22198,1', '26379', '21243', '5548', '14857', '24263', '4339', '16300', '11786,85', '79959', '4485', '24881', '11670', '17091', '16050', '10850', '17398,1', '3897', '10052', '21482', '26970,6', '10158', '8685', '30980', '32041', '16105', '10508', '8762', '29680', '23396', '18630', '8381', '8421', '31790', '18698', '42740', '3919', '10265', '18650', '53162', '5287', '12840', '39900', '17398,2', '9971,89', '11677', '24833', '11345', '3222', '28110', '18175', '21250', '4115', '11665', '2255,4', '19150', '8544', '11090', '9510', '4555', '5605', '8994', '14513', '18949', '4239', '17790', '23406', '46921', '11724', '18170', '13195', '4240,91', '16450,71', '7150', '11133', '15960', '12599,9', '92951', '10506,76', '12884', '6491', '5031', '37450', '20424', '37350', '19296', '27939', '21648', '14360', '9227', '17193', '18719', '30974', '9550', '3786', '17490', '53364', '19945,35', '4970', '84630', '9680', '33097', '7486,1', '13010', '21197', '14383', '10991', '14571', '7313', '7838', '14493', '13829', '28273', '6278', '7581', '20770', '7381', '6935', '19520', '38200', '19627', '13990', '22317', '23453', '14872', '41210', '9570', '4882', '23197', '24275', '7797,6', '22075', '4188', '6792', '6090', '11776', '18934', '7285', '3827', '7741', '15556', '45034', '4250', '5040', '21660', '3886', '16991', '4420', '4428,1', '24520', '14730', '32580', '4212,8', '27550', '29334', '21588', '16551', '61920', '10198', '22221', '21312', '16715', '8490', '19143', '8406', '64670', '15580', '16320', '4930,95', '7621', '9116', '7755', '17538', '7370', '4812', '21915', '8064', '27795', '17459', '17769', '6679', '7863', '20440', '3501', '6336', '41000', '4098', '17316', '6707', '20040', '14644', '18370', '23579', '20630', '8715', '28460', '22168', '15771', '3034', '22670', '33678,2', '11405', '19999', '7649', '6270', '8977', '18693', '4345', '20488', '16425', '3771', '13495', '8188,04', '5144', '18711,05', '12509,9', '6454,8', '16440', '78120', '7544', '5990', '28850', '7174,6', '12080', '19089', '16576,2', '6146', '7240', '11025', '26871', '20753', '24362', '7990', '30344', '11399', '6182', '29640', '2435', '5290', '5889', '31520', '6142', '13875', '5436', '5333', '18074', '2950', '21505', '5600', '14600', '11639', '29500', '15895', '11286', '11279', '12520', '10419', '17752', '31646', '43573', '15914', '12198', '27690', '7296', '2499', '4351', '8160', '6190,92', '12400', '29788', '13137', '21710', '5895', '32980', '3930,81', '19129', '19497', '12678', '12454', '25680', '32370', '18575,2', '3553', '5097', '29622', '35669', '70300', '3199,2', '11303', '20196', '19301', '7578', '10600', '16312', '12170', '6023,7', '17110', '34700', '7019', '14540,04', '30220', '62550', '9098', '16389', '19005', '6048', '30813', '10697', '4377', '19983', '18582', '13999', '19410', '15016', '8380', '21870', '39980', '14205', '5232,2', '14144', '10570', '4240', '5285', '31404', '13240', '18689', '6136', '12600', '4510', '9620', '6744', '7875', '6781', '6925', '9754', '14978', '17575', '17930', '14355', '5871', '2790', '3850,85', '19490', '15293', '6544', '12077', '5025', '6787,8', '15430', '21685', '3320', '23204', '13476', '8960', '3892,2', '16175', '19746', '4326', '21810', '4628', '12546', '18204', '6678', '17080', '45820', '35750', '24897', '9908', '25298', '10935', '6730', '6020', '19760', '6556', '6522', '8912', '18334', '11997,2', '16838', '6745', '9300', '11446', '9349,92', '5790', '33450', '3874', '2248', '8532', '25896', '11595', '5058', '5690', '9420', '4938', '3205', '36910', '7327,8', '15621', '3509', '15582', '16045', '11039', '11799', '28294', '7999', '13439', '10740', '6597', '12219', '7888', '30656', '3072', '7425', '27370', '11765', '20220', '17670', '28421', '11808', '3951', '11223', '9950', '6982', '21464', '9931', '5175', '26321', '8978', '8204', '11718,94', '29206', '9927', '7905', '26034', '4362', '21550', '16000', '6514', '5294', '6561,9', '21042', '9835', '24160', '5676', '61600', '16194', '11518', '9128', '12160', '34280', '57581', '17560', '12919', '5355', '24889', '7440', '13926', '2975', '5555', '9629', '39240', '14574', '14133', '27096', '3490,92', '12339', '16998', '23103', '19095', '11955', '7107', '9050', '28509', '9702', '13030', '11600', '3769', '9440', '25179', '14410', '13577', '11362', '2200', '16290', '14100', '16490', '16834', '7580', '14430', '3784', '22188', '9069', '6470', '6652', '13315', '8102', '4458', '23772,27', '7084', '9728', '13978', '22330', '27886', '6397', '19390', '12251', '9448', '2559', '3237', '14380', '29199', '7400', '16760', '28450', '15400', '5489', '22860', '21380', '3119', '21246', '8589', '18913', '3999', '6298,6', '5431,2', '15115', '7431', '17688', '16989,92', '22980', '9574', '3390', '19990', '5242,3', '17509', '11764', '15045', '2241', '63657', '11470', '8398,1', '3744', '4257', '22192', '4858', '13360', '7210', '10650', '17649', '10112,8', '9430', '15120', '14998', '7975', '12725', '7730', '12342', '82162', '15832', '18121', '9180', '35940', '16198', '31450', '15000', '4853', '6373', '8424', '23700', '10617', '5091', '13310', '6480', '4210', '15755', '8658', '28594', '9840', '10884', '38340', '23945', '3923', '22214,69', '5966,7', '18006', '6127', '22590', '16634,5', '33000', '17690', '3630', '25765', '17190', '12750', '60829', '2881', '14629', '6338', '11790', '26889', '11725', '6892', '2048', '21746', '38718', '14295', '26960', '27500', '33344', '23930', '23100', '5540', '13644', '15003', '18724', '9577,8', '15598', '19430', '26708', '7682', '13728', '5189', '13699', '12972', '11855', '13910', '9963', '13745', '7090', '53000', '13872', '20575', '13157', '7194,72', '19502', '12741', '30011', '7910', '9567', '3561', '3130', '4841', '2691', '6525', '4452,91', '10040', '9497', '28932', '27005', '14288', '23750', '5759', '8829', '9798', '6779', '21280', '15084', '12385', '6789', '10216', '7655', '2072,7', '7272', '15314', '3330', '48800', '17220', '13490,2', '2797', '8792', '6350', '5419', '30420', '21736,2', '10456', '3899', '17541', '10782', '31502', '10990,94', '18782,2', '7703,1', '7582', '11755', '20698,2', '10233', '20050', '8951', '31910', '6904', '35530', '22145,1', '7619', '5516', '33862', '18580', '12480', '17320', '19295', '11081,52', '24120', '19730', '13006', '5997', '12980', '22515', '2940', '98136', '7839', '17089,9', '5818,5', '3128,2', '12800', '27599', '27342,5', '4889', '9468', '8381,5', '4463', '11520', '17430', '16882', '11810', '7965', '5949', '6457', '20464', '35520', '6181,09', '10981,82', '3060', '27990,91', '34557,1', '29384', '15650', '9198', '4160', '18603', '19840', '10115', '5388', '3141', '24015', '16218', '3575', '15800', '18080', '20063', '5650', '10500', '17361,76', '20536', '22180', '20450', '10990,91', '13490', '24239', '29997,24', '23186', '7207', '15990', '2999', '9837', '13846', '24059,83', '2030', '3173', '3069,9', '21000', '15784', '23584', '6050', '43010', '16910', '27750', '41700', '10989', '4089', '6662', '12645', '5897', '21808', '7017', '44660', '21910', '10256,1', '89640', '19082,3', '3470', '4934', '24502', '23451', '23499', '5020', '4602', '5922', '10191', '6969', '4475', '9268', '6843', '44560', '70936,32', '25500', '9755', '21760', '39800', '11560', '5745,12', '21340', '17895', '70360', '3996,9', '11099', '7399', '4169', '10084', '27250', '15790', '29400', '19513', '7810', '12628,91', '6578', '13539,2', '8600', '10526', '45280', '27348', '13590', '18240,91', '9990,91', '40824', '44415', '27510', '53169', '3160', '6364', '27493', '21128', '25785', '27781', '19650', '2569', '9654', '10260', '14717', '48000', '23154', '6273', '21204', '5299', '4940', '16185', '6455', '5765', '11524,79', '12250', '8116', '9009,91', '9351', '12090', '17991', '18598', '13895', '12390', '77000', '21200', '51000', '39741', '3904,3', '21420', '14890', '12716', '9700', '17850', '12670', '3354', '10250', '24760', '25749', '15390', '42135', '39720', '21270', '21105', '4672', '16005', '6452', '7550', '18898', '34804', '21943', '19748', '22498', '39276', '29234', '5282', '5347', '25683', '20670', '17815', '10660', '3321', '16615', '6710', '16995', '7745', '20317', '10349', '20980', '28955', '17510', '12262', '14891', '54105', '16733', '13301', '31255', '34650', '9499', '58947', '42000', '28041', '21889,92', '14420', '18984', '9919', '15850', '23735', '73230', '9341,5', '77762', '7448', '8169,55', '6039', '3745', '4936', '22530', '19854', '20931', '19044', '8006,1', '17272', '4690', '9290,91', '32822', '25702', '5409', '5105,7', '17955', '18790', '16814', '30325', '6938', '6247', '7667', '18030', '17280', '3492', '8389', '18410', '37456', '40084', '9235', '21827', '21762', '5050', '6250', '36177', '34500', '13063', '10295', '15201', '4835', '13980', '7348', '5612', '24344', '7197', '34806', '11269', '3418,5', '11648', '7892', '4735', '36400', '18440', '8857', '15570', '23148', '25498', '14175', '18940', '34148', '74650', '35100', '11389,2', '20179,3', '7980', '16063,29', '19600', '4059', '9173,88', '15575', '13948,2', '8830', '8129', '15883', '10496', '3950', '20852', '11787', '36701', '6906', '4590', '16467', '26999', '30471', '5304', '56340', '4923', '4470', '6470,9', '14013', '11188,14', '18810', '20653', '34335', '7189', '19660', '10287', '11778', '10616', '21382', '11817', '8700', '6071', '9650', '21673', '46500', '7290', '18040', '26365,6', '24599', '2860', '20768', '5535', '13383', '22240', '6630', '29799', '7493', '29760', '9349', '6675', '11429', '21480', '9397', '3138', '14489,2', '18849', '30422', '16745', '16700', '15670', '31460', '15299', '8543', '7812', '23109', '23170', '9555', '20871', '18280', '7120', '29220', '11130', '3033,9', '6928', '11323', '2629,8', '50940', '97026', '25100', '31060', '5963', '3276', '6255,15', '3001', '12232', '4212,9', '40900', '3195', '12310', '18398', '15147', '23980', '25897', '24495', '11960', '26219', '14199', '9406', '4315', '4056', '18374', '7867', '17432', '5019', '2751', '13287', '22575', '31833', '8459', '37440', '37790', '13392', '2270', '19080', '28820', '19218', '9551', '6323,33', '18200', '3152', '11322', '10687', '8910', '29694', '11391', '21146,4', '15200', '5748', '12872', '11990,95', '12412', '14107', '16048', '2100', '6089', '4611', '4979', '24190', '6999,9', '39254', '77210', '21640', '17720', '11385', '26555', '5700', '2039', '10779', '3639', '8869', '25662', '17580', '58541', '10665', '5689', '16040', '23411', '9470', '33760', '12906', '6750', '11890', '15599', '6696', '9823', '29250', '21479', '6419,78', '9429', '12947', '19938', '9400', '8320', '19991', '15560', '65000', '30681', '5796', '6783', '4679', '8289', '14570,01', '12755', '16272', '4491', '15309', '7740', '6377', '16872,3', '11529', '15720,91', '4522', '71400', '18760,75', '84570', '3411', '11100', '22250', '46600', '2879', '2889', '15512', '13598', '3520', '20699', '32706', '3270', '4302', '30050', '4743', '21214', '17480', '5625', '17840', '26500', '8568', '3548', '20990', '5369', '7236', '5977', '10315', '56310', '31500', '11590,92', '10775', '8389,91', '6876', '56964,6', '16180', '25315', '17367', '9246', '8699', '14921', '19324', '14004', '8350', '14991', '2125', '4408', '13460', '6330', '6580', '20679', '8090', '16662', '20562,2', '7258', '33725', '2928', '13184', '3941', '22645', '23688', '15427', '26049', '21240', '18450,8', '15041', '5023', '12784', '12506', '11383', '3490,91', '38830', '12762', '6191', '21381,12', '12890', '16993', '8355', '13198', '4580', '16561', '21030', '4789,92', '27780', '12059,1', '19278', '3493', '14619', '12991,82', '11350', '32335', '7417,5', '27637', '8581', '2104', '3337', '19286', '6839', '8744', '5575', '17920', '19799', '6766,4', '17775', '8560', '20132', '4648', '3310', '19630', '4380', '16169', '41100', '5888', '6168', '4775', '23389', '3110', '19772', '7376', '14495,35', '8723', '10820', '5448', '15857', '15380', '42436', '14219', '5636', '13141', '24061', '20658,2', '28890', '3000', '25109', '15096', '4830', '6561', '15899', '21881', '21038', '30627', '12140', '3014', '21730', '16519,02', '22302', '10785', '19240', '17073', '2930', '22394', '3294', '12060', '24250', '19320', '4840', '4890', '21496', '19781', '3933', '2070', '13232,88', '6445', '19890', '37480', '8741', '10169', '31509', '4276', '24640', '29970', '30196', '13558', '11040', '11289', '7390', '9412', '10647', '25158', '18329', '19877', '8899', '13390', '18144', '11321', '13665', '29898', '18472', '17025', '14487', '17231', '19085', '50177', '8675', '25639', '19980', '21800', '26600', '26890', '29006', '21930', '50400', '9870', '20409', '22121,1', '15625', '21320', '24220', '18413', '4242', '3109', '8564', '22499', '14940', '4595', '28879', '9533', '38725', '6033', '59224', '18891', '8790', '28722', '15220', '23470', '5174', '29280', '5827', '4852', '13400', '4680', '12996', '26760', '8666', '12421', '42950', '17203', '22509', '29070', '4212', '14680', '10969', '11830', '97220', '4476', '29780', '19145', '4770', '15216,06', '12890,92', '8405', '13020', '7902', '5800', '15810', '16392', '4984', '5090', '33850', '14916', '21473', '7523', '15272', '10116', '22550', '3140', '4020', '41170', '27350', '15844', '12745', '12854', '26720', '11927', '30999', '13689,86', '17420', '4008', '21838', '7459', '9538', '20350', '31806', '10479', '16390', '38700', '26770', '8435', '7763', '9973', '3271,5', '14201', '4487,4', '24771', '18515,03', '15247', '15897', '18690', '10238,82', '24850', '2158', '22395', '6746', '5510', '22213', '18185', '6199', '7144', '19011', '14847', '15745', '11500', '5577', '8140', '2224,8', '5309', '5297', '15830', '34740', '17422', '26819', '16499', '35991', '16680', '10088', '23990,83', '14340', '10010', '11571', '12474', '6467', '14185', '4191', '21980', '2819', '26950', '7593', '20179', '6519', '17763', '84800', '4600', '38300', '21717,92', '5955', '23331', '14989', '17810,82', '12210', '17592', '19593', '31990,6', '7595', '25584', '24174', '4177', '15912', '22850', '21082', '14020', '19789', '33510', '32292', '5989', '22756', '71500', '35670', '69500', '20706', '22789', '42669', '40521', '4560', '5451', '24017', '10536', '17671,2', '10373', '16140', '45500', '14570', '11666', '10149', '3750,91', '18700', '36570', '9980', '8515,7', '21390', '10904', '23861', '19439', '8286', '26750', '3128', '31333', '8393', '31499', '11978', '32450', '18270', '3659,5', '55174', '41837', '3703', '20883', '14560', '3222,9', '6893,7', '20820,44', '6380,91', '14200', '9928', '6889', '3460', '7700', '10075', '22400', '3869', '28098', '10274', '13465', '21899,94', '23539', '21187', '6407,5', '13769,2', '14348', '24550', '4290,91', '28715', '10025', '18643', '8170', '8370', '8770', '19110', '12206', '12700', '26260', '13641,3', '28490', '13698', '2540', '13205', '21170', '62100', '20880', '29707', '20326', '27448', '21060', '5751', '52930', '11949', '2947', '9395', '25599', '19375', '3528', '5850', '12044', '48920', '6796', '16880,91', '3984', '4125', '14453', '12803,4', '6490', '34699', '6585', '16748,1', '17379', '10022', '9365', '11635', '10124', '9212', '15079,91', '18176', '3050', '3383', '17712', '14044', '23126', '7498', '6797', '34990,8', '16860', '23040', '14005', '10448', '27480', '15226', '7089', '30735', '4099', '15788', '2800,85', '41211', '25199', '21160', '9898', '8399', '27700', '14092', '6118', '11196', '9259', '7115', '16980', '18780', '19736', '8068', '18045', '9630', '5837', '23830', '78150', '27356', '4208', '5250', '3123', '45160', '45672', '9248', '5076', '3547', '11723,2', '2580', '13016', '31850', '6130', '23490', '26140', '20751', '45438', '10930,52', '28472', '29001', '12896', '88555', '12749', '7209', '13290', '4909', '43880', '21499', '3231', '12508,2', '16879', '5880', '7289', '26580', '13365', '11317', '14949', '22427', '10128,8', '21726', '2420', '13670', '10442', '13355', '9985', '22635', '11180', '11646', '5508', '13669', '19674', '28224', '12845', '13770', '12191', '15700', '15890', '9768', '24223', '17082', '27298', '16996', '25320', '17339', '15299,9', '22488', '16990', '5606', '15246', '8127', '11768', '44225', '5211', '8102,08', '25400', '26337,6', '13227,7', '10917', '99308', '22167,6', '78000', '27490', '3196', '13921,36', '21847', '21484', '9347', '5824', '4026,55', '90200', '15482', '13563', '4738', '21220', '14270', '10020', '23530', '7478,2', '19008', '20660', '3167', '5037', '9621', '3668', '9592', '29376', '37780', '9774', '28431', '24085', '6311', '43353', '19169', '32593', '3377', '20433', '26100', '35400', '9804', '8619', '91168', '6947', '9251', '16850', '27796', '26060', '13388', '5219', '4919', '7002', '10874', '9809', '7470', '9030', '24466', '6462', '4390,91', '12860', '8047,1', '14080', '5408', '4185', '6230', '23720', '12566', '10693', '4297', '8037', '41498', '30131', '24408', '9200', '44879', '11660,93', '14170', '21238', '55846', '15036', '5757,1', '9972', '8874', '18022', '34154', '3646', '5221', '24835', '14632', '7614', '20999', '27598', '17090', '46156', '13981,8', '18330', '2745,9', '8856', '7471', '45000', '25991', '22881', '5723', '7750', '6999', '8369', '15170', '25700', '22987', '6880', '20792', '35640', '15199', '2689', '23146', '6562', '15270', '3764', '27062', '26510', '13150', '23230', '22110', '8491,82', '33400', '6161', '22920', '8400', '20343', '11460', '15128', '2000', '21021,9', '17869', '12331', '21083', '19377', '16544', '10964', '5906', '10238', '30800', '25200', '17273', '23395', '17439', '11589', '23690,91', '3955', '20133', '3640', '17599', '4885', '17248', '18250', '18540', '28700', '13841', '19620', '11422', '33476', '22656', '16491', '12782', '8412', '3990,92', '3530', '9996', '22450', '16092', '25278,14', '24131', '23745', '40037', '21586', '29933,4', '18085', '26397', '92000', '15440', '8530', '18861', '8999', '2899', '37200', '4700', '17842', '11020', '17325', '30100', '17298', '21075', '45863', '10021', '16600', '13120', '21895', '12328', '22621', '11977', '4967', '27010', '5634', '8547', '19220', '10780', '10704', '33470', '4097', '5500', '83871', '22320', '15372', '6036', '12289', '12816', '11426', '23459', '16519', '40050', '15269', '21860', '18468', '39638', '12702', '70000', '29285', '20565', '7891', '36267', '12061', '29600', '9230', '30545', '14310', '4807', '3879', '6469', '5950', '5589', '11685', '37531', '18001,28', '9900', '6499', '3961', '10431', '17802', '13312', '20381', '18481', '33920', '11445', '26085', '5718', '11199', '14994', '7558', '22361', '33358,84', '13580', '8901', '31278', '15255', '8487', '13001', '3979', '5010', '58900', '14280', '16447', '10998', '2871', '5366', '10575', '10987', '71740', '11189', '3645', '10800', '11063', '8038', '4430', '21295', '6070', '20650', '20939', '18217', '28641', '24970', '12680', '15759', '10190', '18491', '22263', '27234', '28288', '6219', '26450', '7100', '12598,2', '21580', '9890', '20079', '6193', '8904', '72885,57', '4131', '44500', '5780', '28640', '4548', '4207', '6958,92', '2514', '11377', '5055', '8117', '4879', '11690,91', '10846', '24480', '31015', '10512', '14316', '7968', '10953', '13087', '8800', '18777', '37857,2', '14660', '3560', '16999,82', '37818', '15319', '23365', '9669', '3114', '9095', '14765', '5669', '35360', '12610', '8669', '8480', '14942', '6619', '19224', '3604', '3619', '7645', '13790', '6496,1', '4110', '10585', '17998,2', '46800', '25870', '13541', '14356', '13887,68', '7163', '2635', '9955', '13492', '33292', '14243', '5337', '26055', '6093', '14645', '18376', '4890,2', '18890', '19844', '5755', '22390', '9899,92', '25897,4', '12019', '62468', '20550', '4891', '19820', '35950', '10089', '8570', '8785', '13382', '11160', '19464', '5930', '9536', '10279', '26461', '14520', '29944', '14260', '26022', '7709', '13848', '5155', '89018', '5602', '8055', '24314', '8098', '13443', '7157', '9738', '34695', '6944', '12902', '6828', '6690', '11335', '38800', '41490', '16381', '15190', '22225', '5531,8', '4945', '19790', '6375', '11450', '3940', '12822', '8811', '26595', '4887', '8341', '10584', '13005', '10418', '10852', '22870', '41470', '7490', '10990,2', '13921,52', '90000', '15245', '40180', '29012', '29750', '29630', '36527', '20833', '16081', '5840,5', '5550', '9557,1', '11880', '14330', '5735,7', '9480', '5749', '9500', '6460', '17470', '5825', '3718', '24844', '4497', '4872', '22930', '6948', '65400', '15696', '12606', '5110', '6881', '8303', '4572', '7895', '17399,2', '6138', '2165,16', '11968', '21597,8', '17988', '24281', '4579', '34466,4', '3565', '2075', '15540', '3300', '23650', '17854', '17756', '7858', '21974', '17851', '17600', '3825', '18964', '18573', '5830', '6739', '4754', '27971', '7511', '16883', '12950', '11529,91', '5195', '15127,38', '4244', '7386,75', '13455', '6700', '11892', '9042', '13170', '17450', '12710', '21481', '39000', '49000', '8210', '11264,25', '22770', '28428', '24340', '8879', '4182', '2299', '15822', '14189', '26817', '20903,5', '10860', '4769', '8549,9', '30596', '27706', '12655', '6970', '2421,9', '79910', '13366', '17308', '41730', '27381', '22280', '13191', '4499,2', '6361', '5005', '24871', '23351', '12593,7', '4550', '14110', '95441', '5840', '12455', '13900', '7032', '11250', '10445', '15099', '17496', '18899', '7800', '17230', '17697', '16416', '10695,13', '10980', '18490', '63776', '61915', '14438', '4365', '34295', '17184', '12708', '8929', '6309', '16840', '29900', '6396', '17615', '16285', '9390', '22100', '6313', '6380', '74482', '6529', '8011', '21298', '22561', '18906', '29700', '16060', '2390', '30031', '7642', '7187', '10659', '3424', '16070,5', '11416', '12130', '35775', '19665', '21218', '94300', '4664', '7598', '12434', '10347', '14245', '24580', '26379,91', '5306', '3840', '18471', '22969', '17970', '8697', '22310', '4369', '13488', '6799', '20786', '32200', '7638', '10440', '9988', '10021,5', '18632', '25855', '18360', '17550', '5060', '5573', '4899', '15360', '6295', '11750', '16010', '34479', '25168', '5580', '7940', '12159', '18840', '13624', '6899', '5707,8', '3329', '11247', '3748', '13155', '32850', '5929,95', '41451', '3989', '10990', '7200', '14096', '10422', '4189', '10770', '14510', '4329', '25390,94', '10844', '37710', '2183', '26174', '11751', '12699', '35332', '6590', '46729', '3117', '15806,5', '32846', '11477', '27950', '8918', '8429', '22944', '6643', '12095', '29590', '14993', '28208', '37400', '22244', '47691', '38625', '4228', '12720', '10410', '30603', '10759', '5030', '31610', '8149', '4920', '13507', '71600', '3356', '19470', '4021', '31680', '8735', '6979', '47789', '27360', '10960', '4389', '11456', '37495,2', '23070,6', '16501', '6719', '26999,2', '30990', '15300', '17946,2', '5684', '18190', '18631', '6386', '7857', '3040', '7340', '13208', '25260', '21907', '7307', '39327,2', '10080', '11113', '9427', '25898', '4642', '3889', '44697', '7970', '6080', '9594', '24962', '3358', '12038', '35596', '9830', '16704', '8850', '38070', '5389', '5360', '23104', '6665', '5720', '36290', '2259,9', '16160', '13934', '9444', '5045', '9217', '11195', '45297', '29948', '5295', '8979', '11740', '12899', '10734', '35770', '21328', '6790', '17501', '7985', '10708', '11938', '15435', '23399', '13800', '32670,79', '19343', '20160', '15838', '17140', '4576,5', '7488', '19037,2', '33881', '13050', '8195', '15164', '12393', '18547', '35563', '3792,92', '16579', '9526', '50330', '22560', '30597', '11510', '16657', '13965', '6658', '13941', '9606', '3464', '16367', '23498', '2724', '28241', '20379,5', '6367', '13640', '3089', '83000', '25263', '11669', '39160', '7088', '7498,9', '40000', '26020', '18590', '25105,1', '61487', '6099', '18400', '5520', '27012', '23940', '12651', '13570', '8997', '5736,6', '15215', '16214', '38250', '3929', '10097', '4843', '76360', '6854', '21880', '15389', '15480', '6600', '4262', '14550', '3820', '14449', '5197', '5427', '15647', '32576,5', '19940', '18197', '5494', '23954', '3987', '4896', '21704', '4995', '11192', '2781', '10439', '11304', '28500', '11450,9', '11363,99', '19060', '12447', '21286', '30590', '57593', '16629', '7876', '5330', '18999,2', '11428', '11030', '14399', '7152', '14196', '50950', '6721', '23920', '19440', '94720', '23220', '23595', '22480', '23240', '4525', '9540', '17896', '8556', '34630', '11754', '15524', '2957', '23659', '18206', '24840', '20490', '19269', '14994,6', '16099', '14257,91', '31800', '14148', '11655', '3230', '14320', '4275', '19290', '18615', '27369', '5855', '11502', '8346', '34162', '20324,92', '22210', '14292', '4726', '26051', '80440', '16310', '26872', '17499', '16547,3', '31317', '2160', '14165', '13995', '12780', '14490', '4175', '25360', '17531', '21619', '25989', '23795', '4031', '12995', '18260', '29430', '32310', '11769', '6217', '20431', '10174', '22428', '14229', '20252', '24420', '3879,17', '6288', '13289', '12240', '27589', '26865', '3398', '4670', '30826', '8489', '17460', '10999', '12138', '19170', '31991', '11302', '27670', '18881', '11674', '11490', '11898', '36194', '19205', '22904', '24458', '16880', '3307', '5936', '11526', '9550,82', '3059', '46960', '12646', '16364', '10331', '32955', '27800', '4941', '14848', '13332', '8745', '25000', '10438', '18054', '3949,92', '27759', '21124', '30879,55', '7788', '18251', '33190', '19047', '3299', '12495', '27820', '24949,09', '16090', '15870', '13649', '6440', '15160', '3729', '22195', '8878', '4799', '34100', '9230,9', '22536', '14279', '6651', '20060', '15027', '25301', '11305', '17529,91', '4135', '19734', '13491', '7679', '13136', '13993', '10525,01', '7353', '7590,31', '26170', '15359', '17399,1', '43682', '28280', '10188', '24721', '6865', '7530', '12236', '10560', '9477', '5610', '24132', '25881', '11630', '33120', '14065', '69188', '20877', '12889', '12904', '2099', '8420', '15859', '9889', '9290', '14456', '19210', '29200', '8438', '12053', '11796', '27890', '22900', '12300', '12315', '73996', '22000', '16783', '6342', '8470', '15398', '2498', '12829', '10193', '3179', '21646', '4998', '16900', '13235', '12734', '3943', '15070', '8835', '18669,2', '34999', '3599', '33100', '5268', '8128', '7495', '19540', '13275', '51570', '11550', '13992', '17567', '5335', '19254', '4675', '6120', '16150', '16395', '9264,69', '8886', '6887', '27470', '4489', '20928', '27446', '12581,89', '11583', '18010', '16317', '5533', '29697', '4493', '7336', '8943', '9085', '37415', '23110', '15780', '17360', '10105', '19959', '3419', '23437', '12283', '53400', '3289', '18528', '2489,4', '6291', '5660', '28755', '7235', '14609', '14497', '2135,14', '8689', '9504', '6202', '7128', '14678,63', '14400', '5276', '13112', '16621', '5328', '9573', '10520', '12092', '33996', '14709', '21166', '31096', '11897', '19500', '30590,92', '9930', '6697', '2090', '17049', '36260', '20298', '7909', '23352', '22047', '16245', '22999', '16865', '10400', '18269', '26658,9', '15910', '22810', '13635', '10268', '20900', '25145,79', '11528', '15555', '2704', '22139', '12490', '7630', '21985', '28340', '19610', '2990,92', '15950', '10338', '31294', '14387', '27070', '3990', '21015', '11760', '14498', '13200', '9432', '13166', '29782', '16064', '18500', '19489,91', '4252', '7247', '11853', '12347', '35145', '7770', '8308,35', '3590', '2792', '4741', '3275', '30696', '22490,91', '19886', '22798', '20698,1', '4689', '13630', '21498', '51200', '22275', '88300', '13326', '32800', '3159', '17549', '16370', '21410', '13318', '24923', '14925', '9393', '11077', '5353,5', '10804', '23300', '8998', '24047', '16890', '6756', '27340', '24945', '25937', '3610', '27518', '22760', '13882,92', '8651', '5199', '10635', '24145', '26660,2', '17390', '14770', '22951', '4983', '20375', '13550', '33330', '12405', '5220', '18198', '42180', '24490', '29478', '23355', '16507', '6995', '5568', '8184', '13999,2', '7920', '93000', '4645', '14215', '4360', '5614', '22500', '6883', '11970', '61000', '13250', '8450', '26988', '6870', '20390', '20498,1', '7680', '10048', '10566', '28557', '5913', '9031', '21500', '6732', '9490', '22803', '5805', '28039', '20480', '17076,2', '18328,6', '3006', '21814', '16780', '15503', '13386', '31263', '7900', '19580', '9983', '8767', '28410', '24465', '6980', '15280', '40480', '6748', '12260', '4644', '2310', '20645', '12173', '33900', '13078', '63271', '6975', '13768', '25783', '19415', '11779', '7319', '27925', '12265', '11293', '2120', '10225', '18090', '8233,95', '25240', '13889', '14350', '22800', '98030', '12833', '17995', '16897', '18895', '23009', '6840', '20155', '20290', '11601', '20009', '4010', '25627', '6130,8', '17716', '16189,4', '6415', '30000', '17451', '6269', '18730', '75535,08', '29450', '4074', '14620', '6479', '9425', '6939', '5773', '17424', '8935', '17117', '3296', '14670', '15739', '6040', '17270', '3051', '40490,91', '25440', '8849', '15897,92', '20355', '22070', '7693', '28090', '19570', '4495', '10359', '8268', '6940', '2730', '25899', '3675', '17297,6', '4869', '27456', '15725', '28666', '11576', '5849', '18392,91', '8941', '2250', '7433', '8091', '14391', '4620', '18162', '8241', '20561', '9892', '10738,5', '27428', '12249', '3537', '5465,26', '2380', '6390', '11860', '7869,61', '18138', '10529', '27945', '25227', '37800', '2759', '4310', '9338', '9298', '19177', '49838', '20691', '4765', '13592', '3484', '19993,4', '17372', '18702', '22640', '17050', '13780,82', '6189,92', '4004', '21994', '36136', '21209', '16691', '12384', '24950', '3405', '11466', '4077', '51900', '16789,98', '11689', '9917', '9949', '29471', '20053', '10990,92', '23030', '16796', '11455', '27846', '4756,5', '4790', '9342', '27208', '55000', '23450', '32765', '20610', '11498', '7030', '19289', '35529', '6381', '15097', '20499', '21984,55', '2800', '30756', '16950', '13747', '18696', '19751', '2555', '15890,9', '9720', '16940', '6280', '18960', '6780,95', '19547', '16630', '5247', '11200', '3061,45', '20862', '19797,1', '39090', '4390', '9040', '35825', '15354', '10151', '33088,5', '4132,5', '4918', '4986', '9287', '16011', '8788', '18318', '99313', '35201', '10457', '4370', '17200', '27850', '26642', '24112', '18857', '27372', '23850', '22864', '12953', '27449', '16170', '19116', '11950', '17630', '7380', '24290', '3616', '19550', '11333', '14661', '3250', '6941', '21598', '64500', '13448', '30720', '6495', '15292', '13719', '5300', '11359', '22747,4', '17039,91', '37880', '14094', '6319', '26300', '9241', '15889', '5999', '10360', '29580', '13134', '5890', '25447', '22962', '10413', '7439', '16244,9', '5616,15', '18578', '26457', '4299', '12425', '12843', '7597', '7249', '12290,9', '23029', '16191', '18115', '4450', '21195', '47529,91', '19925', '14481', '4827', '6822', '56518', '31466', '5770', '21123', '29295', '23095', '33459', '3682', '86071', '9278,1', '69000', '25820', '23485', '38032', '4540', '12246', '24283', '9590', '9840,6', '13530', '12820', '32700', '94358', '32938', '27714', '29040', '10320', '14385', '24330', '3498', '28400', '16698', '18012', '19810', '9520', '18538', '5390', '3538', '27816', '14860', '3240', '9097', '14083', '13480', '5160', '5272', '19491', '8718,1', '9675', '9422', '4964', '10000', '23552', '8330', '3868', '5490', '13221', '29950', '6166', '10755', '19235', '14527', '7690', '7035', '59629', '6610', '3920', '18820', '9120', '6570', '11699', '9760', '13916', '23783', '15920', '23711', '13130', '10339', '15763', '21865', '13021', '10672', '4599', '9396', '27580', '29526,12', '11370', '34916', '34891', '8550', '18734', '47195,92', '11495', '37640,77', '6503', '7182', '26930', '10995', '7500', '5995,46', '7988', '26941', '5450', '9924', '4366', '96490', '61290', '16278', '31990', '29653', '5525', '21840', '6703', '29599', '22097', '16500', '20863', '13695', '9801', '9879', '24110', '26490', '11986', '25317', '14636', '20190', '38058', '2900', '13325', '5592', '46671', '8297', '23251', '32770', '36800', '35700', '13740', '23315', '25385', '34555', '14618', '44760', '4788', '6365', '8990', '3910', '22977', '7556', '8648', '12211', '13179', '11310', '7639', '5140', '35000', '2421', '3375', '17800', '11376', '6301', '7395', '20790', '10978', '21600', '9169', '9839', '5346', '12914', '5279', '4962', '9461,5', '16948', '5011', '15907', '5143', '8920', '6518', '23660', '4366,8', '2998', '9167', '12631', '23516,84', '10818', '5130', '21620', '6625', '14406', '29382', '25080', '7711', '16730', '10499', '19860', '27270', '12427,1', '3312', '9498', '3849', '2190', '9546', '5176,8', '7300', '11842', '5170', '8448', '19035', '2333', '10539', '16692', '6885', '7229', '16284', '24459', '24125', '2690', '13599', '7713,42', '39780', '9891', '13010,94', '10466', '11126', '32810', '6782', '13351', '26820', '21506', '17111', '12636', '28070', '13336', '5746', '6776', '22799', '2050', '5965', '2907', '4095', '4270', '22440', '8360,92', '52295', '116360', '24300', '12488,25', '10323', '6007', '8640', '9664,5', '11330', '6682', '6584', '6820', '13498', '4120', '40200', '58640', '14875', '16660', '23382', '19843', '8638', '6263', '6150', '20294', '8078', '27150', '6481,8', '72000', '40313', '86618', '12166', '10429', '25740', '16620', '15998', '14207,1', '7422', '32914,31', '39020', '48700', '11489', '30390', '10550', '20268', '25640', '14725', '4386', '13260', '15100', '13727', '18143', '21237', '35787', '6537', '8641', '24800', '15985', '9496', '13438,3', '5210', '6430', '6370', '24198,2', '4743,68', '50678', '18740', '6699', '7337', '8360', '17901', '15327', '18497', '29650', '5298,1', '12850', '8253', '8517', '5370', '27790', '41400', '9655,2', '13623', '37305', '9845', '21520', '11900', '19189', '30230', '12948', '8906', '10114', '7497', '60720', '8725', '13039', '12490,9', '15695', '13952,73', '12835', '5261', '14950', '9814', '17060', '6549,83', '7385', '11190', '3168', '3316', '23500', '17900', '6726,1', '10801', '5794', '5760', '21696', '34499,2', '22194', '19880', '3195,9', '4230', '6360', '16988', '9622,77', '56000', '3670', '11315', '20495', '10609,2', '19130', '18990,5', '18171', '22700', '4527', '22525', '27080', '10463', '2878', '46385', '13733', '4398', '4949', '24667', '10034', '25081,98', '3900', '9799', '11590', '16030', '34900', '17949', '11175', '17778', '9596', '8639', '10381,5', '3720', '10540', '21809', '41620', '10310', '13650', '19079', '18799', '32090', '28790', '10530', '5135', '7632,92', '12132', '27228', '2440', '10760', '51140', '34199', '14230', '5768', '12608', '11930', '18319', '2240', '22230', '10879', '9080', '14500', '11080', '7878', '17043', '21590', '29470', '27560', '26489', '15370', '14300', '4291', '11219', '11936', '13324', '4284', '5829', '5099', '8198', '5680', '25480', '23137', '5588', '11710', '17453', '17006', '5398', '31587', '6190', '12304', '21355', '11697,1', '15033', '28674', '6116', '16975', '13267', '18099', '31810', '19966', '10170', '4647', '35060', '11259', '27498', '2799', '9144', '15760', '11514', '63320', '89344', '28600', '4986,5', '10029,92', '2500', '3285', '7637,63', '8071', '15090', '5670', '30510', '2457', '6053', '83407', '7140', '12284', '2529,61', '3816', '28930', '10290', '10898', '11692', '17010', '25998', '19040', '15856', '44700', '11719', '10668', '7698', '18140', '4641', '8793', '42320', '5932', '22627', '5184', '13734', '13229', '21802', '14050', '9913', '18187', '6237,03', '7105', '6264', '7510', '7997', '3935', '28661', '26485', '16635', '4134,4', '10840', '13899', '11150', '13520', '17483', '17425', '25150', '32970', '24990', '15336', '7713', '8780', '4000', '20443', '6720', '33660', '7112', '4336,2', '13230', '6993', '6109', '15602,5', '28983', '29000', '21494', '17561,8', '6997', '38108', '15210', '26989', '21784', '52561', '42928', '8950', '33320', '5312', '14031', '5190', '3870', '12148', '4892', '15690', '17346', '36805', '17400', '3413', '9371', '6758', '32397', '4477', '20570', '17099', '5683', '39025', '56130', '6347', '14696', '10210', '11499', '16100', '23882', '16687', '14880', '4617', '4090', '7452', '17750', '31250', '7908,1', '10855', '50929,82', '17609', '9445', '13975', '6819', '8529', '23511', '6809', '3876', '6129', '16380', '7676', '10790', '29980', '14440', '19482', '4982,4', '6747', '19021', '3387', '5832', '19795', '30428', '35035,2', '4005', '18290', '19230', '35960', '5482,3', '4905', '4996,8', '26690', '17099,1', '3550', '9189', '15150', '10340', '7874', '6283', '17765', '10795', '6100', '20600', '7262', '12616', '7000', '29380', '4838', '22950', '41990', '7919', '6400', '14130', '10580', '11300', '15843', '5005,8', '28999', '7039', '19567', '2520', '2599', '47900', '24195', '10864', '19046', '18027', '16820', '12189', '20397', '20609', '11795', '7981', '36308', '29612', '22300', '23094', '19529', '11135', '14780', '15367', '18498', '26461,91', '9588', '3399', '4500,95', '7747', '13689', '16220', '3752', '27880', '11050', '8110', '9719', '5083', '13905', '13060', '4888', '5678', '25508', '35943', '4760', '15975', '37881', '16420', '18096', '10480', '7977', '19782', '13178', '12428,7', '27980', '30738', '22091', '12417', '35767,4', '15750,91', '93947', '32935', '31588', '6498', '13326,5', '13344', '6910', '10185', '9025', '8858,8', '6136,58', '32844', '29445', '32650', '26479', '3834', '35250', '15565,5', '17997', '3520,8', '26315', '34391', '38408', '11789', '27860', '31730,91', '6983', '19350', '3188', '3099', '34720', '4915', '9710', '9790', '6435', '19805', '26440', '8990,9', '18749', '11368', '9791', '4080', '86900', '3434', '26099', '6108', '6715,2', '9059,92', '12048', '4674', '19100', '9007', '23399,2', '2638', '4490', '17020', '28016', '6599', '34905', '64660', '5292', '3429', '15350', '20313', '7515', '5051', '7695', '8244', '38832', '4533', '26370', '8235', '2300', '31050', '27680', '33030', '12463', '4042', '16379', '22781', '11680', '2151', '3301', '4850', '19400', '14081', '20882', '4290,9', '18740,5', '11598', '19710', '21440', '4596', '8199', '28684', '4387', '13469', '29390', '16398', '6220', '24399', '5179', '4168,8', '9866', '21990', '9240', '3290', '5260', '14996', '10646,2', '39590', '17789,2', '18560', '4103', '19200', '26547,1', '4260', '14450', '4720', '18050', '21080', '14321', '20925', '5761,9', '20960', '35165', '6247,8', '17789', '40700', '20755', '3715', '30630', '21330', '16875', '12575', '11392', '5740', '10940', '27347', '49743', '16450', '12318', '31200', '24795', '37500', '10248,2', '4455', '22945', '26920', '27740', '21408', '8633,7', '8416', '16736', '21927', '11698', '60000', '28778,3', '7947', '47309', '7885', '7650', '28440', '25587', '71243', '5351', '12650', '31726', '23990', '5405', '22299', '45900', '30350', '5579', '3535', '10319', '18286', '18720', '11227', '7492', '11240', '9855', '8755', '2290,7', '8984', '22398', '12050', '5415', '20046', '18458', '7859', '19000', '10655', '23121', '16449', '16460', '7589', '8650', '22848', '4608', '16063', '19800', '18980', '11748', '11154', '13527', '9648', '41397', '11899', '13709', '34200', '21778', '30825', '4140,2', '13300,91', '22616', '21845', '6545', '9998', '21999', '11935', '25520', '18445', '13686', '26138', '23985', '27810', '18004', '25631', '39388', '5793,3', '35683', '85270', '26090', '12024', '3663', '5941', '12818', '3442', '62700', '6560', '70047', '7860', '12000', '5400', '23625', '4810', '23950', '65250', '42689', '15100,82', '3760', '14396', '6069', '5870', '20249', '10968', '26848', '11060', '9100', '22293', '5968', '8980', '8500', '9977', '17380', '6550', '7101', '3076', '11720', '19280', '12711', '17780', '15732', '25713', '3497', '26395', '27260', '8298', '4300', '17198', '3396', '6538', '8132', '47600', '10280', '9450', '26410', '3095', '12012', '7063', '8041', '14040', '13499', '5859', '15290,7', '5988', '23290', '42335', '12360', '21279', '2305,8', '28990,91', '8648,5', '4878', '32387', '8617', '12898', '8410', '9176', '16732', '6990,92', '14648', '30837', '14328', '8097', '12510', '6086', '13860', '23774', '4479', '17254', '75424', '15036,21', '27020', '28530', '30324', '6021', '15450', '7513', '10880', '6733', '3335', '34190', '8180', '82910', '23715', '12830', '29830', '22329,67', '11230', '7794', '11085', '24130', '18667', '18210', '6374,78', '23793', '7137', '22960', '25454', '10938', '17885', '8580', '6186,7', '24605', '8322,77', '11295', '12150', '9538,9', '6596', '8698', '15615', '18220', '5296', '4265', '22419', '22410', '16920', '12935', '29052', '10389', '5860', '42746', '17279,2', '17631', '20272', '9749', '11876', '7780', '15442', '13197', '7450', '32175', '14990,95', '24750', '3801', '13389', '9515', '23480', '11116', '16428', '8386', '15340', '13456', '7687', '11325', '25313', '9529', '6399', '17593', '22692', '7982', '13122', '9045', '15840', '38520', '19340', '51685', '14060', '12478', '16250', '12100', '18686', '8049', '32481,83', '27088', '4851,81', '7279', '5938', '6831', '6838', '30060', '14965', '5661', '4504', '3690', '8900', '18100', '10447', '22015', '3357', '21740', '12213', '24272', '24810', '41500', '5750', '19342', '10348', '8777,1', '10435', '6692', '6950,7', '35320', '23667', '22324', '11700', '10576', '28258', '3090', '32348', '28420', '42300', '16800', '61540', '6984', '14755', '19765', '7110', '8225', '21490', '16489,9', '21510', '8047', '4951', '6800', '17091,9', '39110', '28059,81', '3894', '18463', '35600', '11911', '3882', '76730', '25830', '7123', '12900', '17873,75', '5681', '15500', '5517', '4727', '32400', '17624', '13456,82', '3740', '35744', '13750', '46649', '6770', '18789', '8118', '7629', '10428', '11690', '7560', '4330', '23166', '4290,95', '5018', '16598', '4898', '32293', '3385,92', '10646', '15325', '21858', '9614', '13321', '10648', '14718', '11540', '12848', '9367', '12280', '18390', '11115', '7204', '56899', '4570', '15035', '17503', '3924', '6192', '22098', '16298', '6096,13', '13410', '20356', '23259', '2322', '19250', '9595', '6346', '24867', '18119', '3711', '5265', '31190', '5070', '79679', '15214', '6698', '8453', '8825', '16362', '30200', '13140', '16200', '5391', '4638', '10352', '3885', '4725', '3063', '21938', '10628', '9160', '2428,2', '19591,36', '18800', '2599,2', '24587', '6530', '88440', '21150', '5742', '7978', '11916', '4767', '70245', '10467,1', '29336,4', '37000', '12908', '11730', '3699', '89200', '32114', '17981,9', '5120', '34618', '6527', '14580', '7348,52', '19899', '4969', '23680', '5032', '11290', '4508', '21062', '65629,5', '16098', '13897', '13792', '14698', '4935', '16653', '5570', '16265', '13278', '7551', '37466', '31694', '11995', '19929', '9360', '4758', '19083', '81423', '33821', '9021', '7609,5', '2439', '23575', '20850', '9060', '31580', '4968', '12325', '6004', '38850', '9858', '40534', '9910', '5077', '16020', '3143', '23689', '17476', '12940', '73306', '21901', '28242', '9140', '5789', '14337', '21347', '32280', '24367', '2489', '3360', '4100', '33340', '27170', '7166', '8430', '32907,5', '4652', '16436', '29858', '90590', '16979', '21877', '25812,5', '23160', '27620', '7349', '7729', '5449', '6945', '12110', '4761', '5748,3', '3598', '13193', '14390,92', '74700', '16848', '21989', '5152', '2873', '7514', '13785', '8991', '2190,2', '20590', '11217', '16647', '26547,3', '16899', '27501', '7599', '8240', '9053', '12340', '29875', '20648', '21086', '8957', '12228', '19475', '23060', '2676', '3311', '4070', '19140', '51700,5', '15010', '30729', '88000', '30500', '12696', '27895', '15616', '3848', '18710', '5611', '27180', '11798', '8771', '7454', '26355', '5329', '8840', '13259', '22140', '31300', '10150', '9137', '37069', '27149', '3970', '8832', '19457', '6490,5', '12512', '19589', '17397', '25225', '12320', '5912', '5730', '19184', '36093', '10478', '7368', '9876', '25950', '9215', '14046', '11170', '14990', '7509', '12309', '11600,6', '19572,1', '2268', '28750', '4047', '61832', '10841', '31672', '33192', '23517', '52200', '13254', '5699', '4196', '7795', '6075', '3032', '9902', '15624', '49500', '18535', '5738', '22102', '29294', '8396', '4740', '26150', '9315', '20393', '62800', '35598', '15610', '7824', '13300', '23025', '19460', '24103', '2088', '5607', '11940', '19750', '16189', '26346', '32100', '19522', '6348', '14388,3', '10720', '29905', '70705,96', '3480', '5399', '4292', '5455,8', '16470', '23037', '12398', '27166', '28220', '26695,8', '30430', '9789', '10542', '8390', '11434', '20086', '7040', '15165', '17530', '20242', '15237,1', '4328,1', '9417', '22589', '13463', '20977', '6323', '3010', '19602', '21578', '15806', '12998', '20250', '33978,63', '11804', '17622', '10420', '66504', '17640', '17594', '16480', '4030', '44030', '4114', '21536', '24675,85', '18414', '11691', '11243', '15653', '7170', '4804', '4150,95', '25020', '30361', '10374', '5505', '26340', '6830', '15980', '7849', '6450', '22896', '14361', '14284', '4785', '7130', '18599', '17826', '9276', '3701', '4630', '25330', '11637', '28186', '27283', '2934', '32500', '5928,1', '8285', '31538', '9597', '6279', '17760', '98996', '7191', '6691', '25829,1', '28172', '7769', '7310', '8230', '11620', '23780', '18180', '20644', '9430,38', '31702', '9655', '28565', '24864', '13090', '10789', '5149', '3353', '6680', '3515', '24328', '34990', '63306', '47247', '22233', '29691', '20310', '5239', '17250', '21100', '20143', '20750', '9034', '11642,3', '16616', '5545', '5089', '13165', '20100', '13989,4', '11651', '2372', '21717', '19719', '3768', '21665', '14206', '14798', '18553', '7011', '21097', '3474', '11727', '6653', '12960', '18707,1', '4780', '4837', '10073', '4710', '40499', '10890', '7151', '21805', '11539', '10366', '4392', '42930', '6858', '17388', '16669', '7473', '13496', '5899', '25730', '17820', '91536', '20320', '17097', '10730', '4781', '17500', '12500', '8754', '4773', '9940', '87673', '17199', '21850', '6240', '19382', '9525', '27877', '23390,91', '47223', '22588', '32525', '19498', '20680', '5715', '4248', '51300', '9484', '5064', '12730', '7173', '11871', '15320', '10910,6', '10354', '6163', '3850', '16263', '28160', '5478', '2189', '12070', '8373', '35610', '21207', '9375', '3660', '39627', '9733', '31882', '5848', '7850', '12598', '25420', '9000', '27934', '19689', '3185', '20910', '14947', '13018,1', '21300', '17170', '6299,2', '2633', '23608', '2798', '22905', '28580', '28775', '2619', '19976', '10134', '4546', '27990', '22880', '3400', '14397', '6650', '15865,65', '63700', '2936', '13600', '20520', '7547,2', '16590', '32076', '22497', '12460', '16785', '15820', '25600', '8603', '33830', '36617', '22147', '10298', '23397', '14047', '22618', '13998', '3880', '9534', '15065', '3350', '40080', '21615', '13536', '47000', '16002', '6494', '6180', '3348', '8188', '6000', '37517', '37752', '14290', '6624', '6991', '14250', '3549', '6209', '7605', '8010', '8025', '6999,3', '2470', '2180', '5496', '28728', '28950', '5630', '23825', '18067', '6115', '21950', '12990', '2578', '29300', '10910', '2870', '18240', '20113', '14658', '22528', '15470', '30110', '4590,2', '3450', '6978', '24000', '22323', '20200', '22057', '10680', '19728', '67500', '3602', '17428', '8890', '13591', '23347', '7443', '7516', '25146', '21069,8', '82700,9', '9986', '17962', '19245', '10767', '31090', '8549', '26641', '9237', '23268', '10799', '28469', '4499', '20007', '28350', '24519', '16324', '27472', '12097', '22286', '38778,01', '23185', '28991', '19341,2', '4469', '20598', '41907', '3489', '24570', '4048', '3960', '7749', '5694', '8250', '15639', '16110', '11819', '17247', '6835', '15984', '14588', '25936', '4963', '3045', '17556', '37437,66', '7660,42', '5240', '50020', '2831,97', '26896', '81743,87', '59590', '17276', '7066', '9652', '19187', '7991', '24070', '17865', '16799,4', '4777', '7872', '16540', '4961', '18246', '12599', '31040', '14891,92', '27744', '9389', '23760', '22290', '4035,2', '7281,94', '23975', '8108', '3107,7', '3700', '19819', '28971', '11266', '6616', '14747,1', '9759', '14209', '14528', '14948', '5620', '23478', '7563', '19797', '13009', '17633', '2679', '8034,2', '17702', '4150', '20088', '5988,46', '32750', '5942', '11565', '5900', '8492', '5940', '15291', '15863', '24470', '9153', '50879,83', '11966', '25588', '35091', '31400', '8398', '13489', '13820', '23854', '6575', '15498', '5232', '5259', '20400', '48900', '4202', '42940', '22082', '22970', '14150', '30360', '16520', '14700', '4311', '18660', '9325', '11748,2', '27541', '9690', '10024', '32540', '11980', '16407', '44495', '2872', '8595', '13850', '6289', '9718', '35580,91', '3391', '9061', '87570', '4039', '2495', '19597', '5109', '7228,2', '16227', '26910', '3033', '30960', '13700', '21180', '26961', '20338', '20659', '3238', '4082', '17795', '15518', '14240', '14850', '31091', '14006', '19857', '9997', '11536', '3762', '17648', '4744', '4660', '5364', '70500', '2720', '3894,2', '6027', '7640', '27900', '14598', '8905', '6299,72', '11800', '20237', '45665', '16591', '6266', '14398', '7394', '13679', '5193', '8120', '6517', '23971', '11297', '43996', '46695', '22105', '19315', '13566', '5542', '9999', '37100', '11954', '7799', '25460', '16648', '22050', '7739', '5339', '8221', '17173', '12789', '3650', '9416', '7022,7', '28060', '18060', '24900', '4750', '2360', '26499', '4350', '7362', '2511,82', '10100', '5208', '23822', '21487', '3067', '13298', '5015', '8988', '18970', '13366,2', '23425', '7020,9', '4041', '24772', '23124', '28900', '6281', '10450', '23377', '4498', '3600', '8598', '30951', '20277', '2119', '7098', '87600', '9600', '8970', '9074', '13148', '2263', '5270', '10490,91', '21592', '12396', '13815', '12530', '10262,2', '24260', '17568,3', '26700', '8440', '16596', '14724', '4673', '9270', '34766', '10853', '18990', '31491', '10130', '19850', '5430', '10113', '15999', '21430', '21948', '20209', '20987', '21936', '14168', '24700', '14446,3', '7259', '11441', '20129', '19905', '38244', '21861', '14349', '18495', '26115', '4730', '26596', '20169', '12910', '4801', '24980', '23800', '13216', '5320', '3651', '3308', '15629', '28861', '23310', '4870', '25625', '4607', '3780', '23784', '8694', '18599,4', '38000', '6204', '9793', '14098,1', '17590', '23598', '14169,1', '12559', '10971', '63000', '17558', '16627', '7648', '6900', '5806', '9278', '15403,02', '23989', '59760', '10752', '18530', '10836', '3540,2', '14030', '3798', '3328', '33280', '33680', '5590', '8515', '67795', '23200', '7077', '24400', '88312', '32990', '7559', '17240', '7480', '10605', '32444', '2089', '43950', '11000', '4845', '15315', '54738', '9862', '4908', '36980', '26339', '3541', '16571', '16650', '17980', '18692', '11943', '25900', '24680', '7291,85', '9438', '15600', '18510', '3895', '6105', '3245', '10071', '14787', '7452,4', '17290', '4195', '20059', '5710', '25727', '7574', '4921', '18304', '7360', '13918', '25960', '11070', '2152', '28055', '28000', '11136', '4980', '3370', '15619', '12518,5', '96200', '7908', '9370', '4400', '18224', '4057', '7880', '4966', '7327', '14840', '19883', '13990,92', '14796', '6354', '19900', '11396', '24030', '45110', '15638', '7198', '27995', '26886', '27686,2', '11167', '9573,1', '4867', '3690,82', '6145', '6850', '6740', '19611', '15034', '6780', '4379', '3710', '16870', '20229', '10495', '9689', '10505,5', '16371', '19590', '23912', '2700', '13825', '22349', '5721', '19830', '5665', '9170', '9150', '3674', '16781', '11288', '26241,6', '5222', '8300', '3500', '66680', '25920', '13680', '35992', '6539', '2600', '2909', '17100', '4072', '8955', '7505', '25490', '26900', '7469', '21154', '23130', '13888', '5708', '29177', '27905', '7677', '6741', '30697', '16455', '5078', '16280', '7181', '2282', '5207', '17998', '35990', '12557', '19300', '26928', '22947', '2095', '27736', '31221', '12989', '9679', '51750', '19839', '25780', '27962', '14595', '22160', '12672', '13433', '3392', '4505', '9554', '8498', '3499', '5288', '6345', '5268,47', '4281', '8171', '27970', '5865', '36730', '6622', '14197', '10750', '18592', '75000', '76550', '44000', '2691,9', '9670', '16849', '2570', '6035', '2974,15', '11990', '41125,88', '21780', '5440', '19615', '41132', '4040', '21866', '43376', '3725', '16992', '22898', '4592', '13780', '23050', '22990', '6749', '23663', '14795', '27922', '29065', '13671', '12290,94', '13387', '17215', '7183', '3717,9', '39500', '14845', '12799', '4405', '11055', '3680', '74319', '20300', '27110', '25570', '30599', '31224', '13280', '13248', '25540', '17804', '27065', '4542', '96860', '8499', '3239', '2028,56', '44900', '7047', '22338,94', '31560', '11580', '12959', '7070', '6393', '22269', '27898', '43515', '32790,9', '22307', '10057', '29592', '6260', '5980', '3187', '26590', '3542', '20536,1', '4401', '4480', '19125', '30920', '24647', '36000', '78800', '21589,9', '8625', '17350', '14637', '33300', '14460', '13420', '3555', '3410', '10675', '20297', '93890', '7937', '20700', '14976', '39028', '2970', '6672', '26547', '6097,5', '15727', '10417', '10939', '15789', '18868', '40581', '3800', '21700', '14480', '35550', '5879', '8237', '52509', '20636,91', '22469', '17261', '13890', '17952', '28781', '9467', '32819', '8190', '5357', '3516', '9398', '14365', '10163', '8020', '26710', '6609', '3730', '16798,2', '14927,83', '8432', '39600', '5835', '25220', '26650', '5128', '27600', '11298', '6552', '10342', '7302', '8340', '15221', '6060', '20475', '2031', '16949', '89196', '10245', '5404', '13225', '5410', '21630', '22236', '20510', '4990', '5488', '13199', '5198', '7995', '5445', '32499', '7611', '3854', '46540', '22080', '4910', '26280', '8067', '3030', '3134', '13025', '27190', '17838', '7080', '7459,6', '18296', '4050', '6245', '2844', '28417', '8610', '28590', '4375', '12542', '98644', '29443', '9090', '5310', '10001', '6492', '13710', '11098,8', '7407', '24830', '24690', '7586', '5807', '6290', '15490', '16438', '30600', '8860', '9340', '3749', '18997', '14097', '30455', '13500', '43373', '25122', '10523', '19924', '84500', '26199', '25343', '14744', '62000', '10714', '20592', '7420', '15520', '4118', '16039', '4021,92', '39690', '16786', '50700', '12290', '17545', '28026', '23140', '22124', '10616,4', '4274', '29037,12', '24929', '33111', '10805', '29615', '14599', '25940', '34396', '3393', '19993', '9729', '14590', '17811', '15880', '17075', '29490', '3617', '7299', '4436', '5799,2', '7040,92', '43631', '11615,4', '28800', '4535', '7540', '4701,6', '19889,92', '15750', '6873', '17650', '21850,94', '4165', '3255', '5426', '25574', '24940', '16750', '22252', '10085,9', '5920', '7020', '12099,1', '6101', '9660', '15795', '3731', '21654', '14639', '16701', '40110', '17839,92', '13098', '4488', '6189,3', '8080', '36350', '16720', '12365,2', '6424', '15740', '12687', '32617', '4860', '23797', '17613', '30340', '3591', '26997', '25290', '29949,7', '35955', '2572', '11480', '23792', '7472', '5754', '15904', '10699', '24630', '23226', '22495', '17330', '3928', '30190', '3942', '16833', '22384', '4460', '22674', '11049', '46881', '13989', '23677', '17379,99', '43732,8', '8604', '9004', '54700', '3028', '7590', '7342', '17950', '11021', '25177', '24119', '14610', '26200', '13678', '24717', '18338', '12572', '6030', '17505', '10248', '51370', '13950', '2350', '29942', '7715', '8099', '24035,5', '18340', '12465', '16690', '10599', '31696', '3875', '9310', '2245', '2995', '21450', '9880', '27398', '28162', '2430', '13284', '23410', '10490', '12760', '37360', '5994', '12424', '6056', '37560', '7230', '8892', '26524', '28933', '2610', '14370', '33990', '11833', '9282', '5043', '11042', '79770', '2850', '19897,1', '46000', '17134', '9825', '6966', '8185', '10538', '26330', '4413', '28845', '13930', '20505', '18668', '19521', '37508', '11270', '22011', '23147', '11989', '18225', '12580', '30799', '18399', '4349', '12330', '17660', '4013', '37150', '14204', '16222', '18350', '7625', '13847', '3190', '47704', '24236', '15756', '24768', '13139', '6228', '13620', '3909', '21570', '5772', '7499', '8442', '27450', '8290', '6785', '6757', '2000,51', '25167', '8228', '31498', '8940', '3980', '20580', '13430', '19745', '12511', '22940', '23475', '12220', '10590', '10300', '16743', '24389', '16260', '3898,1', '4580,92', '12690', '28247', '6429', '13920', '12410', '11308', '6712', '20992,78', '22482', '18648', '25695', '5253', '23737', '32940', '20943', '13320', '12903', '29789,91', '80000', '8260', '11749', '10019', '18900', '13960', '20295', '7541', '22600', '7829', '8150', '29661', '4947', '2366', '23393', '11093', '3636,9', '19840,5', '4779', '15685', '3799', '19417', '9452,97', '3614', '5456', '3570', '24933', '6181', '8200', '26080', '8262', '16765', '9970', '18624', '5797', '6119', '8270', '5987', '6998', '48580', '25760', '10430', '8750', '3420', '25641', '5119', '22200', '10528,3', '16065', '94330', '7366', '2745', '7815', '29699', '3039', '6620', '20820,2', '21009', '23400', '6660', '35142', '25492', '12397', '11159', '10090', '24301', '5757', '54000', '7610', '34150', '20985,62', '8295', '11488', '10471', '21688', '8806', '34000', '22430', '6918,34', '7068', '21190', '4900', '5300,9', '7092', '16400', '15602', '2219', '19626', '4800', '19106', '9842', '7441', '27124', '10330', '2573', '12472', '6504', '30313', '4745', '3380', '8797', '12470', '22959', '14625', '5088', '12554', '16908', '5970', '29266', '6647', '6475', '14035', '11958', '16145', '9308', '11400', '11212,06', '3983', '20620', '13949', '31070', '18216', '87880', '13688', '8590', '21400', '4107', '27400', '27060', '9224', '5230', '12945', '13180', '17528', '31885', '21940', '4575', '14521', '30946,29', '11672', '18499', '20180', '19503', '3547,42', '5852', '25904', '17573', '20640', '15640', '16776', '15875', '22369', '5095', '28230', '7549,89', '4190', '4650', '60300', '13450', '9990', '10900', '13421', '5228', '4994', '21120', '4703', '21690', '7430', '3779', '12639', '9457', '4462', '22570', '3890', '5910', '9647', '14930', '19770', '66578', '40970', '2223', '13447', '40574', '3808', '3750', '9991', '11260', '58490', '10837', '10046', '32508,2', '9345', '19560', '62240', '23998', '11390', '3790', '19542', '5778', '12550', '16605', '9956', '27000', '18880', '21112', '41600', '10286', '35369,4', '5867', '3314', '10140', '26120', '11409', '24179', '49750', '7180', '5995', '16960', '5472', '3628', '18819', '4109', '4816', '4088', '9341', '4293', '6848', '29677', '8609,92', '18910', '24199', '8148', '10950', '28221', '2490,92', '49798,1', '25800', '7240,5', '14190', '29388', '30925', '12797', '17310', '5340', '10690', '14980', '35522', '17324', '8361', '7870', '11034', '13080', '24500', '9695', '6489', '13462', '7455', '12239', '4704', '17329,92', '11750,31', '23391', '11920', '9995', '15705', '10611', '9560', '29493', '4978', '16107', '28116', '10231', '25137', '3305', '5695', '20540', '12537', '8540', '70410', '22162', '4752', '5397', '20779', '19360', '20205', '3865', '23713', '22830', '7315', '11430', '32000', '17572,68', '25990', '24405,4', '9326', '14760', '11877', '17045', '45952', '14781', '28551', '19420', '4209,2', '23999', '21388', '14856', '30820', '2680,4', '9130', '13399', '17106', '2650', '14910', '12498', '22599', '38120', '10240', '10394', '15481', '20296', '12598,1', '13302', '15363', '5162', '7317', '25182,4', '11340', '10350', '7084,28', '10912', '3415', '12366', '13489,91', '4826', '28079,84', '16141', '5960', '6510', '7604', '38553', '17300', '15098', '18725', '25840', '25491', '17595', '10194', '21595', '11236', '12120', '4869,66', '35097,66', '17714', '11753', '22761', '3150', '26790', '11394', '11148', '17112', '31014', '17875', '9576', '17546', '5504', '12849', '7820', '12310,91', '16485', '4117,5', '29990', '5639', '2007', '4729', '81612', '9651', '35450', '26329', '10920', '34449', '7201', '32900', '21470', '6543', '19920', '5984', '25271', '14885', '11487', '17540', '18460', '16613', '22558', '31900', '28899', '4186', '19809', '27769', '48572', '5487', '3220', '8597', '7760', '5150', '35500', '15466', '5499', '2880', '22662', '2990', '20989', '26774', '23370', '6125', '23440', '75500', '7169', '8880', '4928,96', '13350', '18549', '9295', '8844', '27617,1', '32415', '4403', '29345', '8100', '9443', '18750', '7060', '18999', '23152', '6340', '4139', '9263', '16257', '14089', '20767', '18358', '9994', '3883', '8441', '3376,8', '13356', '3015,2', '21349', '22072', '18649', '13479', '26538', '5424', '14917', '26082', '17150', '13940', '12590', '17610', '4241', '20000', '4099,9', '2009', '29790', '27200', '13615', '25350', '6477', '14441', '10670', '6205', '2671,2', '22711,21', '8278', '3180', '2412', '12870', '18239', '7917', '83194', '25140', '10220', '4122', '6856', '7404', '3048', '23696', '11623', '6867', '6985', '5544', '30918', '12127', '2979', '20530', '13302,83', '10671', '9971,3', '22672', '11389', '28310', '10936', '29198', '22598,1', '25340', '14593', '26730', '22522', '6898', '5016', '30940', '17263', '11211', '21398', '11138', '22955', '22458', '29663', '16530', '3898', '4492', '26800', '4879,8', '24210', '49490', '8076', '25538', '3339', '28341', '5169', '7416', '21405', '5131', '7050', '4671', '14669', '13793', '18450', '26740', '5180', '16823', '6964', '4312', '3916', '22085', '27673', '3035', '2620', '14854', '17520', '25720', '2400', '17704', '21265', '19700', '15102', '8690', '14140', '4217', '27854', '20095', '38406', '15496', '11926', '14177', '18470', '6103', '3510', '3199', '7954', '27040', '26430', '2890', '23749,76', '6024', '13720', '33183,4', '24475', '11202,3', '76000', '14090', '3284', '21597', '8698,1', '20477', '12695', '5640', '16448', '28842', '17146', '3448,8', '10610', '6860', '44100', '26837', '10548', '19099', '18850', '3737,6', '44290', '9127', '6165', '11850', '24357', '11280', '11558', '6598', '9846', '3540', '14530', '10189', '5380', '6698,3', '15770', '9759,4', '15927', '27196,1', '4435', '4399', '2450', '17162', '9820', '16868', '19930', '13110', '12541', '24479', '18230', '20802', '44690', '15930', '12514', '9532', '23890', '11225', '3080', '6500', '18962', '39422', '18600', '30520', '26084', '5000', '24858', '25180', '76738', '15078', '6139', '11204', '6088', '34641', '24380', '3735', '13730', '6793', '8311,29', '17911', '27570', '5238', '39865', '16114', '2660', '7350', '3137', '16740', '13776', '9750', '17340', '6073', '8917', '25732,2', '11519,1', '14494', '41936', '18885', '13190', '10757', '4170', '4563', '6379', '3023,58', '25280', '36490', '24423', '6916', '17347', '28238', '6520', '10390', '14960', '50970', '5085', '8445', '29461,34', '56277', '20091', '3448', '12443', '57209', '19260', '14999', '22890', '6605', '9009', '3959', '11212', '22927', '6903', '61250', '3407', '3681', '15017', '3743', '24370', '9447', '30615', '12713', '15192', '9280', '15279', '34120', '5599', '36500', '17415', '17130', '5745', '5937', '31875,3', '4624', '12499', '3100', '28050', '2719,2', '5377', '20370', '26232', '35900', '8763', '30580', '11395', '15940', '2389', '3877', '7588', '41994', '7735', '20874', '10854', '11349', '23852', '8883', '24270', '12597', '11194,06', '5898', '4220', '13567', '12737', '69282', '33700', '20583', '24280', '29100', '20330', '22264', '12810', '37656', '5129', '21350', '5438', '3770', '17448', '58500', '40756', '17966', '4199', '10058,5', '80973', '5857', '5931,8', '16893', '8680', '29877,3', '15547', '23108', '31474', '55500', '19680', '5480', '9813', '17906', '21771', '32449', '14052', '5359', '5231', '26091', '38880', '15552', '4640', '17040', '29690', '23661', '28502', '28922', '10424,6', '24027', '6329', '18020', '10640', '3046', '58670', '5200', '11296', '25999', '24003', '13653', '35793', '14193', '15887', '29460', '4280', '17880', '15468', '20690', '8720', '8775', '35326', '14690', '18209', '5936,81', '25299', '4064', '28745', '30796', '25515', '6890', '4520', '7220', '19446', '11398', '24295', '37016', '20280', '9586', '12345', '29386', '2855', '10618', '4018', '16190', '17370', '22498,2', '16199,2', '5280', '12199', '19699', '14651', '29075', '20500', '4904', '25966', '8508', '26875', '6461', '32391', '6411,72', '28517', '99000', '2399', '9380', '14611', '15067', '41171', '7132', '12200', '8606', '4610', '12591', '78400', '43200', '30418', '6893', '78390', '25250', '11999', '13115', '3070', '13880', '21658', '2447', '17700', '17251', '16498', '19791', '25068,94', '9545', '7710', '6170', '10970', '7984', '41929', '83106', '15523', '3280', '9850', '53091', '72890', '8377', '16322', '14160', '14758', '18602', '13922', '13100', '2045', '3930', '5482', '25983', '21050', '4658', '9920', '11440', '7618', '86041', '16199', '19133', '81000', '3359', '22750', '4952', '27130', '3647', '19404', '49860', '16550', '34390', '50568', '28945', '6449', '8156', '40500', '14646', '16649', '15110', '9013', '6919', '20748', '17605', '2680', '4629', '25887', '11489,91', '14773', '10525', '6200', '4140', '56673', '7790', '24752', '13959', '26818', '18896', '22460', '21999,2', '26276', '8280', '7199', '24450', '34493', '21650', '3861', '2238', '6950', '42228', '24552', '6513', '49227', '6210', '6236', '17000', '5645', '16330', '27986', '10432', '26054', '11048', '15730', '5080', '24778', '7208', '45750', '6297', '14461', '4820', '10803,84', '5931', '21724', '12549,07', '13138', '5560', '4290', '5100', '7369', '5712', '2490', '6594', '20225', '30299', '10735', '31000', '3269', '30300', '33598', '29120', '2165,4', '20710', '6058,1', '49100', '16052', '27248', '12944', '17910', '4319', '4939', '11619,84', '6197', '50098', '32490', '14472', '9456', '9960', '23865', '15186', '33255', '22490', '22345', '18784', '10492', '8456', '4858,1', '2590', '5384', '17999', '10769', '50652,94', '5877', '28970', '10060', '18068', '11687', '4922', '10830', '3170', '14866', '38810', '9610', '10791', '25632', '16350', '76300', '85100', '23304,6', '17863', '12451', '38570', '10631', '27540', '53499', '3580', '23280', '13263', '18426', '13441', '23128', '14800', '26550', '93400', '5017,9', '20789', '59398,2', '20519', '19120', '11910', '4661', '21290', '65747', '7116', '7848', '14443', '4372,2', '8088', '34020', '5301', '30224', '2910', '10147', '3752,9', '23820', '12029', '6018,39', '10778', '15900', '7999,1', '23992', '28170', '13891,5', '9464', '16961,1', '10361', '19977', '10972', '23647', '7135', '10700', '18882', '31817,2', '3385', '3717', '33570', '18654', '4041,9', '10630', '3690,92', '14331', '13835', '24682', '8620', '90747,9', '2060', '7600', '10555', '52250', '18855', '12197', '44440', '30372', '21624', '8056', '31792', '19045', '16197', '26400', '3998', '25459,3', '10230', '8095', '9054', '7147', '19316', '22520', '3200', '7410', '15250', '84000', '16080', '3145', '9730', '7787', '97000', '26390', '5243', '3031', '9810', '58567', '6201', '7996', '13985', '18825', '33800', '84558', '14522', '5775', '16773', '31415', '23216', '5921', '87786', '9460', '4973', '21721,1', '5820', '25980', '9158', '16479', '9907,2', '4454', '9681,5', '5688', '18000', '18150', '5218', '11151', '3340', '7898', '15040', '23577', '77860', '28338', '20720', '7798', '12057', '9599', '14750', '5839', '4200', '7776', '17098,2', '5185', '23020', '4410', '8000', '56700', '37017', '9117', '100000', '20587', '5267', '19670', '6272', '16965', '12570', '21728', '21460', '13830', '15290', '4930', '60080', '7190', '12317', '5225', '19720', '20826', '4729,72', '49653', '31716', '22212', '4633', '7830', '22413', '4534', '29094', '26990', '22660', '27313', '7335', '10925', '21750', '19020', '9580', '3093', '20800', '4130', '23684', '7796', '4060', '8292', '5908', '5345', '24711', '2699', '2748', '15230', '13843', '6967', '18048', '31020', '9072', '9979', '23944', '4320', '29475', '6639', '16512', '79200', '25300', '23358', '5594', '17956', '19769', '13173', '14678', '20979', '20646', '13440', '4581,87', '23550', '22040', '28210', '67950', '22090', '18797', '17960', '15313', '23297', '8730', '5798', '7478', '20263', '8846', '15460', '5817', '14938', '8186', '7460', '74466', '37235', '19740', '4619', '16418', '3389', '9219', '7373', '48600', '17890'}\n",
      "\n",
      "\n",
      "==========\n",
      "FST_PAYMENT\n",
      "{'7700', '22400', '7259', '205', '1093', '900,2', '1395', '6300', '4788', '6365', '3910', '2338', '2324', '1063', '380', '12211', '1309,65', '12910', '5562', '9685', '5140', '35000', '5752', '2614', '23800', '842', '19355', '5320', '7395', '10000,92', '4011', '2778', '1501', '12700', '4870', '5279', '4268,72', '915', '3490', '1512', '4138', '3298', '260', '5143', '3172', '2985', '1656', '3780', '1452', '2540', '38000', '2998', '9793', '692', '336', '4086', '2028', '5130', '510,9', '727', '868,83', '11597', '608', '3023', '3763', '3245,95', '1543,5', '7913', '1392', '1780', '3236', '2947', '25599', '6900', '927', '4768', '12044', '5850', '9922', '281', '7631', '9498', '3440', '3984', '19950', '1107', '2190', '1148', '7300', '3328', '4000,92', '1410', '418', '5170', '1598', '2333', '485,2', '574', '988', '3500,6', '239', '3050', '899', '558', '4287', '891', '54870', '5081', '2690', '7480', '34923', '3107', '2805', '15886', '9190', '6782', '637,4', '11000', '955', '1840', '1771', '3371', '1092', '9898', '3830', '5746', '2955', '386', '553,6', '10706', '1760', '10557', '5761', '2050', '1619', '4809', '50000', '3585', '4095', '7125', '4270', '715', '15600', '1458', '681', '3318', '653', '20890', '777', '1571', '2716', '315', '3245', '359', '6317', '6007', '8640', '225', '1008', '3815', '561', '9039', '1225', '7250', '6820', '5250', '13203', '5710', '2345', '880', '2567', '3249', '10515', '4000,9', '816', '9800', '1018', '10502', '1327', '4263', '2152', '9248', '28000', '8082', '2580', '4953', '1752', '700,83', '6320', '3370', '1563', '2690,92', '960', '965', '2900,5', '4400', '894', '7880', '1540,84', '832', '1892', '3718,2', '2845', '23900', '1509', '2199,95', '13000', '10550', '3149', '480,9', '790', '2420', '9699,69', '2000,2', '837,91', '33590', '10981', '3710', '60245', '1829', '2901', '800,82', '13670', '1597', '24800', '323', '5210', '12999', '6370', '2700', '5245', '4983,2', '16668,82', '29080,92', '1376', '4653', '1639', '4715', '2316', '2429', '6699', '3469', '1995', '16070', '940', '1722', '1740', '8300', '10497', '3500', '10460', '729,1', '930,91', '304', '3000,4', '5847', '2600', '600', '2980', '10200', '381', '1405', '1820', '524', '12358', '468,1', '18589', '1999', '1253,7', '2078', '10205,5', '1584', '5708', '9845', '575,2', '1680', '1300,92', '140000', '25400', '11900', '2772,13', '690', '2320', '1329', '6160', '0', '6875', '176', '332', '1500,2', '1834', '448,9', '2549', '2095', '14806', '5767', '893', '7519', '2598', '1635', '1873', '980', '1717,92', '14753', '1619,95', '7507', '623', '3333', '2688,69', '3392', '4346', '9096', '10041', '2688', '3499', '3158', '4393', '10467', '4828', '513', '10136', '1125', '4746', '1547', '3369', '299,92', '2384', '2260', '979', '10750', '5760', '21696', '1690', '1895', '399', '4950', '870', '4230', '824', '793', '4919', '694', '2570', '724', '230,3', '30303', '3100,1', '1330', '1860,9', '379', '1371', '3194', '1632', '3670', '4185', '3872', '11990', '1384', '2433', '1820,94', '5440', '541', '26000', '730', '706', '475', '9200', '250,6', '4040', '1045', '1660', '1185', '3545', '1143', '1153,5', '279', '815', '987', '1294', '2926,4', '2197', '2878', '6990', '1700,92', '2077', '15680', '686', '3215', '7950', '5074', '1512,1', '10489,92', '2347', '633', '4949', '4398', '54470', '2962,1', '495', '1495', '272', '3900', '2846', '21900', '1847', '1751', '45000', '849', '6599,8', '3720', '7750', '6999', '3680', '439,95', '5000,8', '10434', '3264', '1524', '13650', '1567', '4395', '2001', '2375,68', '18588', '1002', '2651', '4500', '3183', '10000,2', '2440', '2472,5', '4335', '542,2', '2595', '1990', '2689', '28257', '1293', '4806', '2240', '9250', '684', '3209', '14500', '500,39', '1320', '11080', '8499', '14000', '2493', '1047,82', '8400', '2000', '1081', '60360', '5350', '4739', '1279', '1095', '962', '5036', '1982', '5980', '8', '1498', '1356', '1351', '2327', '7845', '6445,86', '4480', '1786', '17669', '301', '9254', '778', '367', '8164', '39910', '5244', '7794,92', '833', '370', '2233', '635', '2067', '337,1', '3555', '517', '3410', '5814', '7660', '9996', '413,1', '3597', '323,25', '8688,09', '4647', '1453', '2970', '1012', '1890', '1721', '5705', '2504', '1599', '9530', '1139', '4986,5', '2899', '1493', '4700', '3800', '11020', '2500', '2253', '788', '687,7', '1258', '853', '1915', '5670', '283', '3403', '2574', '1970', '1400', '4245', '799,92', '1252', '1291', '779', '4686', '696', '7805', '1591', '23000', '8190', '1922', '11233', '3516', '8328', '364', '767', '10177', '5500', '1590', '3165', '1479', '1768', '3730', '26565', '2149', '2935', '3186', '2700,75', '39600', '1039', '2157', '2330', '1011', '709', '1050', '7142', '496', '754,2', '2348,8', '628', '2150', '9418', '2031', '830', '230', '3935', '1510', '387', '5812', '1059', '4340', '4567', '300', '2770', '2080', '634,2', '1655', '5950', '5985', '1171', '1813', '6151', '1341', '3064', '4990', '9900', '698', '1814', '5631', '2410', '5198', '4925', '10431', '511', '1525', '5703', '4000', '3157', '7995', '9445,95', '1383', '276,6', '299', '6387', '677', '10007', '210', '8522,2', '5718', '589', '4910', '3030', '138', '3134', '1200,8', '42906', '3202', '13580', '1000,2', '2121', '3870', '7080', '10095', '18375', '353', '3266', '4050', '2098', '1962', '5010', '3413', '895', '2136', '5366', '54910', '456', '579', '455', '10800', '1417', '4430', '4145', '1515', '11090', '2863', '953', '2499,8', '3569', '1996', '754', '340', '4239', '878', '16100', '316', '11320', '2041', '3408,8', '463,2', '2807', '7586', '6290', '7100', '1179', '2816', '4363', '1281', '2413', '48210', '445', '1936', '1190', '2999,9', '6491', '13500', '10267', '44500', '4045', '2419', '1994', '19924', '339', '682', '21648', '4352,37', '2830', '14440', '54230', '739', '2514', '8117', '18719', '168', '7420', '478', '160', '9550', '1961', '4005', '668,71', '479', '813', '2006', '2192', '588', '1442', '3550', '10512', '3212', '3969', '590', '1126', '3414', '2758', '1235', '4274', '10795', '6100', '10695', '25131,59', '3278,9', '958', '890', '8800', '7000', '850', '1373', '2178', '4348', '586', '1150', '2398', '1535', '6400', '10696', '4155', '3609', '3114', '426', '1261', '28800', '7567', '1386', '2520', '2599', '8480', '9570', '2864', '1247', '3976,32', '2466', '3619', '1572', '1499', '990', '7964', '2966,2', '847', '1566', '13790', '4110', '1497', '7953', '16750', '2560', '7020', '6923', '2092,94', '1841', '2615', '798', '1175', '3087', '1884', '681,2', '390', '2635', '9955', '4250', '1090', '5022', '5226,9', '1305', '425', '1955', '7747', '2437', '848', '1899', '3752', '3086', '875', '542', '7174,87', '51929', '1460', '10000,1', '20550', '10', '619', '2698,89', '1360,92', '62250', '1638', '5722,21', '2572', '562', '2022', '7298', '598', '7811', '8064', '2596', '26802', '599', '1469', '1463', '363,5', '3374', '810', '2760', '3334', '554', '41000', '2586', '383', '13807', '4098', '7590', '3795', '3028', '10723', '7633', '2135', '5155', '6910', '280', '2055', '4091', '9108', '6929', '415', '1295', '2350', '1400,1', '38800', '8099', '3136', '2825,5', '1702', '1800,1', '1013', '3318,4', '1987', '1300', '349', '1520', '7506', '481,8', '326', '2265', '2920', '3099', '3534', '10394,5', '6326', '10008', '645', '2156', '2245', '9790', '2299,9', '650', '3902', '2220', '5990', '3304', '41580', '2140', '783', '4080', '2000,6', '2430', '49356', '2848', '7240', '1035', '1648', '7990', '1997', '2698,93', '2490,95', '2459', '1255,41', '269,1', '7230', '10425', '804,5', '1544', '384', '5979', '10527', '2950', '19151', '1071', '433', '514', '8923', '4490', '5550', '3210', '2368', '3975', '2610', '5600', '1842', '649', '669,3', '2784', '613', '5001,9', '555,2', '29500', '1726', '862', '2850', '755', '9480', '732', '12520', '735', '249', '1507', '7477', '9500', '10051', '2499', '1111', '14220', '970', '2300', '19521', '6948', '1287', '1634', '29860', '2151', '5097', '4551', '4992', '2244', '677,3', '6357', '1710', '368', '46832', '39804', '44963', '3137,9', '13395', '539,09', '1685', '6138', '1765', '419', '372', '9528', '1394', '11673', '4579', '17110', '615', '6228', '1872', '7019', '4387', '625', '889', '1500', '3300', '2040', '1155', '1770', '436', '6785', '1788', '2052', '4536', '3290', '5260', '8940', '3980', '358,1', '2952', '828', '786', '6554', '736', '2218', '4260', '1693', '1620', '4720', '2000,7', '835', '11044', '744', '557', '1020', '258', '1778', '3043', '6700', '12600', '4510', '622', '1233,2', '1901', '2667', '6712', '6174', '1573', '704', '410', '306', '2415', '9754', '3187,74', '268', '17930', '4455', '18900', '2790', '7541', '606,2', '9770', '1000,67', '553', '9047', '1140', '6481,31', '1674', '2877', '3320', '11660', '1116', '365', '1368', '3570', '8040', '1708', '656', '8200', '3015', '3003,3', '3679', '2710', '1796,94', '1928', '860', '1141', '780,3', '596', '1366,05', '2328', '3669,6', '7707', '4550', '8750', '1789', '2271', '1914', '2394', '11924', '6730', '41774', '2084', '1625,2', '7800', '3787', '2745', '3039', '9020', '1978', '10980', '446,05', '19000', '290', '293', '2247', '920', '10090', '1897', '8650', '3105', '3502', '3088', '2508', '9300', '3293', '659', '2604', '5790', '3688', '765', '3874', '2248', '22097,99', '34000', '814,2', '1580', '6396', '2420,1', '602', '4900', '5690', '7464', '16400', '7165', '3439', '3205', '350', '4800', '1731', '22399', '2981', '1319', '660', '2390', '1670,69', '1508', '650,95', '12144,42', '10330', '60488', '5532,66', '1910', '9568', '3380', '438', '582', '1610', '470', '2403', '858', '1519', '363', '6399,9', '6641', '4000,91', '2046', '1280', '839', '1462', '929', '947', '1004', '26090', '2204', '234', '2469', '1036', '877', '1244,7', '3442', '1267', '1500,5', '3840', '1340,92', '1686', '680', '1004,2', '12000', '1937', '1815', '5400', '758', '2643', '508', '2170', '9068', '11024', '16000', '748', '651', '2155', '7764', '2000,85', '2020', '1477', '1181', '3568', '2019', '3687,5', '3760', '846', '2201', '950,92', '869', '2364', '950', '1215', '5248,91', '5060', '1528', '808', '392', '747', '760', '4267', '2975', '373', '667', '8500', '3620', '6257', '6550', '672', '749', '630', '1750', '772,3', '1306', '249,3', '5580', '1220', '552', '5095', '4190', '4650', '49582', '3148', '726', '2458', '2053', '451', '251,1', '9288', '3000,92', '395', '2937', '509', '4300', '567,3', '10900', '1514', '1010', '780,1', '2670', '1000,92', '1265', '1204', '7200', '26410', '3095', '1082', '12012', '5726,3', '11600', '2000,92', '3779', '3223', '2200', '2356', '1670', '14100', '9457', '3346', '5000,91', '1802', '1948,92', '4742', '1188', '1845', '2414', '1876,25', '2223', '1870', '457', '2142', '3997', '3750', '9991', '7528', '15140', '4358', '29590', '12251', '2210', '1058', '1089', '2559', '838', '3000,91', '1271,1', '4980,91', '670', '11382', '5786', '780', '712', '3335', '2625', '7400', '775', '8180', '5902', '728', '3790', '2213', '3433', '1072', '27000', '3049', '10759', '3119', '256,2', '10152', '11230', '6837', '868,42', '4197', '405', '1763', '3999', '2437,5', '1355', '1874,7', '1691,6', '10140', '1103,85', '2832', '1438', '9574', '2000,4', '292,2', '1850', '464', '1700,91', '867', '3390', '19990', '4184', '1266', '2467', '713', '5472', '2241', '130', '1374,88', '1708,5', '5521', '711', '6670', '677,5', '416', '1112', '13360', '1005', '16086', '1048', '10650', '1549', '4697', '7000,5', '811', '11292', '10950', '1303', '14190', '1179,6', '3426', '2228', '1138', '6832', '1830', '1480', '5340', '674', '10465', '512', '15000', '564', '7553', '0,95', '1269', '24500', '9695', '24500,03', '1969', '1202', '8751', '2865', '46300', '23700', '2916', '1785', '4851', '4343', '720,2', '1284', '5000,87', '421', '4210', '6480', '6820,45', '977', '687', '1489', '756', '1776', '4978', '646,5', '1457', '5373', '669', '11116', '1715', '6127', '1182', '5045', '9444', '618', '8945', '53370', '9871', '8540', '1747', '1860', '1650', '50442', '4752', '1290,6', '18152', '1560', '2696', '3810', '285', '2015', '7883', '3270,82', '1009', '5108', '5387', '2325', '2538', '3260', '1299', '6509', '16250', '1250', '12100', '30660', '39400', '1474,3', '14760', '2887', '1940', '1730', '2115', '1989', '2259', '2186', '2535', '5540', '936', '49200', '1348', '1883', '352', '620', '10227,2', '217,5', '705', '3073,8', '422,1', '2650', '4504', '8900', '1992', '19430', '1129', '3357', '16000,1', '16657', '2858', '10240', '1251', '2571', '5750', '746', '1364', '3252', '4444', '500', '200', '1786,9', '1837', '1680,82', '1556', '1420', '40000', '10350', '1318', '404,1', '1703,2', '35800', '3415', '1640', '3090', '2608', '1053', '18400', '888', '2290', '3130', '7110', '5305', '3214', '663', '9602', '770', '6800', '1784,81', '7238,86', '2630', '393', '2949,7', '2014', '10097', '3657', '10516', '2280', '795', '1260', '7520', '8688', '3364', '13519', '1424', '6600', '538', '6789', '2293', '934', '15500', '535', '3169', '2500,8', '3330', '2892', '5517', '48800', '3740', '13750', '3257,04', '2288', '1030', '3150', '1488', '2198', '774', '1450', '1146', '2797', '1805', '1000,89', '999', '2522', '1313', '1240', '1374', '516', '4330', '9016', '375,2', '3899', '2885', '5504', '2248,1', '6995,92', '1399,3', '4995', '7820', '1091', '4898', '5437', '2007', '981', '508,79', '8816', '9788', '771', '1042', '1877', '1487', '3538,92', '469', '424', '6543', '1823', '2530', '420', '1866,6', '520', '734', '818', '2940', '2647', '1703', '14786', '2011', '769', '1935', '9661,66', '9037', '2175', '238', '1119', '2000,22', '2840', '1979', '2112', '3104', '8000,91', '3220', '5150', '2810', '16481', '366', '3711', '2880', '1546', '5499', '10270', '2990', '11754', '532', '7082', '2988', '10015', '4523', '1292', '75500', '2355', '2076', '2340', '330', '13140', '699', '1534', '14448', '400,2', '3060', '3230', '4403', '3885', '8100', '1249,95', '1568', '1099,9', '4160', '5148', '995', '5735', '857', '18800', '905', '1003', '70940', '6340', '1130', '840', '2016', '1550', '1887', '3575', '2775', '18080', '2160', '5650', '10500', '7148,1', '1530', '1869', '567', '1800', '959,3', '3901', '2315', '1949', '2383', '7207', '17610', '2030', '20000', '3173', '1889', '551', '5120', '21000', '6217', '903', '6050', '2405,69', '2640', '1000', '1369', '10397', '440', '522,4', '3092', '3180', '1219', '3398', '3470', '3995', '2283', '2460', '887', '3425', '1075', '7547,8', '1393', '565', '2632', '33694', '4935', '2239', '1418', '409', '1390', '845,5', '10933', '1213', '2852', '1880', '3078', '11490', '1720', '2500,95', '1399', '1433', '764', '1246', '1363', '1050,33', '2578,8', '11560', '1956', '1422,6', '2811', '7447', '432', '2568', '6777', '334', '1609', '1595', '781', '9411', '1121', '3020', '25000', '9910', '757', '1123', '2482', '3299', '3339', '4000,22', '6957', '3135', '965,92', '723', '515,85', '15939', '25089', '2132', '868', '3160', '4100', '3360', '2518', '2231', '7669', '637,3', '3916', '1855', '1065', '1310', '2620', '11425,8', '1034', '2400', '2569', '1648,5', '2869,9', '2457,9', '10260', '49038', '7659,01', '2287', '4364', '1379', '2387', '1337', '1885', '6945', '1231', '1200,2', '2013', '4846,96', '834', '1605', '605', '1575', '388', '1799', '1408', '3510', '2444', '941', '1828', '2890', '1829,43', '10560', '1264', '1865', '4948', '5610', '1515,7', '918', '742', '639', '1523', '9700', '1779', '2605', '797', '3284', '3265', '2099', '921', '5844', '1124', '376,21', '2997', '2649', '7550', '34492', '3311', '269', '3097,8', '12300', '10098', '18850', '499', '643,7', '1360', '22000', '2237', '299,1', '2498', '431', '1806', '450', '5611', '11337', '6598', '973', '1975', '1704', '1475', '2235', '2564', '159', '5928', '362', '3943', '9272', '594', '3970', '3595', '4399', '3599', '2450', '2857', '1385', '1504', '3162,71', '2750', '1555', '7495', '3677', '15091', '4815', '2553', '5730', '4434', '4937', '4675', '2025', '3000,95', '4289', '5044', '31350', '177', '4053', '1888', '606', '1080', '7124', '616', '3745', '389', '859', '1581', '3080', '6500', '982', '1912', '3444', '4690', '2593', '7795', '6075', '1259', '1132', '5000', '2352', '479,8', '2532', '3492', '2358', '8389', '546', '2698', '19556', '2515', '3596', '319', '2289', '5050', '13300', '15701', '4823', '3735', '2088', '19958', '1268', '2740', '50', '3774', '2285', '5811', '5660', '2660', '7350', '636', '527', '1350', '5383,85', '13776', '1087', '9750', '3480', '8008', '1818', '6000,81', '1470', '6196', '2835', '7128', '2375', '1500,95', '1809', '1653', '9664', '529', '6844', '7243', '2205', '1898', '8390', '1115', '1565', '1158', '4027', '1392,4', '655', '1545', '8263', '985', '1864', '6323', '3010', '2653', '50500', '3829,6', '2090', '3448', '3950', '5177', '4632', '855', '2323', '570', '0,92', '1821', '309', '4590', '5375', '1561', '2712', '2668', '3650,1', '10400', '787', '969,8', '2685', '799,5', '1440', '652', '247,2', '507', '9267', '7630', '11528', '42518', '1147', '1503', '4030', '8700', '3319,7', '468', '490', '690,95', '1343', '46500', '1165', '473', '449', '21839', '355', '7170', '1197', '2915', '375', '2860', '3159,86', '29032', '250', '1625', '443', '305,1', '3100', '3990', '7185', '13200', '1491', '213', '2485', '1338', '3138', '2480', '4546,8', '2454', '1958', '2934', '369', '900', '2017', '6325', '638,7', '15670', '345,3', '2365', '413', '1559', '880,2', '943', '1199', '20235', '3590', '8710', '20644', '9964', '40758', '3275', '697', '60432', '1271', '3449', '5445,92', '3298,92', '2911', '2547', '720', '1629', '1046', '1899,8', '792', '2044', '1682', '13126', '2034', '3195', '75606', '371', '6398', '573', '1216', '7945', '485,8', '1411', '43359', '4315', '1991', '2000,9', '383,2', '752', '4199', '2634', '3159', '1900', '1257', '1695', '1745', '1610,4', '3739', '13818', '2751', '685', '5192', '8680', '2409', '2372', '4850,8', '515', '725', '2200,05', '1500,92', '930', '776', '2270', '1533', '2131', '2703', '8998', '3084', '642', '539', '4708', '4517', '11548', '1980', '3610', '2655', '50642', '4640', '75570', '4139,36', '855,9', '2173', '519', '5352', '861', '2616', '540', '1651', '1517', '2100', '1273', '5200', '974', '1694', '3846', '5899', '854', '1973', '989', '4280', '10637,7', '9838', '799', '17500', '12500', '1661', '5700', '14990,94', '1622', '2039', '1106', '1482', '2199', '1831', '3124', '676', '6240', '4360', '525', '5002', '22500', '1930', '16515', '1999,8', '1353', '6750', '11890', '1950', '5999,2', '717,2', '1671', '3454', '8450', '1243', '6890', '1200', '2335', '2517', '9400', '738', '8320', '3685', '39487', '2597', '827', '3639,5', '65000', '3850', '1016', '21500', '9490', '53530', '1248', '5461,11', '1522', '15000,4', '1899,9', '4018', '2855', '2357', '8349', '9375', '7740', '3794', '3006', '3660', '4194,3', '1649', '933', '11762,27', '675', '9000', '7900', '6010,3', '1381', '8125', '2500,2', '3411', '1445', '2753', '5246,5', '1516', '2879', '1370', '2399', '6748', '4565', '2798', '3520', '2310', '1380', '2279', '2923', '20645', '48156,13', '100', '2849', '3270', '437', '1272', '6000,95', '6975', '4743', '444,1', '7531', '2346', '1960', '2796', '3400', '5609', '4353', '6650', '559', '5744,5', '54929', '1094', '11221,5', '1120', '1084', '7670', '6603', '320', '223', '1180', '1302', '1735', '8734', '2125', '430', '485', '1959', '2027,7', '1001,7', '377', '30000', '2455', '8342,38', '3280', '571', '3880', '3363', '2999,6', '3350', '1103', '885', '1570', '820', '13536', '610', '3511', '13100', '2045', '3930', '1041', '50120', '2477', '9425', '6000', '1389,8', '2697', '629', '5023', '2129', '11440', '1289', '545', '1255', '3359', '1399,7', '1430', '2780', '5998', '1226', '8820', '3037', '3463', '2587', '556,2', '2470', '1725', '2180', '1431', '510', '1168', '13613', '11076', '4989,92', '1854', '1275', '1630', '1040', '6115', '2730', '4580', '1700', '750', '2989', '800', '2680', '4629', '2870', '8879,48', '10525', '6200', '9663', '576', '3765', '3450', '1331', '1689', '2250', '1933', '1921', '24000', '1055', '2395', '2179', '12335', '2278', '3337', '2754', '3216', '1050,92', '2238', '3228', '6950', '1172', '694,2', '2286', '3537', '3602', '1557', '6513', '276', '2167', '14640', '14221', '3907', '2380', '999,2', '11860', '17000', '311', '3310', '910', '3524', '16293', '691', '4310', '2702', '1195', '4775', '524,85', '1894', '1256', '984', '2294', '3110', '9784', '458', '3484', '429', '7623,3', '4499', '1399,8', '3416', '6000,1', '6297', '1939', '1739,69', '5033', '1679', '4820', '592', '917', '1455', '4000,5', '5560', '740', '2613', '2500,4', '1361', '5100', '3489', '3000', '1490', '4817', '4048', '2954', '2490', '446,88', '3055', '3960', '4830', '964', '544', '8250', '3126', '150', '31000', '11689', '6835', '2584', '2506', '3045', '2686', '4014', '3014', '5240', '912', '2230', '36330', '2930', '2166', '1920', '344,8', '3294', '55000', '4319', '1098', '5038', '1026', '34698,2', '1239', '2070', '2800', '599,95', '1717', '489', '6410', '9960', '5398,1', '1705,5', '3277', '1333', '1574,1', '2555', '710', '911', '1849', '2765', '5145', '1444', '1322,9', '695', '1812', '1176', '2590', '7882', '1588', '3435', '6534', '1615', '1110', '7034', '2159', '6646', '3700', '11200', '1108', '3170', '1957', '2861', '3482', '2729', '457,5', '4081', '53541', '1312', '1151', '3658', '942', '718', '1160', '10619', '1198', '4390', '9040', '1876', '25405', '16350', '1767', '1049', '2749', '32750', '1207', '4597', '480', '1556,8', '5900', '1400,95', '4206,8', '2888', '14935', '2004', '560', '120', '1608', '2096', '2487', '1781,83', '8650,48', '5940', '1924', '627', '14940', '9472', '26550', '4370', '5460', '360', '20595', '998', '6575', '4944', '5838', '1398', '2010', '7116', '638', '13526', '8790', '2826', '2222', '1871,75', '1339,9', '1000,1', '6933', '2910', '10147', '13400', '4680', '2776', '1210', '1051', '4593', '956', '3000,2', '15900', '9325', '555', '2079,02', '1952', '3250', '949', '63219', '8274', '488', '10026', '7270', '10700', '3800,2', '1254', '11027', '3385', '3717', '13539', '1365', '6495', '4476', '550', '2442', '4770', '3391', '8618', '4225,44', '2373', '4498,91', '5300', '695,2', '5075,84', '4186,59', '2495', '5800', '229,5', '435', '2299,8', '4587', '3495', '2060', '644', '2588', '7600', '1102', '772', '1326', '5999', '1540', '1824', '1077', '1288', '296,8', '4666', '1800,2', '1015', '3100,3', '549', '1297', '5890', '700', '640', '3140', '1841,91', '4020', '341,1', '10230', '13700', '27350', '7816', '503', '4198', '1600', '3621,7', '346', '3200', '530', '4082', '9730', '1700,95', '874', '40100', '1810', '3120', '1310,62', '1808', '1481', '3899,95', '1161', '2763', '54080', '498,6', '465', '2369', '2114', '925', '1230', '7822', '1222', '1064,2', '601', '4450', '3666,2', '1999,94', '1170', '3605', '1135', '4660', '40664', '4318', '1790', '6625,16', '2331', '4798', '2062,5', '7049', '1093,4', '4521', '2720', '407', '13772,82', '1245', '11800', '5820', '3288', '1196', '1701', '759', '938', '2550', '948', '11500', '863', '9391', '8120', '18000', '6541', '1279,9', '240,6', '2206', '745', '1025', '3340', '1060', '14385', '2958', '10725', '3498', '2047', '1278', '1069', '1677', '9520', '4200', '7776', '55982', '3538', '1159', '8000', '3240', '2898', '197', '6519', '2803', '1434', '342', '4600', '10162', '1486', '337', '3678', '247', '3650', '5784', '2200,91', '7118', '10000', '1835', '51127', '1999,2', '2349,6', '391,2', '4750', '2360', '4350', '1100', '583', '439', '460', '10100', '56638', '6532', '1719', '4177', '4275,2', '643', '52182', '2708', '6610', '952', '1737', '5000,1', '531', '2482,84', '5989', '2674', '4916', '1866', '9824', '21750', '1000,95', '518', '1238', '4498', '3600', '5361', '1152', '58800', '631', '3822', '688', '3108', '4060', '1290', '2528', '2491', '1759', '5234', '3749,74', '9600', '1029,41', '612', '729', '1070', '1328', '400', '2024', '1880,2', '825', '3235', '873', '1666', '4235', '16484', '9639', '648', '658', '7261', '971', '7500', '9979', '1099', '580', '4320', '2263', '626', '10729', '2029', '1201', '5667', '3698', '5450', '1596', '25300', '1270', '5594', '1875', '2843', '5038,1', '1340', '3000,68', '2110', '6882', '16500', '1056', '21094', '1899,1', '528,5', '2130', '9270', '7095', '449,1', '5817', '737', '2062', '2370', '1178', '18735', '48052,1', '1229', '2665', '4712', '1819', '3703', '508,5', '2900', '4619', '2000,79', '1484', '3451', '3198', '14200', '3297', '459', '2510', '845', '7836'}\n",
      "\n",
      "\n",
      "==========\n",
      "LOAN_AVG_DLQ_AMT\n",
      "{'1940', '1085,5', '648,68', '367,35', '1730', '890', '722,59', '2462,1', '1833,77', '1980', '2178', '850', '2409,01', '1222,06', '3610', '749,82', '1150', '3910', '620', '4640', '2262,12', '380', '1745,7', '4710', '1867,66166666667', '3315', '2650', '849,91', '2163,94', '11310', '1314,58666666667', '2476,77', '872,065', '5140', '433,3425', '1348,68', '1052,63', '2239,37', '136,76', '1570,46', '975', '3201,95', '5320', '1781,225', '1529,06', '619,4', '1402,43', '540', '1004,225', '1127,76', '1706,3', '1324,41285714286', '1399,25', '2520', '2100', '500', '3490', '198,88', '1512', '683,9975', '1909,16', '2916,18', '4001,34', '5603,82', '1420', '1429,99', '772,73', '1317,06', '789,23', '2540', '3780', '990', '2656,68', '776,3', '1640', '3716,35', '863,68', '2560', '554,36', '1175,57', '1053', '1920,9575', '1639,24571428571', '1538,69', '1817,76', '2290', '1388,83769230769', '1880,59', '2018,255', '957,59', '1398,58', '1433,4', '665,57', '2960', '62,46', '1930', '812,693333333333', '770', '1090', '4250', '5040', '1883,04', '651,16', '1780', '1671,7', '2630', '5048,19', '1275,785', '1950', '5850', '2280', '1260', '499,69', '1007,8', '2139,63375', '1894,04', '3440', '1649,37', '1200', '560,86', '6490', '2190', '3820', '1155,02142857143', '823,54', '1056,95', '1410', '1460', '3330', '1108,96333333333', '1663,27', '5170', '327,98', '1068,47', '1459,54666666667', '2707,25', '4760', '315,796666666667', '892,95', '578,3', '569,121428571429', '3850', '1030', '3150', '767,566', '1450', '821,45', '702,565', '1942,72', '2083', '1335,47', '2647,9', '3050', '1329,54', '3660', '1240', '1010,55', '339,83', '429,11', '1844,885', '1059,47', '4508,2', '810', '1798,49', '2760', '1344,33', '1259,1', '1675,75', '1594,914', '966,953333333333', '2419,9', '1509,44', '1065,62', '438,19', '1840', '1830,2', '1288,63', '1370', '2259,35', '355,04', '758,95', '4565', '1439,94', '3520', '1010,27', '2310', '1380', '2272,5', '1593,76', '3626,91', '1959,99', '2158,72', '1626', '560,36', '1539,2', '1760', '2497,09', '100', '3119,99', '1634,81', '2530', '802,36', '1266,34', '2050', '2112,17', '1731,06', '769,43', '446,31', '1066,005', '2350', '2120', '2940', '1960', '1892,238', '2044,155', '3400', '582,386666666667', '6650', '1140,2', '1171,686', '2070,52', '779,415', '2157,32', '1391,47', '1300', '1520', '2840', '3070', '1094', '2265', '1599,9', '3940', '2920', '3072,475', '1205,4725', '855,675', '1120', '1260,55', '1692,49', '2568,45', '598,5', '4120', '2676,2125', '1789,04', '880', '650', '767,7', '2961', '2220', '7670', '6310', '2810', '5545,0225', '2880', '740,575', '966,07', '2990', '2140', '901,64', '1095,89', '894,29', '2430', '2957,71', '1093,22', '604,43', '497,62', '1180', '2580', '2629,87', '430', '917,57', '6130', '2340', '960', '330', '3279,705', '3768,7', '1402,92', '896,31', '1829,73', '846,74', '1468,38', '366,58', '3060', '887,79', '2702,4', '3880', '3230', '677,474', '818,74', '370,77', '4400', '457,71', '2950', '1300,386', '586,646666666667', '605,496', '1570', '5550', '543,33', '727,63', '820', '2610', '3501,45', '4160', '610', '599,19', '2379,46', '753', '1614,36', '2699,88', '444', '673,89', '798,53', '2850', '1304,0625', '1258,49', '1130', '3971,6', '735', '3702,8', '543,17', '2235,225', '1182,23', '1033,905', '840', '2142,2', '1550', '2090,53', '929,51', '1430', '762,93', '567,51', '1108,574', '1679,2', '51,8', '1530', '2160', '5650', '790', '2470', '2180', '1072,34', '510', '849,085', '472,11', '1800', '1716,52', '1761,03', '2300', '970', '768,97', '604,353333333333', '875,09', '1113,335', '3782,39', '1070,52', '1630', '478,13', '1496,3275', '2700', '2202,69', '804,32', '1040', '5110', '1312,44', '2816,25', '2340,06777777778', '750', '1700', '2119,77', '2030', '0,04', '2009', '1418,86', '1710', '1552,325', '3651,445', '800', '2680', '549,88', '981,71', '940', '2640', '1740', '2870', '1000', '1409,965', '796,59', '856,64', '1508,79', '1889,43', '3769,3625', '4827,666', '6200', '4164,34', '4140', '3190', '5394,29', '2059,46', '3500', '840,7', '1139,49', '1733,88', '440', '1119,27', '425,97', '1597,92', '3180', '610,986666666667', '1582,435', '2250', '3470', '588,9', '1199,27', '2600', '600', '2980', '269,51', '2269,735', '782,705', '1410,53333333333', '5370', '4620', '1500', '1820', '2040', '1770', '14870', '2101,256', '755,063333333333', '1851,55', '2406,8', '1272,72', '957,4', '1792,71', '1390', '1149,495', '2910,25', '600,93', '1899,7', '3637,43', '1880', '2082,47857142857', '682,56', '2989,98', '1720', '1680', '2701,26', '965,1', '2380', '6390', '946,49', '1875,70333333333', '5830', '4260', '2320', '1620', '2184,66', '270', '690', '3322,7775', '3202,2', '1831,51333333333', '3310', '4055,03', '979,63', '910', '663,05', '2368,84', '809,42', '4240', '1155,125', '0', '1427,295', '865,05', '3433,42', '4310', '9060', '761,866666666667', '2240,34', '1020', '1670,18', '3106,29', '2590,15', '1010,43', '1555,00090909091', '13920', '1134,58', '2185', '3110', '726,57', '1264,23', '3020', '1321,68833333333', '714', '896,1', '2518,18', '1215,45777777778', '1197,38333333333', '980', '1286,73', '2031,34333333333', '836,6', '918,55', '1221,92', '2796,66', '38,32', '2201,11', '2790', '3303,2', '1325,63', '2105', '5560', '4290', '2742,25', '177,34', '740', '3283,1', '240', '455,32', '1489,13', '1296,4', '3102,49333333333', '3000', '1490', '1160,96', '553', '2490', '3160', '3960', '1140', '3360', '4158,85', '918,255', '2263,2', '2002,45', '651,625', '1006,59', '559,94', '526,563333333333', '1778,635', '1684,04', '959,955', '2276,54666666667', '1310', '2260', '1230,63', '1405,53', '1563,45', '805,86', '5760', '776,59', '3570', '1690', '1154,34', '2400', '2230', '862,5', '2930', '289,02', '1920', '870', '1258,585', '3635,77', '2598,9', '2097,97333333333', '1697,22', '827,57', '1677,48', '2710', '951', '451,495', '2570', '613,21', '2569,05', '860', '673,02', '4940', '2820', '1666,28', '1330', '2070', '2800', '1932,5', '1093,75', '1441,57', '857,956666666667', '4550', '216,59', '3670', '4445,6', '1258,95', '1120,93', '3420', '791,56', '710', '1208,09', '3510', '2739,76', '730', '2890', '2590', '2315,64857142857', '4376,4', '1283,93', '1179,86', '2186,585', '6660', '2258,3', '1615', '2503,19', '532,24', '1931,44', '1110', '920', '310,126', '502,1', '673,6825', '1768,07', '28012,2', '678,2', '3860,18', '3691,2675', '3428,56', '18307,16', '3170', '860,505', '1247,92', '1283,89', '2547,85', '3018,275', '1580', '3037,58', '821,93', '1160', '1145,85', '990,85', '3024', '4390', '3900', '2467,33', '4070', '1939,61', '2509,38', '859,92', '1176,82', '988,85', '1360', '1088,05', '750,175', '1371,86', '1292,59', '2386,505', '812,11', '766,26', '660', '709,96', '1810,155', '480', '2390', '791,98', '1373,99333333333', '630,49', '450', '830,53', '4115,33333333333', '560', '1369,755', '3589,09', '4530', '1276,66666666667', '1319,56', '3540', '1910', '620,75', '1717,47333333333', '4370', '674,263333333333', '2779,4', '2440', '360', '2128,74', '1610', '1990', '1305,97', '2240', '782,21', '984,79', '1424,9175', '869,26', '2549,52', '5872,64', '2010', '1280', '1374,28', '2858,6', '1320', '3970', '1066,605', '758,82', '670,085', '2051,5', '481,506', '2450', '2679,82', '2261,19', '1478,49', '2750', '5526,72666666667', '1626,75', '1878,86', '1088,48', '3659,0625', '2910', '845,55', '568,7', '1113,74', '1116,49', '1686,92', '1314,11', '4680', '704,93', '2000', '1841,9', '433,306666666667', '1288,898', '3840', '1986,88', '1210', '1724,15333333333', '680', '2273,72', '687,11', '2066,905', '619,73', '1091,2', '669,12', '14990', '989,39', '2170', '3250', '6260', '87,39', '2477,64', '1141,06', '957,63', '4810', '2020', '1581,82', '1080', '2524,28', '2237,245', '2429,09', '2510,2', '3760', '1985,3', '550', '859,84', '3080', '6500', '4770', '367', '950', '1215', '4690', '5870', '3086,66666666667', '2013,19', '7010', '875,2', '370', '760', '1258,69', '2060', '2269,565', '684,89', '5428,62', '3506,07', '3410', '2127,1', '3620', '574,21', '3530', '6133,41', '605,32', '656,705', '1439,9', '1313,33333333333', '1193,9675', '1540', '1200,99', '630', '728,49', '879', '2970', '1750', '6689,82', '2554,005', '1015', '1890', '954,65', '700', '837,48', '640', '2751,25', '2585', '1220', '4020', '3140', '4190', '115,65', '4650', '989,15', '1600', '4700', '1109,855', '1749,69', '2500', '986,606666666667', '530', '1439,815', '3200', '769,915', '1299,55', '0,71', '1098,8', '2740', '911,793333333333', '2361,22', '752,923076923077', '862,43', '1033', '4300', '668,53', '5076,65', '1810', '1010', '3120', '1970', '2660', '1400', '2441,465', '1179,394', '2287,02', '1350', '2670', '517,51', '2365,47', '3480', '3089,155', '1230', '1152,15', '2701,5', '63,31', '4450', '777,84', '1470', '913,4975', '1170', '603,55', '2200', '1135', '5397,15', '1670', '4660', '8020', '820,124', '5500', '1793,66', '1790', '825,10875', '1539,13', '724,38', '1590', '3509,805', '642,31', '3890', '310', '2084,32', '558,06625', '2720', '3964,85', '5075,99', '4884,95', '1352,85714285714', '1477,37', '588,13', '5510', '2232,28333333333', '2151,50333333333', '1069,6', '1870', '2330', '3750', '407,8', '756,1', '1879,28', '1050', '1412,55', '699,78', '2550', '1608,255', '1007,36', '2247,51', '2005,15', '2210', '2959', '3010', '3762,5', '2150', '6041,86', '1953,6', '670', '1845,5', '830', '780', '2090', '1966,99', '1095,61', '1742,41', '855', '1848,05', '570', '1510', '1060', '3777,93333333333', '1040,78666666667', '1296,74', '1002,22', '1605,95', '552,57', '658,42', '1144,03', '2370,01', '3959', '980,42', '300', '2770', '879,74', '535,53', '5030', '2080', '1259,71333333333', '4472,91333333333', '647,42', '1751,37', '5269,78', '2925', '516,18', '1589,92333333333', '4920', '4200', '5410', '1440', '578,06', '1144,98', '3240', '2359,898', '2326,81', '567,16', '1003,255', '2410', '4030', '1535,89', '1164,99666666667', '5160', '1850', '94,89', '437,26', '9280', '4600', '2573,8', '490', '1413,765', '2343,41', '2732,2', '816,83', '4000', '1077,03', '1957,21', '2293,65', '3390', '510,136666666667', '1516,872', '882,01', '2464,55', '518,9', '2154,02', '324,16', '2860', '2979,31', '1636,04', '3237,94', '2360', '3539,82', '948,58', '1930,595', '4350', '1259,39', '1100', '3030', '2425', '1107,5', '1549,18', '2372,77', '3100', '2690,33333333333', '2466,8625', '5698,46', '909,424285714286', '3870,25', '763,3', '3990', '613,12', '1102,7', '7340', '3040', '1077,605', '1492,404', '4050', '4630', '1196,43', '830,7', '134,78', '1830', '1480', '1149,395', '2492,54', '2794,22333333333', '2480', '533', '1411,31', '1002,60333333333', '900', '49,35', '1070,05', '1288,7', '3600', '846,55', '1601,63', '702,23', '3509,22', '880,2', '1740,19', '631', '778,32', '596,29', '6070', '1290', '1386,115', '806,19', '1138,2', '3590', '1097,86', '1776,96666666667', '1070', '1498,26', '1237,24', '2088,86', '400', '3172,83', '4210', '6080', '7780', '1090,8', '1949,8', '4729,07', '1241,32428571429', '892,18', '1922,69', '1147,5', '2094,3', '7100', '4220', '720', '976,68', '4320', '580', '1426,72', '1591,94', '386,666666666667', '1190', '1639,99', '1459,99', '991,19', '1270', '957,46', '509,52', '3300', '3630', '1340', '908,78', '682', '5780', '1860', '1650', '2110', '3770', '1387,15', '824,581428571429', '2755,21', '2830', '110,91', '1386,96', '1560', '2441,4', '3209,5', '2130', '763,185', '2349,51', '3810', '1713,74', '1683,49', '3914,24', '2782,89', '836,79', '1900', '904,08', '2370', '1259,43', '1359,6', '2538', '5430', '3260', '59,68', '1269,82', '1411,835', '1029,75', '3127,19', '1309,89', '1250', '2900', '224,59', '1804,9', '849,19', '970,155', '930', '2270', '2510', '3460'}\n",
      "\n",
      "\n",
      "==========\n",
      "LOAN_MAX_DLQ_AMT\n",
      "{'1940', '1085,5', '648,68', '367,35', '1730', '890', '722,59', '2462,1', '1833,77', '1980', '2178', '850', '2409,01', '1222,06', '3610', '749,82', '3560', '1150', '3910', '620', '4640', '2262,12', '1745,7', '4710', '1110,39', '2650', '849,91', '2163,94', '11310', '331', '5140', '1348,68', '1052,63', '2239,37', '136,76', '975', '3201,95', '5320', '828,51', '1529,06', '1402,43', '540', '1127,76', '1706,3', '2520', '2100', '500', '3490', '1909,16', '2916,18', '4001,34', '5603,82', '1420', '3780', '772,73', '1317,06', '1429,99', '1452', '2540', '990', '789,23', '2656,68', '2497', '776,3', '4880', '1640', '3716,35', '863,68', '919,88', '2560', '937,79', '554,36', '1175,57', '1053', '1538,69', '1817,76', '2290', '1880,59', '957,59', '1398,58', '1433,4', '665,57', '2960', '62,46', '1930', '4250', '770', '1090', '5040', '1883,04', '651,16', '1780', '1671,7', '2630', '5048,19', '1066', '1056,64', '1950', '883,33', '5850', '2280', '1260', '499,69', '1007,8', '1894,04', '3440', '1649,37', '1200', '6490', '2190', '586,5', '3820', '823,54', '1056,95', '1410', '1460', '3330', '1663,27', '5170', '327,98', '1068,47', '2707,25', '3850', '4760', '892,95', '578,3', '1030', '3150', '1450', '776,6', '1942,72', '2083', '1335,47', '2647,9', '3050', '2618,78', '3660', '1240', '1010,55', '339,83', '605,59', '429,11', '1059,47', '4508,2', '2858,62', '810', '1798,49', '2760', '1344,33', '1259,1', '1672,88', '2419,9', '1509,44', '1065,62', '438,19', '1840', '1288,63', '1370', '355,04', '758,95', '4565', '1439,94', '3520', '1010,27', '2310', '1380', '1593,76', '3626,91', '1959,99', '2158,72', '560,36', '1539,2', '1760', '2497,09', '100', '2050', '2530', '802,36', '1266,34', '2112,17', '1731,06', '769,43', '446,31', '2350', '2120', '2940', '1960', '3400', '6650', '1140,2', '1370,25', '2157,32', '1391,47', '1300', '1520', '2840', '3070', '1094', '2265', '1599,9', '3940', '2920', '598,5', '1120', '1260,55', '1692,49', '2568,45', '5470', '4120', '1789,04', '880', '650', '918,28', '3220', '767,7', '2220', '2810', '6310', '7670', '2880', '966,07', '2990', '2140', '783', '901,64', '1095,89', '894,29', '2430', '2957,71', '1093,22', '604,43', '497,62', '1180', '2580', '2629,87', '430', '917,57', '6130', '2340', '1386,14', '960', '330', '3768,7', '896,31', '846,74', '1468,38', '366,58', '3060', '887,79', '2044,32', '3880', '3230', '4400', '818,74', '370,77', '2702,4', '457,71', '2950', '4490', '1570', '5550', '543,33', '820', '2610', '3501,45', '4160', '610', '599,19', '2379,46', '1614,36', '2699,88', '444', '673,89', '943,56', '798,53', '2850', '1258,49', '1130', '3971,6', '3702,8', '543,17', '2902,89', '840', '2142,2', '1550', '2090,53', '1430', '762,93', '567,51', '1679,2', '51,8', '1530', '2160', '5650', '790', '2470', '2180', '1105,07', '510', '472,11', '1800', '1716,52', '1761,03', '2300', '970', '768,97', '875,09', '3782,39', '1070,52', '1930,47', '1630', '478,13', '2202,69', '2700', '804,32', '1040', '5110', '1819,09', '2816,25', '1700', '750', '1312,44', '2119,77', '2030', '0,04', '2009', '1418,86', '1710', '800', '2680', '549,88', '981,71', '940', '2640', '1740', '2870', '1000', '954,34', '796,59', '856,64', '1508,79', '1889,43', '6200', '4164,34', '4140', '3190', '5394,29', '2059,46', '3500', '918,83', '790,77', '1139,49', '1733,88', '440', '1119,27', '3450', '1597,92', '1154,9', '3180', '2250', '3470', '1199,27', '2600', '600', '2980', '269,51', '5370', '490,88', '4620', '2040', '1500', '1820', '1770', '14870', '604,76', '3300', '1851,55', '2406,8', '1272,72', '957,4', '1792,71', '1390', '600,93', '3637,43', '1880', '2989,98', '1720', '1680', '2701,26', '965,1', '6390', '2380', '946,49', '5830', '4260', '2320', '1620', '690', '1828,89', '270', '2184,66', '3202,2', '2368,84', '3310', '4055,03', '979,63', '910', '663,05', '809,42', '4240', '0', '3433,42', '4310', '9060', '2064,03', '1020', '1670,18', '3106,29', '2590,15', '1351,06', '13920', '1134,58', '3110', '726,57', '3020', '1427,4', '714', '896,1', '2518,18', '980', '3780,1', '836,6', '918,55', '1221,92', '2796,66', '38,32', '2201,11', '2790', '3303,2', '1325,63', '5560', '4290', '2742,25', '177,34', '740', '3283,1', '240', '1489,13', '1296,4', '1160,96', '3000', '1490', '553', '2490', '3160', '3960', '1140', '736,3', '4158,85', '2263,2', '4830', '2002,45', '3360', '2281,1', '1185,5', '5980,18', '3285,74', '1006,59', '559,94', '2620', '1310', '2260', '1230,63', '1405,53', '1563,45', '5760', '776,59', '3570', '1690', '1154,34', '2400', '2230', '862,5', '2930', '289,02', '1920', '870', '3635,77', '2598,9', '827,57', '1697,22', '1677,48', '2289,89', '2710', '2570', '613,21', '2569,05', '860', '673,02', '4940', '4960', '2820', '1666,28', '1330', '2070', '2800', '3111,86', '1093,75', '4550', '216,59', '3670', '1120,93', '1860,72', '3420', '791,56', '2642,83', '849,07', '710', '1208,09', '3510', '2739,76', '730', '2890', '2590', '1283,93', '1179,86', '6660', '2258,3', '1615', '2503,19', '1931,44', '1110', '2589,2', '920', '1300,16', '502,1', '3700', '1768,07', '28012,2', '678,2', '3860,18', '481,51', '3428,56', '3170', '581,67', '1247,92', '2547,85', '1580', '821,93', '1160', '1145,85', '990,85', '1249,61', '4390', '3900', '2467,33', '4070', '1939,61', '2509,38', '1046,01', '859,92', '1176,82', '988,85', '1360', '1088,05', '1371,86', '1292,59', '812,11', '766,26', '660', '630,49', '480', '2390', '791,98', '797,16', '450', '830,53', '560', '3589,09', '4530', '1319,56', '3540', '1910', '620,75', '856,3', '4370', '489,13', '2779,4', '2440', '360', '1610', '470', '1990', '2240', '869,26', '2549,52', '5872,64', '2010', '1280', '1374,28', '2858,6', '1320', '7890', '755,76', '3970', '2051,5', '2450', '2679,82', '2261,19', '1478,49', '2750', '1626,75', '1113,74', '1116,49', '2910', '704,93', '568,7', '1686,92', '1841,9', '4680', '2000', '1302,38', '3840', '1986,88', '1210', '680', '687,11', '619,73', '669,12', '14990', '3357,52', '2170', '3250', '6260', '87,39', '2477,64', '1141,06', '1086,57', '957,63', '989,39', '1489,45', '2020', '1581,82', '2220,72', '1080', '2524,28', '2429,09', '2510,2', '3760', '1840,14', '1365', '1985,3', '550', '3080', '6500', '4770', '997,66', '473,16', '367', '950', '4690', '5870', '1479,51', '1650,53', '2013,19', '7010', '875,2', '370', '760', '2060', '2782,93', '684,89', '5428,62', '3506,07', '3410', '2127,1', '3620', '574,21', '3530', '6133,41', '605,32', '1439,9', '2398,8', '728,49', '1540', '1200,99', '630', '879', '2970', '1750', '6689,82', '1015', '1890', '1519,64', '954,65', '700', '837,48', '640', '2751,25', '3140', '1220', '4020', '5580', '2064,08', '4190', '115,65', '4650', '989,15', '1600', '4700', '1749,69', '2500', '530', '3200', '1870,69', '1299,55', '0,71', '1098,8', '2740', '2361,22', '862,43', '1033', '4300', '668,53', '5076,65', '1810', '1010', '3120', '1970', '2660', '1400', '2287,02', '1350', '2670', '517,51', '2365,47', '3480', '1230', '2375,59', '1324,5', '63,31', '4450', '777,84', '1470', '724,93', '1170', '603,55', '2200', '5397,15', '1670', '1012,9', '8020', '4660', '5500', '1793,66', '1790', '724,38', '1539,13', '1590', '642,31', '3890', '310', '1387,3', '2084,32', '2720', '3964,85', '5075,99', '572,22', '910,63', '4884,95', '1477,37', '588,13', '589,45', '1069,6', '1870', '1819,26', '2330', '3750', '407,8', '756,1', '3089,5', '2102,75', '1050', '699,78', '2550', '2247,51', '2005,15', '2210', '2959', '3010', '3762,5', '2150', '6041,86', '1953,6', '1395,7', '670', '1845,5', '830', '780', '2090', '1966,99', '1901,3', '1095,61', '1742,41', '1848,05', '570', '1510', '3018,62', '1060', '552,57', '1296,74', '1002,22', '1837,31', '1144,03', '658,42', '1408,32', '3959', '980,42', '609,52', '300', '2979,35', '2770', '879,74', '535,53', '5030', '2080', '647,42', '1783,55', '1751,37', '5269,78', '516,18', '4920', '4200', '5410', '1440', '578,06', '1144,98', '3240', '567,16', '2410', '4030', '94,89', '5160', '1850', '437,26', '9280', '4600', '2573,8', '490', '4000', '3390', '2343,41', '2732,2', '816,83', '1077,03', '1957,21', '2293,65', '620,18', '518,9', '840,4', '2154,02', '324,16', '2860', '1636,04', '3237,94', '2360', '3539,82', '948,58', '4350', '1259,39', '1100', '3030', '2425', '1549,18', '2372,77', '3100', '5698,46', '3870,25', '3990', '1102,7', '7340', '3040', '3920', '4050', '1196,43', '830,7', '134,78', '1830', '1480', '2492,54', '2480', '533', '5340', '1411,31', '1387,47', '1729,66', '900', '49,35', '1070,05', '1288,7', '3600', '846,55', '1601,63', '18310', '702,23', '961,94', '3509,22', '1090,01', '880,2', '1740,19', '631', '778,32', '596,29', '2058,71', '1290', '6070', '660,86', '806,19', '1450,22', '1138,2', '3590', '1097,86', '1070', '1498,26', '2088,86', '400', '3172,83', '4210', '6080', '1090,8', '1949,8', '4729,07', '892,18', '2094,3', '7100', '4220', '720', '976,68', '4320', '580', '1426,72', '1591,94', '1190', '1639,99', '1459,99', '991,19', '1270', '3630', '1340', '937,6', '908,78', '682', '5780', '1860', '1650', '2110', '3770', '1387,15', '2969,75', '2755,21', '2830', '110,91', '2441,4', '1560', '2130', '3810', '2349,51', '4446,3', '1683,49', '3914,24', '836,79', '1900', '904,08', '2370', '1259,43', '1359,6', '5430', '3260', '59,68', '1029,75', '3127,19', '1309,89', '1250', '2900', '224,59', '1804,9', '849,19', '826,77', '590', '930', '2270', '2510', '3460'}\n",
      "\n",
      "\n",
      "==========\n",
      "sample\n",
      "{'train'}\n",
      "\n",
      "\n"
     ]
    }
   ],
   "source": [
    "for i in df_train.columns: # перебираем все столбцы\n",
    "    if str(df_train[i].dtype) == 'object': # если тип столбца - object\n",
    "        print('='*10)\n",
    "        print(i) # выводим название столбца\n",
    "        print(set(df_train[i])) # выводим все его значения (но делаем set - чтоб значения не повторялись)\n",
    "        print('\\n') # выводим пустую строку"
   ]
  },
  {
   "cell_type": "markdown",
   "metadata": {
    "collapsed": true
   },
   "source": [
    "Mожно заметить что некоторые переменные, которые обозначены как строки (например PERSONAL_INCOME) на самом деле числа, но по какой-то причине были распознаны как строки\n",
    "\n",
    "Причина же что использовалась запятая для разделения не целой части числа.."
   ]
  },
  {
   "cell_type": "markdown",
   "metadata": {},
   "source": [
    "Перекодировать их можно например так:"
   ]
  },
  {
   "cell_type": "markdown",
   "metadata": {},
   "source": [
    "Такой эффект наблюдается в столбцах `PERSONAL_INCOME`, `CREDIT`, `FST_PAYMENT`, `LOAN_AVG_DLQ_AMT`, `LOAN_MAX_DLQ_AMT`"
   ]
  },
  {
   "cell_type": "markdown",
   "metadata": {},
   "source": [
    "# Теперь ваше небольшое исследование"
   ]
  },
  {
   "cell_type": "markdown",
   "metadata": {
    "collapsed": true
   },
   "source": [
    "#### Задание 1. Есть ли пропуски в данных? Что с ними сделать?\n",
    "\n",
    "(единственного верного ответа нет - аргументируйте)"
   ]
  },
  {
   "cell_type": "markdown",
   "metadata": {
    "collapsed": true
   },
   "source": [
    "> df_output['REGION_NM'] = df_output['REGION_NM'].fillna('REGION_Noname')\n",
    "\n",
    "> В столбце WORK_TIME были выбросы, введем ограничение:\n",
    "\n",
    "> WORK_TIME_mean = df[df['WORK_TIME']<1000]['WORK_TIME'].median(skipna=True)\n",
    "\n",
    "> df_output['WORK_TIME'].map(lambda x: x if x<1000 else WORK_TIME_median )\n",
    "\n",
    "> Остальные столбцы удалим в дальнейшем, к которых будут Nan значения.\n"
   ]
  },
  {
   "cell_type": "markdown",
   "metadata": {
    "collapsed": true
   },
   "source": [
    "## Задание 2. Есть ли категориальные признаки? Что с ними делать?"
   ]
  },
  {
   "cell_type": "markdown",
   "metadata": {},
   "source": [
    "> Категориальные признаки разнести на столбцы и проставить в соответствии 0 или 1.\n",
    "\n",
    "> Оставшиеся категориальные признаки ниже. На выходе будет датафрейм с числами."
   ]
  },
  {
   "cell_type": "markdown",
   "metadata": {},
   "source": [
    "> Оставим только \"+\" фичи:\n",
    "> '+ EDUCATION',\n",
    "> '+ MARITAL_STATUS',\n",
    "> 'GEN_INDUSTRY',\n",
    "> 'GEN_TITLE',\n",
    "> 'ORG_TP_STATE',\n",
    "> 'ORG_TP_FCAPITAL',\n",
    "> 'JOB_DIR',\n",
    "> '+ FAMILY_INCOME',\n",
    "> 'REG_ADDRESS_PROVINCE',\n",
    "> 'FACT_ADDRESS_PROVINCE',\n",
    "> 'POSTAL_ADDRESS_PROVINCE',\n",
    "> 'TP_PROVINCE',\n",
    "> '+REGION_NM',\n",
    "> '+sample'\n",
    "\n",
    "> Остальные фичи удаляем, при такой маленькой выборке делаю предположение, что \"погоды\" не сделают."
   ]
  },
  {
   "cell_type": "markdown",
   "metadata": {},
   "source": [
    "#### Задание 3. Фунция предобработки"
   ]
  },
  {
   "cell_type": "markdown",
   "metadata": {},
   "source": [
    "Напишите функцию, которая бы\n",
    "\n",
    "* Удаляло идентификатор `AGREEMENT_RK`\n",
    "* Избавлялась от проблем с '.' и ',' в стобцах PERSONAL_INCOME, CREDIT, FST_PAYMENT, LOAN_AVG_DLQ_AMT, LOAN_MAX_DLQ_AMT\n",
    "* Что-то делала с пропусками\n",
    "* Кодировала категориальные признаки\n",
    "\n",
    "В результате, ваш датафрейм должен содержать только числа и не содержать пропусков!"
   ]
  },
  {
   "cell_type": "code",
   "execution_count": 12,
   "metadata": {},
   "outputs": [
    {
     "name": "stdout",
     "output_type": "stream",
     "text": [
      "<class 'pandas.core.frame.DataFrame'>\n",
      "RangeIndex: 30133 entries, 0 to 30132\n",
      "Data columns (total 64 columns):\n",
      "TARGET                                      30133 non-null int64\n",
      "AGE                                         30133 non-null int64\n",
      "SOCSTATUS_WORK_FL                           30133 non-null int64\n",
      "SOCSTATUS_PENS_FL                           30133 non-null int64\n",
      "GENDER                                      30133 non-null int64\n",
      "CHILD_TOTAL                                 30133 non-null int64\n",
      "DEPENDANTS                                  30133 non-null int64\n",
      "PERSONAL_INCOME                             30133 non-null float64\n",
      "REG_FACT_FL                                 30133 non-null int64\n",
      "FACT_POST_FL                                30133 non-null int64\n",
      "REG_POST_FL                                 30133 non-null int64\n",
      "REG_FACT_POST_FL                            30133 non-null int64\n",
      "REG_FACT_POST_TP_FL                         30133 non-null int64\n",
      "FL_PRESENCE_FL                              30133 non-null int64\n",
      "OWN_AUTO                                    30133 non-null int64\n",
      "AUTO_RUS_FL                                 30133 non-null int64\n",
      "HS_PRESENCE_FL                              30133 non-null int64\n",
      "COT_PRESENCE_FL                             30133 non-null int64\n",
      "GAR_PRESENCE_FL                             30133 non-null int64\n",
      "LAND_PRESENCE_FL                            30133 non-null int64\n",
      "CREDIT                                      30133 non-null float64\n",
      "TERM                                        30133 non-null int64\n",
      "FST_PAYMENT                                 30133 non-null float64\n",
      "GPF_DOCUMENT_FL                             30133 non-null int64\n",
      "FACT_LIVING_TERM                            30133 non-null int64\n",
      "WORK_TIME                                   30133 non-null float64\n",
      "LOAN_NUM_TOTAL                              30133 non-null int64\n",
      "LOAN_NUM_CLOSED                             30133 non-null int64\n",
      "LOAN_NUM_PAYM                               30133 non-null int64\n",
      "LOAN_DLQ_NUM                                30133 non-null int64\n",
      "LOAN_MAX_DLQ                                30133 non-null int64\n",
      "LOAN_AVG_DLQ_AMT                            30133 non-null float64\n",
      "LOAN_MAX_DLQ_AMT                            30133 non-null float64\n",
      "PREVIOUS_CARD_NUM_UTILIZED                  30133 non-null float64\n",
      "sample                                      30133 non-null object\n",
      "EDUCATION_Высшее                            30133 non-null uint8\n",
      "EDUCATION_Два и более высших образования    30133 non-null uint8\n",
      "EDUCATION_Неоконченное высшее               30133 non-null uint8\n",
      "EDUCATION_Неполное среднее                  30133 non-null uint8\n",
      "EDUCATION_Среднее                           30133 non-null uint8\n",
      "EDUCATION_Среднее специальное               30133 non-null uint8\n",
      "EDUCATION_Ученая степень                    30133 non-null uint8\n",
      "MARITAL_STATUS_Вдовец/Вдова                 30133 non-null uint8\n",
      "MARITAL_STATUS_Гражданский брак             30133 non-null uint8\n",
      "MARITAL_STATUS_Не состоял в браке           30133 non-null uint8\n",
      "MARITAL_STATUS_Разведен(а)                  30133 non-null uint8\n",
      "MARITAL_STATUS_Состою в браке               30133 non-null uint8\n",
      "FAMILY_INCOME_до 5000 руб.                  30133 non-null uint8\n",
      "FAMILY_INCOME_от 10000 до 20000 руб.        30133 non-null uint8\n",
      "FAMILY_INCOME_от 20000 до 50000 руб.        30133 non-null uint8\n",
      "FAMILY_INCOME_от 5000 до 10000 руб.         30133 non-null uint8\n",
      "FAMILY_INCOME_свыше 50000 руб.              30133 non-null uint8\n",
      "REGION_NM_REGION_Noname                     30133 non-null uint8\n",
      "REGION_NM_ВОСТОЧНО-СИБИРСКИЙ                30133 non-null uint8\n",
      "REGION_NM_ДАЛЬНЕВОСТОЧНЫЙ                   30133 non-null uint8\n",
      "REGION_NM_ЗАПАДНО-СИБИРСКИЙ                 30133 non-null uint8\n",
      "REGION_NM_ПОВОЛЖСКИЙ                        30133 non-null uint8\n",
      "REGION_NM_ПРИВОЛЖСКИЙ                       30133 non-null uint8\n",
      "REGION_NM_СЕВЕРО-ЗАПАДНЫЙ                   30133 non-null uint8\n",
      "REGION_NM_УРАЛЬСКИЙ                         30133 non-null uint8\n",
      "REGION_NM_ЦЕНТРАЛЬНЫЙ 1                     30133 non-null uint8\n",
      "REGION_NM_ЦЕНТРАЛЬНЫЙ 2                     30133 non-null uint8\n",
      "REGION_NM_ЦЕНТРАЛЬНЫЙ ОФИС                  30133 non-null uint8\n",
      "REGION_NM_ЮЖНЫЙ                             30133 non-null uint8\n",
      "dtypes: float64(7), int64(27), object(1), uint8(29)\n",
      "memory usage: 8.9+ MB\n"
     ]
    }
   ],
   "source": [
    "def preproc_data(df_input):\n",
    "    df_output = df_input.copy()\n",
    "    \n",
    "    df_output = df_output.drop('AGREEMENT_RK', axis = 1)\n",
    "    \n",
    "    df_output['PERSONAL_INCOME'] = df_output['PERSONAL_INCOME'].map(lambda x: x.replace(',', '.')).astype('float')\n",
    "    df_output['CREDIT'] = df_output['CREDIT'].map(lambda x: x.replace(',', '.')).astype('float')\n",
    "    df_output['FST_PAYMENT'] = df_output['FST_PAYMENT'].map(lambda x: x.replace(',', '.')).astype('float')\n",
    "    df_output['LOAN_AVG_DLQ_AMT'] = df_output['LOAN_AVG_DLQ_AMT'].map(lambda x: x.replace(',', '.')).astype('float')\n",
    "    df_output['LOAN_MAX_DLQ_AMT'] = df_output['LOAN_MAX_DLQ_AMT'].map(lambda x: x.replace(',', '.')).astype('float')    \n",
    "    \n",
    "    df_output = df_output.drop(['FACT_PHONE_FL', 'REG_PHONE_FL', 'GEN_PHONE_FL','GEN_INDUSTRY',\n",
    "                    'GEN_TITLE','ORG_TP_STATE','ORG_TP_FCAPITAL','JOB_DIR','REG_ADDRESS_PROVINCE',\n",
    "                    'FACT_ADDRESS_PROVINCE','POSTAL_ADDRESS_PROVINCE','TP_PROVINCE','DL_DOCUMENT_FL'], axis = 1)\n",
    "    \n",
    "    df_output['REGION_NM'] = df_output['REGION_NM'].fillna('REGION_Noname')\n",
    "    \n",
    "    WORK_TIME_median = df[df['WORK_TIME']<1000]['WORK_TIME'].median(skipna=True)\n",
    "    df_output['WORK_TIME'] = df_output['WORK_TIME'].map(lambda x: x if x<1000 else WORK_TIME_median )\n",
    "    \n",
    "    #в описании указано что 'количество уже утилизированных карт ( если пусто = 0) '\n",
    "    df_output['PREVIOUS_CARD_NUM_UTILIZED'] = df_output['PREVIOUS_CARD_NUM_UTILIZED'].fillna(0)\n",
    "    \n",
    "    object_columns = ['EDUCATION', 'MARITAL_STATUS', 'FAMILY_INCOME', 'REGION_NM']\n",
    "    df_output = pd.get_dummies(df_output, columns=object_columns)\n",
    "    \n",
    "    ## Your Code Here\n",
    "    \n",
    "    return df_output\n",
    "\n",
    "df = preproc_data(df)\n",
    "df.info()"
   ]
  },
  {
   "cell_type": "code",
   "execution_count": 13,
   "metadata": {},
   "outputs": [],
   "source": [
    "# # посмотрим какие еще категориальные признаки остались\n",
    "\n",
    "# object_columns = []\n",
    "# for i in df.columns: # перебираем все столбцы\n",
    "#     if str(df[i].dtype) == 'object': # если тип столбца - object\n",
    "#         print('='*10)\n",
    "#         print(i) # выводим название столбца\n",
    "#         print(set(df[i])) # выводим все его значения (но делаем set - чтоб значения не повторялись)\n",
    "#         print(list(df[i].value_counts()))\n",
    "#         print('\\n') # выводим пустую строку\n",
    "#         if i in 'sample':\n",
    "#             True\n",
    "#         else:\n",
    "#             object_columns.append(i)\n",
    "\n",
    "# в этих данных большая часть Nan значений, удалим эти признаки\n",
    "\n",
    "# df = df.drop(object_columns, axis = 1)\n"
   ]
  },
  {
   "cell_type": "code",
   "execution_count": 14,
   "metadata": {},
   "outputs": [],
   "source": [
    "df_preproc = df.dropna()\n",
    "\n",
    "df_train_preproc = df_preproc.query('sample == \"train\"').drop(['sample'], axis=1)\n",
    "df_test_preproc = df_preproc.query('sample == \"test\"').drop(['sample'], axis=1)"
   ]
  },
  {
   "cell_type": "markdown",
   "metadata": {},
   "source": [
    "#### Задание 4. Отделите целевую переменную и остальные признаки\n",
    "\n",
    "Должно получится:\n",
    "* 2 матрицы: X и X_test\n",
    "* 2 вектора: y и y_test"
   ]
  },
  {
   "cell_type": "code",
   "execution_count": 15,
   "metadata": {},
   "outputs": [],
   "source": [
    "# import numpy as np\n",
    "\n",
    "# #Посмотрим на получившуюся выборку\n",
    "\n",
    "# # Compute the correlation matrix \n",
    "# # exclude 'Open' variable\n",
    "# corr_all = df_train_preproc.drop('TARGET', axis = 1).corr()\n",
    "\n",
    "# # Generate a mask for the upper triangle\n",
    "# mask = np.zeros_like(corr_all, dtype = np.bool)\n",
    "# mask[np.triu_indices_from(mask)] = True\n",
    "\n",
    "# # Set up the matplotlib figure\n",
    "# f, ax = plt.subplots(figsize = (30, 30))\n",
    "\n",
    "# # Draw the heatmap with the mask and correct aspect ratio\n",
    "# sns.heatmap(corr_all, mask = mask,\n",
    "#             square = True, linewidths = .5, ax = ax, cmap = \"BuPu\")      \n",
    "# plt.show()"
   ]
  },
  {
   "cell_type": "code",
   "execution_count": 16,
   "metadata": {},
   "outputs": [
    {
     "name": "stdout",
     "output_type": "stream",
     "text": [
      "train  (15223, 62)\n",
      "test  (14910, 62)\n"
     ]
    }
   ],
   "source": [
    "df_y_train = list(df_train_preproc['TARGET'])\n",
    "df_x_train = df_train_preproc.drop(['TARGET'], axis = 1)\n",
    "df_y_test = list(df_test_preproc['TARGET'])\n",
    "df_x_test = df_test_preproc.drop(['TARGET'], axis = 1)\n",
    "print('train ', df_x_train.shape)\n",
    "print('test ',df_x_test.shape)"
   ]
  },
  {
   "cell_type": "markdown",
   "metadata": {},
   "source": [
    "#### Задание 5. Обучение и оценка качества разных моделей"
   ]
  },
  {
   "cell_type": "code",
   "execution_count": 17,
   "metadata": {},
   "outputs": [
    {
     "name": "stderr",
     "output_type": "stream",
     "text": [
      "C:\\Users\\drsadykov\\AppData\\Local\\Continuum\\anaconda3\\lib\\site-packages\\sklearn\\cross_validation.py:41: DeprecationWarning: This module was deprecated in version 0.18 in favor of the model_selection module into which all the refactored classes and functions are moved. Also note that the interface of the new CV iterators are different from that of this module. This module will be removed in 0.20.\n",
      "  \"This module will be removed in 0.20.\", DeprecationWarning)\n"
     ]
    },
    {
     "name": "stdout",
     "output_type": "stream",
     "text": [
      "X_train  (10199, 62)\n",
      "X_test  (5024, 62)\n"
     ]
    }
   ],
   "source": [
    "# Попробовать следующие \"черные ящики\": интерфейс одинаковый \n",
    "# Постепенно мы узнаем, что они делают а сейчас учимся понимать какой работает качественнее\n",
    "#     fit, \n",
    "#     predict, \n",
    "#     predict_proba\n",
    "\n",
    "\n",
    "from sklearn.cross_validation import train_test_split\n",
    "from sklearn.linear_model import LogisticRegression  # импортируем модель машинного обучения\n",
    "from sklearn.metrics import precision_score, recall_score, accuracy_score, classification_report\n",
    "from sklearn.metrics import roc_auc_score, roc_curve\n",
    "\n",
    "X_train, X_test, y_train, y = train_test_split(df_x_train, df_y_train, test_size=0.33, random_state=42)\n",
    "print('X_train ', X_train.shape)\n",
    "print('X_test ',X_test.shape)\n"
   ]
  },
  {
   "cell_type": "code",
   "execution_count": 18,
   "metadata": {},
   "outputs": [
    {
     "name": "stdout",
     "output_type": "stream",
     "text": [
      "########## >>> LogisticRegression <<< ########## \n",
      "              precision    recall  f1-score   support\n",
      "\n",
      "          0       0.88      1.00      0.94      4414\n",
      "          1       0.40      0.00      0.01       610\n",
      "\n",
      "avg / total       0.82      0.88      0.82      5024\n",
      " \n",
      "\n",
      "########## >>> DecisionTreeClassifier <<< ########## \n",
      "              precision    recall  f1-score   support\n",
      "\n",
      "          0       0.89      0.87      0.88      4414\n",
      "          1       0.17      0.20      0.19       610\n",
      "\n",
      "avg / total       0.80      0.79      0.79      5024\n",
      " \n",
      "\n",
      "########## >>> RandomForestClassifier <<< ########## \n",
      "              precision    recall  f1-score   support\n",
      "\n",
      "          0       0.88      1.00      0.93      4414\n",
      "          1       0.43      0.02      0.04       610\n",
      "\n",
      "avg / total       0.83      0.88      0.83      5024\n",
      " \n",
      "\n"
     ]
    }
   ],
   "source": [
    "dict_model = {}\n",
    "# Повторяем код обучения и предсказывания, но обучаем на одном куске, а предсказываем на другом\n",
    "\n",
    "model1 = LogisticRegression()                     # инициализируем модель\n",
    "model1.fit(X_train, y_train)                      # обучаем модель\n",
    "predict = model1.predict(X_test)                      # делаем предсказание\n",
    "dict_model ['LogisticRegression']= [precision_score(y, predict), recall_score(y, predict), accuracy_score(y, predict)]\n",
    "print('#'*10,'>>> LogisticRegression <<<','#'*10,'\\n',classification_report(y, predict),'\\n')\n",
    "\n",
    "\n",
    "from sklearn.tree import DecisionTreeClassifier\n",
    "model2 = DecisionTreeClassifier() \n",
    "model2.fit(X_train, y_train) \n",
    "predict = model2.predict(X_test) \n",
    "dict_model['DecisionTreeClassifier'] = [precision_score(y, predict), recall_score(y, predict), accuracy_score(y, predict)]\n",
    "print('#'*10,'>>> DecisionTreeClassifier <<<','#'*10,'\\n',classification_report(y, predict),'\\n')\n",
    "\n",
    "\n",
    "from sklearn.ensemble import RandomForestClassifier\n",
    "model3 = RandomForestClassifier()\n",
    "model3.fit(X_train, y_train)  \n",
    "predict = model3.predict(X_test)\n",
    "dict_model ['RandomForestClassifier']= [precision_score(y, predict), recall_score(y, predict), accuracy_score(y, predict)]\n",
    "print('#'*10,'>>> RandomForestClassifier <<<','#'*10,'\\n',classification_report(y, predict),'\\n')"
   ]
  },
  {
   "cell_type": "code",
   "execution_count": 19,
   "metadata": {},
   "outputs": [
    {
     "data": {
      "text/plain": [
       "<matplotlib.axes._subplots.AxesSubplot at 0x1c188078390>"
      ]
     },
     "execution_count": 19,
     "metadata": {},
     "output_type": "execute_result"
    },
    {
     "data": {
      "text/plain": [
       "<matplotlib.figure.Figure at 0x1c18a8cb240>"
      ]
     },
     "metadata": {},
     "output_type": "display_data"
    },
    {
     "data": {
      "image/png": "[encoded data removed]",
      "text/plain": [
       "<matplotlib.figure.Figure at 0x1c189805eb8>"
      ]
     },
     "metadata": {},
     "output_type": "display_data"
    }
   ],
   "source": [
    "# Посчитать метрики стандартные\n",
    "# accuracy, precision, recall\n",
    "\n",
    "df_model = pd.DataFrame(dict_model).T\n",
    "df_model.columns = ['precision_score','recall_score','accuracy_score']\n",
    "\n",
    "# Визуалищировать эти метрики всех моделей на одном графике (чтоб визуально сравнить)\n",
    "# Возможно вас удивит качество! Но задача подобрана специально ;) Такое качество тоже бывает\n",
    "plt.figure(figsize=(15, 15))\n",
    "df_model.plot(kind='bar', legend=True)"
   ]
  },
  {
   "cell_type": "code",
   "execution_count": 20,
   "metadata": {},
   "outputs": [
    {
     "name": "stderr",
     "output_type": "stream",
     "text": [
      "C:\\Users\\drsadykov\\AppData\\Local\\Continuum\\anaconda3\\lib\\site-packages\\sklearn\\linear_model\\base.py:340: RuntimeWarning: overflow encountered in exp\n",
      "  np.exp(prob, prob)\n"
     ]
    },
    {
     "data": {
      "image/png": "[encoded data removed]",
      "text/plain": [
       "<matplotlib.figure.Figure at 0x1c18aa510f0>"
      ]
     },
     "metadata": {},
     "output_type": "display_data"
    }
   ],
   "source": [
    "# Потроить roc-кривые всех можелей на одном графике\n",
    "# Вывести roc_auc каждой моделе\n",
    "# Подпишите оси и линии\n",
    "\n",
    "plt.figure(figsize=(15, 5))\n",
    "\n",
    "#subplot 1\n",
    "plt.subplot(131)\n",
    "predict_proba1 = model1.predict_proba(X_test)\n",
    "fpr, tpr, thresholds = roc_curve(y, predict_proba1[:,1])\n",
    "plt.plot(fpr, tpr)\n",
    "plt.plot([0, 1], [0, 1])\n",
    "plt.ylabel('tpr')\n",
    "plt.xlabel('fpr')\n",
    "plt.grid(True)\n",
    "plt.title('LogisticRegression / ROC curve')\n",
    "plt.xlim((-0.01, 1.01))\n",
    "plt.ylim((-0.01, 1.01))\n",
    "#subplot 2\n",
    "plt.subplot(132)\n",
    "predict_proba2 = model2.predict_proba(X_test)\n",
    "fpr, tpr, thresholds = roc_curve(y, predict_proba2[:,1])\n",
    "plt.plot(fpr, tpr);\n",
    "plt.plot([0, 1], [0, 1])\n",
    "plt.ylabel('tpr')\n",
    "plt.xlabel('fpr')\n",
    "plt.axis('equal')\n",
    "plt.grid(True)\n",
    "plt.title('RandomForestClassifier / ROC curve')\n",
    "plt.xlim((-0.01, 1.01))\n",
    "plt.ylim((-0.01, 1.01))\n",
    "#subplot 3\n",
    "plt.subplot(133)\n",
    "predict_proba3 = model3.predict_proba(X_test)\n",
    "fpr, tpr, thresholds = roc_curve(y, predict_proba3[:,1])\n",
    "plt.plot(fpr, tpr)\n",
    "plt.plot([0, 1], [0, 1])\n",
    "plt.ylabel('tpr')\n",
    "plt.xlabel('fpr')\n",
    "plt.grid(True)\n",
    "plt.title('DecisionTreeClassifier / ROC curve')\n",
    "plt.xlim((-0.01, 1.01))\n",
    "plt.ylim((-0.01, 1.01))\n",
    "plt.show()"
   ]
  },
  {
   "cell_type": "code",
   "execution_count": 21,
   "metadata": {},
   "outputs": [
    {
     "name": "stdout",
     "output_type": "stream",
     "text": [
      "########## >>> AVG roc_auc for Train: <<< ########## \n",
      "Model 1. LogisticRegression\t0.63\n",
      "Model 2. RandomForestClassifier\t0.53\n",
      "Model 3. DecisionTreeClassifier\t0.61 \n"
     ]
    }
   ],
   "source": [
    "from sklearn.cross_validation import cross_val_score\n",
    "# Сделать k-fold (10 фолдов) кросс-валидацию каждой модели\n",
    "# И посчитать средний roc_auc\n",
    "\n",
    "cross1 = cross_val_score(model1,df_x_train,df_y_train,scoring='roc_auc', cv=10)\n",
    "cross2 = cross_val_score(model2,df_x_train,df_y_train,scoring='roc_auc', cv=10)\n",
    "cross3 = cross_val_score(model3,df_x_train,df_y_train,scoring='roc_auc', cv=10)\n",
    "print('#'*10,'>>> AVG roc_auc for Train: <<<','#'*10,'\\nModel 1. LogisticRegression\\t{:.2f}\\nModel 2. RandomForestClassifier\\t{:.2f}\\nModel 3. DecisionTreeClassifier\\t{:.2f} '\n",
    "      .format( (sum(cross1) / float(len(cross1))),(sum(cross2) / float(len(cross2))),(sum(cross3) / float(len(cross3))) ) )"
   ]
  },
  {
   "cell_type": "code",
   "execution_count": 22,
   "metadata": {},
   "outputs": [
    {
     "name": "stdout",
     "output_type": "stream",
     "text": [
      "########## >>> LogisticRegression for Test <<< ########## \n",
      "              precision    recall  f1-score   support\n",
      "\n",
      "          0       0.88      1.00      0.94     13160\n",
      "          1       0.11      0.00      0.00      1750\n",
      "\n",
      "avg / total       0.79      0.88      0.83     14910\n",
      " \n",
      "\n",
      "########## >>> AVG roc_auc for Train: <<< ########## \n",
      "Model 1. LogisticRegression\t0.63\n",
      "\n"
     ]
    },
    {
     "name": "stderr",
     "output_type": "stream",
     "text": [
      "C:\\Users\\drsadykov\\AppData\\Local\\Continuum\\anaconda3\\lib\\site-packages\\sklearn\\linear_model\\base.py:340: RuntimeWarning: overflow encountered in exp\n",
      "  np.exp(prob, prob)\n"
     ]
    },
    {
     "data": {
      "text/plain": [
       "(-0.01, 1.01)"
      ]
     },
     "execution_count": 22,
     "metadata": {},
     "output_type": "execute_result"
    },
    {
     "data": {
      "image/png": "[encoded data removed]",
      "text/plain": [
       "<matplotlib.figure.Figure at 0x1c18aaa3c88>"
      ]
     },
     "metadata": {},
     "output_type": "display_data"
    }
   ],
   "source": [
    "# Взять лучшую модель и сделать предсказания (с вероятностями (!!!)) для test выборки\n",
    "predict = model1.predict(df_x_test)\n",
    "\n",
    "# Померить roc_auc на тесте\n",
    "# Вывести текстом и на графике =)\n",
    "print('#'*10,'>>> LogisticRegression for Test <<<','#'*10,'\\n',classification_report(df_y_test, predict),'\\n')\n",
    "\n",
    "cross1 = cross_val_score(model1,df_x_train,df_y_train,scoring='roc_auc', cv=10)\n",
    "print('#'*10,'>>> AVG roc_auc for Train: <<<','#'*10,'\\nModel 1. LogisticRegression\\t{:.2f}\\n'.format( (sum(cross1) / float(len(cross1))) ) )\n",
    "\n",
    "\n",
    "plt.figure(figsize=(5, 5))\n",
    "predict_proba1 = model1.predict_proba(df_x_test)\n",
    "fpr, tpr, thresholds = roc_curve(df_y_test, predict_proba1[:,1])\n",
    "plt.plot(fpr, tpr)\n",
    "plt.plot([0, 1], [0, 1])\n",
    "plt.ylabel('tpr')\n",
    "plt.xlabel('fpr')\n",
    "plt.grid(True)\n",
    "plt.title('LogisticRegression for Test / ROC curve')\n",
    "plt.xlim((-0.01, 1.01))\n",
    "plt.ylim((-0.01, 1.01))"
   ]
  },
  {
   "cell_type": "markdown",
   "metadata": {},
   "source": [
    "### Больше обязательных заданий нет, но ниже вы можете провести исследование, поиграться с данными\n",
    "### Это возможность написать код, который я посмотрю и в случае чего откомметирую. ;)\n",
    "### Это не оценивается и остается на ваше усмотрение. Просто дополнительная возможность"
   ]
  },
  {
   "cell_type": "markdown",
   "metadata": {},
   "source": [
    "> Для дополнительного примера рассмотрен вариант без df = df.dropna() - т.е. в выборке оставил около 2тыс. строк"
   ]
  },
  {
   "cell_type": "code",
   "execution_count": 23,
   "metadata": {},
   "outputs": [],
   "source": [
    "df_train.loc[:, 'sample'] = 'train'\n",
    "df_test.loc[:, 'sample'] = 'test'\n",
    "df_new = df_test.append(df_train).reset_index(drop=True)\n",
    "df_new = df_new.drop(['FACT_PHONE_FL', 'REG_PHONE_FL', 'GEN_PHONE_FL','GEN_INDUSTRY',\n",
    "                    'ORG_TP_FCAPITAL','REG_ADDRESS_PROVINCE','FACT_ADDRESS_PROVINCE',\n",
    "                    'POSTAL_ADDRESS_PROVINCE','TP_PROVINCE','DL_DOCUMENT_FL',\n",
    "                   'REG_ADDRESS_PROVINCE','FACT_ADDRESS_PROVINCE','POSTAL_ADDRESS_PROVINCE',\n",
    "                   'TP_PROVINCE'], axis = 1)"
   ]
  },
  {
   "cell_type": "code",
   "execution_count": 24,
   "metadata": {},
   "outputs": [],
   "source": [
    "def preproc_data_new(df_input):\n",
    "    df_output = df_input.copy()\n",
    "    \n",
    "    df_output = df_output.drop('AGREEMENT_RK', axis = 1)\n",
    "    \n",
    "    df_output['PERSONAL_INCOME'] = df_output['PERSONAL_INCOME'].map(lambda x: x.replace(',', '.')).astype('float')\n",
    "    df_output['CREDIT'] = df_output['CREDIT'].map(lambda x: x.replace(',', '.')).astype('float')\n",
    "    df_output['FST_PAYMENT'] = df_output['FST_PAYMENT'].map(lambda x: x.replace(',', '.')).astype('float')\n",
    "    df_output['LOAN_AVG_DLQ_AMT'] = df_output['LOAN_AVG_DLQ_AMT'].map(lambda x: x.replace(',', '.')).astype('float')\n",
    "    df_output['LOAN_MAX_DLQ_AMT'] = df_output['LOAN_MAX_DLQ_AMT'].map(lambda x: x.replace(',', '.')).astype('float')    \n",
    "    \n",
    "    df_output['REGION_NM'] = df_output['REGION_NM'].fillna('Noname')\n",
    "    \n",
    "    WORK_TIME_median = df[df['WORK_TIME']<1000]['WORK_TIME'].median(skipna=True)\n",
    "    df_output['WORK_TIME'] = df_output['WORK_TIME'].map(lambda x: x if x<1000 else WORK_TIME_median )\n",
    "    \n",
    "    #в описании указано что 'количество уже утилизированных карт ( если пусто = 0) '\n",
    "    df_output['PREVIOUS_CARD_NUM_UTILIZED'] = df_output['PREVIOUS_CARD_NUM_UTILIZED'].fillna(0)\n",
    "    \n",
    "    return df_output\n",
    "\n",
    "df_new = preproc_data_new(df_new)"
   ]
  },
  {
   "cell_type": "code",
   "execution_count": 25,
   "metadata": {},
   "outputs": [
    {
     "data": {
      "text/html": [
       "<div>\n",
       "<style scoped>\n",
       "    .dataframe tbody tr th:only-of-type {\n",
       "        vertical-align: middle;\n",
       "    }\n",
       "\n",
       "    .dataframe tbody tr th {\n",
       "        vertical-align: top;\n",
       "    }\n",
       "\n",
       "    .dataframe thead th {\n",
       "        text-align: right;\n",
       "    }\n",
       "</style>\n",
       "<table border=\"1\" class=\"dataframe\">\n",
       "  <thead>\n",
       "    <tr style=\"text-align: right;\">\n",
       "      <th></th>\n",
       "      <th>GEN_TITLE</th>\n",
       "      <th>ORG_TP_STATE</th>\n",
       "      <th>JOB_DIR</th>\n",
       "    </tr>\n",
       "  </thead>\n",
       "  <tbody>\n",
       "    <tr>\n",
       "      <th>1</th>\n",
       "      <td>NaN</td>\n",
       "      <td>NaN</td>\n",
       "      <td>NaN</td>\n",
       "    </tr>\n",
       "    <tr>\n",
       "      <th>5</th>\n",
       "      <td>NaN</td>\n",
       "      <td>NaN</td>\n",
       "      <td>NaN</td>\n",
       "    </tr>\n",
       "    <tr>\n",
       "      <th>8</th>\n",
       "      <td>NaN</td>\n",
       "      <td>NaN</td>\n",
       "      <td>NaN</td>\n",
       "    </tr>\n",
       "    <tr>\n",
       "      <th>12</th>\n",
       "      <td>NaN</td>\n",
       "      <td>NaN</td>\n",
       "      <td>NaN</td>\n",
       "    </tr>\n",
       "    <tr>\n",
       "      <th>20</th>\n",
       "      <td>NaN</td>\n",
       "      <td>NaN</td>\n",
       "      <td>NaN</td>\n",
       "    </tr>\n",
       "  </tbody>\n",
       "</table>\n",
       "</div>"
      ],
      "text/plain": [
       "   GEN_TITLE ORG_TP_STATE JOB_DIR\n",
       "1        NaN          NaN     NaN\n",
       "5        NaN          NaN     NaN\n",
       "8        NaN          NaN     NaN\n",
       "12       NaN          NaN     NaN\n",
       "20       NaN          NaN     NaN"
      ]
     },
     "execution_count": 25,
     "metadata": {},
     "output_type": "execute_result"
    }
   ],
   "source": [
    "# посмотрим людей с пустыми полями: 'GEN_TITLE','ORG_TP_STATE','JOB_DIR'\n",
    "df_new[df_new['GEN_TITLE'].isnull()][['GEN_TITLE','ORG_TP_STATE','JOB_DIR']].head()"
   ]
  },
  {
   "cell_type": "code",
   "execution_count": 26,
   "metadata": {},
   "outputs": [
    {
     "name": "stdout",
     "output_type": "stream",
     "text": [
      "<class 'pandas.core.frame.DataFrame'>\n",
      "RangeIndex: 30133 entries, 0 to 30132\n",
      "Data columns (total 42 columns):\n",
      "TARGET                        30133 non-null int64\n",
      "AGE                           30133 non-null int64\n",
      "SOCSTATUS_WORK_FL             30133 non-null int64\n",
      "SOCSTATUS_PENS_FL             30133 non-null int64\n",
      "GENDER                        30133 non-null int64\n",
      "CHILD_TOTAL                   30133 non-null int64\n",
      "DEPENDANTS                    30133 non-null int64\n",
      "EDUCATION                     30133 non-null object\n",
      "MARITAL_STATUS                30133 non-null object\n",
      "GEN_TITLE                     30133 non-null object\n",
      "ORG_TP_STATE                  30133 non-null object\n",
      "JOB_DIR                       30133 non-null object\n",
      "FAMILY_INCOME                 30133 non-null object\n",
      "PERSONAL_INCOME               30133 non-null float64\n",
      "REGION_NM                     30133 non-null object\n",
      "REG_FACT_FL                   30133 non-null int64\n",
      "FACT_POST_FL                  30133 non-null int64\n",
      "REG_POST_FL                   30133 non-null int64\n",
      "REG_FACT_POST_FL              30133 non-null int64\n",
      "REG_FACT_POST_TP_FL           30133 non-null int64\n",
      "FL_PRESENCE_FL                30133 non-null int64\n",
      "OWN_AUTO                      30133 non-null int64\n",
      "AUTO_RUS_FL                   30133 non-null int64\n",
      "HS_PRESENCE_FL                30133 non-null int64\n",
      "COT_PRESENCE_FL               30133 non-null int64\n",
      "GAR_PRESENCE_FL               30133 non-null int64\n",
      "LAND_PRESENCE_FL              30133 non-null int64\n",
      "CREDIT                        30133 non-null float64\n",
      "TERM                          30133 non-null int64\n",
      "FST_PAYMENT                   30133 non-null float64\n",
      "GPF_DOCUMENT_FL               30133 non-null int64\n",
      "FACT_LIVING_TERM              30133 non-null int64\n",
      "WORK_TIME                     30133 non-null float64\n",
      "LOAN_NUM_TOTAL                30133 non-null int64\n",
      "LOAN_NUM_CLOSED               30133 non-null int64\n",
      "LOAN_NUM_PAYM                 30133 non-null int64\n",
      "LOAN_DLQ_NUM                  30133 non-null int64\n",
      "LOAN_MAX_DLQ                  30133 non-null int64\n",
      "LOAN_AVG_DLQ_AMT              30133 non-null float64\n",
      "LOAN_MAX_DLQ_AMT              30133 non-null float64\n",
      "PREVIOUS_CARD_NUM_UTILIZED    30133 non-null float64\n",
      "sample                        30133 non-null object\n",
      "dtypes: float64(7), int64(27), object(8)\n",
      "memory usage: 9.7+ MB\n"
     ]
    }
   ],
   "source": [
    "#удалим этих людей\n",
    "# df_new = df_new.dropna()\n",
    "\n",
    "#заменим их на Noname\n",
    "df_new['GEN_TITLE'] = df_new['GEN_TITLE'].fillna('Noname')\n",
    "df_new['ORG_TP_STATE'] = df_new['ORG_TP_STATE'] .fillna('Noname')\n",
    "df_new['JOB_DIR'] = df_new['JOB_DIR'].fillna('Noname')\n",
    "df_new.info()"
   ]
  },
  {
   "cell_type": "code",
   "execution_count": 27,
   "metadata": {},
   "outputs": [
    {
     "name": "stdout",
     "output_type": "stream",
     "text": [
      "==========\n",
      "GEN_TITLE\n",
      "{'Партнер', 'Военнослужащий по контракту', 'Специалист', 'Руководитель высшего звена', 'Работник сферы услуг', 'Высококвалифиц. специалист', 'Noname', 'Рабочий', 'Другое', 'Индивидуальный предприниматель', 'Руководитель среднего звена', 'Служащий', 'Руководитель низшего звена'}\n",
      "\n",
      "\n",
      "==========\n",
      "ORG_TP_STATE\n",
      "{'Частная компания', 'Частная ком. с инос. капиталом', 'Государственная комп./учреж.', 'Noname', 'Индивидуальный предприниматель', 'Некоммерческая организация'}\n",
      "\n",
      "\n",
      "==========\n",
      "JOB_DIR\n",
      "{'Участие в основ. деятельности', 'Реклама и маркетинг', 'Служба безопасности', 'Адм-хоз. и трансп. службы', 'Вспомогательный техперсонал', 'Noname', 'Кадровая служба и секретариат', 'Бухгалтерия, финансы, планир.', 'Юридическая служба', 'Пр-техн. обесп. и телеком.', 'Снабжение и сбыт'}\n",
      "\n",
      "\n"
     ]
    }
   ],
   "source": [
    "for i in df_new.columns: # перебираем все столбцы\n",
    "    if i in ['GEN_TITLE','ORG_TP_STATE','JOB_DIR']: # если тип столбца - object\n",
    "        print('='*10)\n",
    "        print(i) # выводим название столбца\n",
    "        print(set(df_new[i])) # выводим все его значения (но делаем set - чтоб значения не повторялись)\n",
    "        print('\\n') # выводим пустую строку"
   ]
  },
  {
   "cell_type": "code",
   "execution_count": 28,
   "metadata": {},
   "outputs": [
    {
     "data": {
      "text/plain": [
       "(30133, 94)"
      ]
     },
     "execution_count": 28,
     "metadata": {},
     "output_type": "execute_result"
    }
   ],
   "source": [
    "object_columns = ['EDUCATION', 'MARITAL_STATUS','GEN_TITLE','ORG_TP_STATE','JOB_DIR', 'FAMILY_INCOME', 'REGION_NM']\n",
    "df_new = pd.get_dummies(df_new, columns=object_columns)\n",
    "df_new.shape"
   ]
  },
  {
   "cell_type": "code",
   "execution_count": 29,
   "metadata": {},
   "outputs": [
    {
     "name": "stdout",
     "output_type": "stream",
     "text": [
      "train  (15223, 92)\n",
      "test  (14910, 92)\n",
      "X_train  (10199, 92)\n",
      "X_test  (5024, 92)\n"
     ]
    }
   ],
   "source": [
    "df_preproc = df_new\n",
    "\n",
    "df_train_preproc = df_preproc.query('sample == \"train\"').drop(['sample'], axis=1)\n",
    "df_test_preproc = df_preproc.query('sample == \"test\"').drop(['sample'], axis=1)\n",
    "\n",
    "df_y_train = list(df_train_preproc['TARGET'])\n",
    "df_x_train = df_train_preproc.drop(['TARGET'], axis = 1)\n",
    "df_y_test = list(df_test_preproc['TARGET'])\n",
    "df_x_test = df_test_preproc.drop(['TARGET'], axis = 1)\n",
    "print('train ', df_x_train.shape)\n",
    "print('test ',df_x_test.shape)\n",
    "\n",
    "X_train, X_test, y_train, y = train_test_split(df_x_train, df_y_train, test_size=0.33, random_state=42)\n",
    "print('X_train ', X_train.shape)\n",
    "print('X_test ',X_test.shape)"
   ]
  },
  {
   "cell_type": "code",
   "execution_count": 30,
   "metadata": {},
   "outputs": [
    {
     "name": "stdout",
     "output_type": "stream",
     "text": [
      "########## >>> LogisticRegression <<< ########## \n",
      "              precision    recall  f1-score   support\n",
      "\n",
      "          0       0.88      1.00      0.94      4414\n",
      "          1       0.43      0.00      0.01       610\n",
      "\n",
      "avg / total       0.82      0.88      0.82      5024\n",
      " \n",
      "\n",
      "########## >>> DecisionTreeClassifier <<< ########## \n",
      "              precision    recall  f1-score   support\n",
      "\n",
      "          0       0.89      0.88      0.88      4414\n",
      "          1       0.17      0.18      0.18       610\n",
      "\n",
      "avg / total       0.80      0.80      0.80      5024\n",
      " \n",
      "\n",
      "########## >>> RandomForestClassifier <<< ########## \n",
      "              precision    recall  f1-score   support\n",
      "\n",
      "          0       0.88      1.00      0.93      4414\n",
      "          1       0.37      0.02      0.03       610\n",
      "\n",
      "avg / total       0.82      0.88      0.82      5024\n",
      " \n",
      "\n"
     ]
    },
    {
     "data": {
      "text/plain": [
       "<matplotlib.figure.Figure at 0x1c18ab06dd8>"
      ]
     },
     "metadata": {},
     "output_type": "display_data"
    },
    {
     "data": {
      "image/png": "[encoded data removed]",
      "text/plain": [
       "<matplotlib.figure.Figure at 0x1c18ab06048>"
      ]
     },
     "metadata": {},
     "output_type": "display_data"
    },
    {
     "data": {
      "image/png": "[encoded data removed]",
      "text/plain": [
       "<matplotlib.figure.Figure at 0x1c18ab06240>"
      ]
     },
     "metadata": {},
     "output_type": "display_data"
    }
   ],
   "source": [
    "dict_model = {}\n",
    "# Повторяем код обучения и предсказывания, но обучаем на одном куске, а предсказываем на другом\n",
    "\n",
    "model1 = LogisticRegression()                     # инициализируем модель\n",
    "model1.fit(X_train, y_train)                      # обучаем модель\n",
    "predict = model1.predict(X_test)                      # делаем предсказание\n",
    "dict_model ['LogisticRegression']= [precision_score(y, predict), recall_score(y, predict), accuracy_score(y, predict)]\n",
    "print('#'*10,'>>> LogisticRegression <<<','#'*10,'\\n',classification_report(y, predict),'\\n')\n",
    "\n",
    "\n",
    "from sklearn.tree import DecisionTreeClassifier\n",
    "model2 = DecisionTreeClassifier() \n",
    "model2.fit(X_train, y_train) \n",
    "predict = model2.predict(X_test) \n",
    "dict_model['DecisionTreeClassifier'] = [precision_score(y, predict), recall_score(y, predict), accuracy_score(y, predict)]\n",
    "print('#'*10,'>>> DecisionTreeClassifier <<<','#'*10,'\\n',classification_report(y, predict),'\\n')\n",
    "\n",
    "\n",
    "from sklearn.ensemble import RandomForestClassifier\n",
    "model3 = RandomForestClassifier()\n",
    "model3.fit(X_train, y_train)  \n",
    "predict = model3.predict(X_test)\n",
    "dict_model ['RandomForestClassifier']= [precision_score(y, predict), recall_score(y, predict), accuracy_score(y, predict)]\n",
    "print('#'*10,'>>> RandomForestClassifier <<<','#'*10,'\\n',classification_report(y, predict),'\\n')\n",
    "\n",
    "# Посчитать метрики стандартные\n",
    "# accuracy, precision, recall\n",
    "\n",
    "df_model = pd.DataFrame(dict_model).T\n",
    "df_model.columns = ['precision_score','recall_score','accuracy_score']\n",
    "\n",
    "# Визуалищировать эти метрики всех моделей на одном графике (чтоб визуально сравнить)\n",
    "# Возможно вас удивит качество! Но задача подобрана специально ;) Такое качество тоже бывает\n",
    "plt.figure(figsize=(15, 15))\n",
    "df_model.plot(kind='bar', legend=True)\n",
    "\n",
    "# Потроить roc-кривые всех можелей на одном графике\n",
    "# Вывести roc_auc каждой моделе\n",
    "# Подпишите оси и линии\n",
    "\n",
    "plt.figure(figsize=(15, 5))\n",
    "\n",
    "#subplot 1\n",
    "plt.subplot(131)\n",
    "predict_proba1 = model1.predict_proba(X_test)\n",
    "fpr, tpr, thresholds = roc_curve(y, predict_proba1[:,1])\n",
    "plt.plot(fpr, tpr)\n",
    "plt.plot([0, 1], [0, 1])\n",
    "plt.ylabel('tpr')\n",
    "plt.xlabel('fpr')\n",
    "plt.grid(True)\n",
    "plt.title('LogisticRegression / ROC curve')\n",
    "plt.xlim((-0.01, 1.01))\n",
    "plt.ylim((-0.01, 1.01))\n",
    "#subplot 2\n",
    "plt.subplot(132)\n",
    "predict_proba2 = model2.predict_proba(X_test)\n",
    "fpr, tpr, thresholds = roc_curve(y, predict_proba2[:,1])\n",
    "plt.plot(fpr, tpr);\n",
    "plt.plot([0, 1], [0, 1])\n",
    "plt.ylabel('tpr')\n",
    "plt.xlabel('fpr')\n",
    "plt.axis('equal')\n",
    "plt.grid(True)\n",
    "plt.title('RandomForestClassifier / ROC curve')\n",
    "plt.xlim((-0.01, 1.01))\n",
    "plt.ylim((-0.01, 1.01))\n",
    "#subplot 3\n",
    "plt.subplot(133)\n",
    "predict_proba3 = model3.predict_proba(X_test)\n",
    "fpr, tpr, thresholds = roc_curve(y, predict_proba3[:,1])\n",
    "plt.plot(fpr, tpr)\n",
    "plt.plot([0, 1], [0, 1])\n",
    "plt.ylabel('tpr')\n",
    "plt.xlabel('fpr')\n",
    "plt.grid(True)\n",
    "plt.title('DecisionTreeClassifier / ROC curve')\n",
    "plt.xlim((-0.01, 1.01))\n",
    "plt.ylim((-0.01, 1.01))\n",
    "plt.show()\n"
   ]
  },
  {
   "cell_type": "code",
   "execution_count": 31,
   "metadata": {},
   "outputs": [
    {
     "name": "stdout",
     "output_type": "stream",
     "text": [
      "########## >>> AVG roc_auc for Train: <<< ########## \n",
      "Model 1. LogisticRegression\t0.64\n",
      "Model 2. RandomForestClassifier\t0.52\n",
      "Model 3. DecisionTreeClassifier\t0.60 \n",
      "########## >>> LogisticRegression for Test <<< ########## \n",
      "              precision    recall  f1-score   support\n",
      "\n",
      "          0       0.88      1.00      0.94     13160\n",
      "          1       0.10      0.00      0.00      1750\n",
      "\n",
      "avg / total       0.79      0.88      0.83     14910\n",
      " \n",
      "\n",
      "\n",
      "########## >>> AVG roc_auc for Train: <<< ########## \n",
      "Model 1. LogisticRegression\t0.64\n",
      "\n"
     ]
    },
    {
     "data": {
      "text/plain": [
       "(-0.01, 1.01)"
      ]
     },
     "execution_count": 31,
     "metadata": {},
     "output_type": "execute_result"
    },
    {
     "data": {
      "image/png": "[encoded data removed]",
      "text/plain": [
       "<matplotlib.figure.Figure at 0x1c1872abd68>"
      ]
     },
     "metadata": {},
     "output_type": "display_data"
    }
   ],
   "source": [
    "from sklearn.cross_validation import cross_val_score\n",
    "# Сделать k-fold (10 фолдов) кросс-валидацию каждой модели\n",
    "# И посчитать средний roc_auc\n",
    "\n",
    "cross1 = cross_val_score(model1,df_x_train,df_y_train,scoring='roc_auc', cv=10)\n",
    "cross2 = cross_val_score(model2,df_x_train,df_y_train,scoring='roc_auc', cv=10)\n",
    "cross3 = cross_val_score(model3,df_x_train,df_y_train,scoring='roc_auc', cv=10)\n",
    "print('#'*10,'>>> AVG roc_auc for Train: <<<','#'*10,'\\nModel 1. LogisticRegression\\t{:.2f}\\nModel 2. RandomForestClassifier\\t{:.2f}\\nModel 3. DecisionTreeClassifier\\t{:.2f} '.format( (sum(cross1) / float(len(cross1))),(sum(cross2) / float(len(cross2))),(sum(cross3) / float(len(cross3))) ) )\n",
    "\n",
    "# Взять лучшую модель и сделать предсказания (с вероятностями (!!!)) для test выборки\n",
    "predict = model1.predict(df_x_test)\n",
    "\n",
    "# Померить roc_auc на тесте\n",
    "# Вывести текстом и на графике =)\n",
    "print('#'*10,'>>> LogisticRegression for Test <<<','#'*10,'\\n',classification_report(df_y_test, predict),'\\n\\n')\n",
    "\n",
    "cross1 = cross_val_score(model1,df_x_train,df_y_train,scoring='roc_auc', cv=10)\n",
    "print('#'*10,'>>> AVG roc_auc for Train: <<<','#'*10,'\\nModel 1. LogisticRegression\\t{:.2f}\\n'.format( (sum(cross1) / float(len(cross1))) ) )\n",
    "\n",
    "\n",
    "plt.figure(figsize=(5, 5))\n",
    "predict_proba1 = model1.predict_proba(df_x_test)\n",
    "fpr, tpr, thresholds = roc_curve(df_y_test, predict_proba1[:,1])\n",
    "plt.plot(fpr, tpr)\n",
    "plt.plot([0, 1], [0, 1])\n",
    "plt.ylabel('tpr')\n",
    "plt.xlabel('fpr')\n",
    "plt.grid(True)\n",
    "plt.title('LogisticRegression for Test / ROC curve')\n",
    "plt.xlim((-0.01, 1.01))\n",
    "plt.ylim((-0.01, 1.01))\n"
   ]
  },
  {
   "cell_type": "code",
   "execution_count": 32,
   "metadata": {},
   "outputs": [],
   "source": [
    "plt.rcParams['figure.figsize'] = (10,10)"
   ]
  },
  {
   "cell_type": "code",
   "execution_count": 33,
   "metadata": {},
   "outputs": [
    {
     "data": {
      "text/plain": [
       "(-0.01, 1.01)"
      ]
     },
     "execution_count": 33,
     "metadata": {},
     "output_type": "execute_result"
    },
    {
     "data": {
      "image/png": "[encoded data removed]",
      "text/plain": [
       "<matplotlib.figure.Figure at 0x1c18abed240>"
      ]
     },
     "metadata": {},
     "output_type": "display_data"
    }
   ],
   "source": [
    "plt.plot(fpr, tpr)\n",
    "plt.plot([0, 1], [0, 1])\n",
    "plt.ylabel('tpr')\n",
    "plt.xlabel('fpr')\n",
    "plt.grid(True)\n",
    "plt.title('LogisticRegression for Test / ROC curve')\n",
    "plt.xlim((-0.01, 1.01))\n",
    "plt.ylim((-0.01, 1.01))"
   ]
  },
  {
   "cell_type": "code",
   "execution_count": null,
   "metadata": {},
   "outputs": [],
   "source": []
  },
  {
   "cell_type": "code",
   "execution_count": null,
   "metadata": {},
   "outputs": [],
   "source": []
  }
 ],
 "metadata": {
  "anaconda-cloud": {},
  "kernelspec": {
   "display_name": "Python 3",
   "language": "python",
   "name": "python3"
  },
  "language_info": {
   "codemirror_mode": {
    "name": "ipython",
    "version": 3
   },
   "file_extension": ".py",
   "mimetype": "text/x-python",
   "name": "python",
   "nbconvert_exporter": "python",
   "pygments_lexer": "ipython3",
   "version": "3.6.4"
  },
  "toc": {
   "base_numbering": 1,
   "nav_menu": {
    "height": "31px",
    "width": "253px"
   },
   "number_sections": false,
   "sideBar": true,
   "skip_h1_title": false,
   "title_cell": "Table of Contents",
   "title_sidebar": "Contents",
   "toc_cell": false,
   "toc_position": {},
   "toc_section_display": "block",
   "toc_window_display": false
  }
 },
 "nbformat": 4,
 "nbformat_minor": 2
}
